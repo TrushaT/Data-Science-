{
  "cells": [
    {
      "cell_type": "markdown",
      "metadata": {
        "id": "view-in-github",
        "colab_type": "text"
      },
      "source": [
        "<a href=\"https://colab.research.google.com/github/TrushaT/Data-Science-/blob/main/DS_Exp1.ipynb\" target=\"_parent\"><img src=\"https://colab.research.google.com/assets/colab-badge.svg\" alt=\"Open In Colab\"/></a>"
      ]
    },
    {
      "cell_type": "markdown",
      "id": "protective-alexandria",
      "metadata": {
        "id": "protective-alexandria"
      },
      "source": [
        "Name: Trusha Talati  \n",
        "UID: 2018130054"
      ]
    },
    {
      "cell_type": "markdown",
      "id": "tight-mission",
      "metadata": {
        "id": "tight-mission"
      },
      "source": [
        "## Exp 1 A "
      ]
    },
    {
      "cell_type": "markdown",
      "id": "honest-bloom",
      "metadata": {
        "id": "honest-bloom"
      },
      "source": [
        "### Step 1. Load the dataset"
      ]
    },
    {
      "cell_type": "code",
      "execution_count": 161,
      "id": "irish-tournament",
      "metadata": {
        "id": "irish-tournament"
      },
      "outputs": [],
      "source": [
        "#importing required libraries \n",
        "import pandas as pd\n",
        "import numpy as np\n",
        "import matplotlib.pyplot as plt\n",
        "import seaborn as sns"
      ]
    },
    {
      "cell_type": "code",
      "source": [
        "from google.colab import drive #mounting google drive which contains the dataset \n",
        "drive.mount('/content/drive')"
      ],
      "metadata": {
        "colab": {
          "base_uri": "https://localhost:8080/"
        },
        "id": "qwrL-iabHlWZ",
        "outputId": "b73577e8-0adc-4c08-8009-561b824fcbf9"
      },
      "id": "qwrL-iabHlWZ",
      "execution_count": 162,
      "outputs": [
        {
          "output_type": "stream",
          "name": "stdout",
          "text": [
            "Drive already mounted at /content/drive; to attempt to forcibly remount, call drive.mount(\"/content/drive\", force_remount=True).\n"
          ]
        }
      ]
    },
    {
      "cell_type": "code",
      "source": [
        "%cd /content/drive/MyDrive/DS"
      ],
      "metadata": {
        "colab": {
          "base_uri": "https://localhost:8080/"
        },
        "id": "aTDa1ZStHttl",
        "outputId": "742aa101-97a3-4903-ebc1-0ad815a89920"
      },
      "id": "aTDa1ZStHttl",
      "execution_count": 163,
      "outputs": [
        {
          "output_type": "stream",
          "name": "stdout",
          "text": [
            "/content/drive/MyDrive/DS\n"
          ]
        }
      ]
    },
    {
      "cell_type": "code",
      "source": [
        "%pwd # checking the present directory which contains the dataset"
      ],
      "metadata": {
        "colab": {
          "base_uri": "https://localhost:8080/",
          "height": 0
        },
        "id": "kD-JkCCrHvYt",
        "outputId": "2aa6f058-370a-4b37-8ede-0249de042f9f"
      },
      "id": "kD-JkCCrHvYt",
      "execution_count": 164,
      "outputs": [
        {
          "output_type": "execute_result",
          "data": {
            "application/vnd.google.colaboratory.intrinsic+json": {
              "type": "string"
            },
            "text/plain": [
              "'/content/drive/MyDrive/DS'"
            ]
          },
          "metadata": {},
          "execution_count": 164
        }
      ]
    },
    {
      "cell_type": "code",
      "execution_count": 165,
      "id": "legislative-general",
      "metadata": {
        "id": "legislative-general"
      },
      "outputs": [],
      "source": [
        "import pandas as pd  #importing pandas \n",
        "df = pd.read_csv('horse.csv', encoding='cp1252', delimiter=',', quotechar='\"') # reading the csv file "
      ]
    },
    {
      "cell_type": "code",
      "execution_count": 166,
      "id": "sealed-singles",
      "metadata": {
        "colab": {
          "base_uri": "https://localhost:8080/",
          "height": 0
        },
        "id": "sealed-singles",
        "outputId": "6ba6c056-e58f-485e-aedc-dd9d6b1cc236"
      },
      "outputs": [
        {
          "output_type": "execute_result",
          "data": {
            "text/html": [
              "\n",
              "  <div id=\"df-c78ee8c4-1096-42f0-95f9-1e170904f5f5\">\n",
              "    <div class=\"colab-df-container\">\n",
              "      <div>\n",
              "<style scoped>\n",
              "    .dataframe tbody tr th:only-of-type {\n",
              "        vertical-align: middle;\n",
              "    }\n",
              "\n",
              "    .dataframe tbody tr th {\n",
              "        vertical-align: top;\n",
              "    }\n",
              "\n",
              "    .dataframe thead th {\n",
              "        text-align: right;\n",
              "    }\n",
              "</style>\n",
              "<table border=\"1\" class=\"dataframe\">\n",
              "  <thead>\n",
              "    <tr style=\"text-align: right;\">\n",
              "      <th></th>\n",
              "      <th>surgery</th>\n",
              "      <th>age</th>\n",
              "      <th>hospital_number</th>\n",
              "      <th>rectal_temp</th>\n",
              "      <th>pulse</th>\n",
              "      <th>respiratory_rate</th>\n",
              "      <th>temp_of_extremities</th>\n",
              "      <th>peripheral_pulse</th>\n",
              "      <th>mucous_membrane</th>\n",
              "      <th>capillary_refill_time</th>\n",
              "      <th>pain</th>\n",
              "      <th>peristalsis</th>\n",
              "      <th>abdominal_distention</th>\n",
              "      <th>nasogastric_tube</th>\n",
              "      <th>nasogastric_reflux</th>\n",
              "      <th>nasogastric_reflux_ph</th>\n",
              "      <th>rectal_exam_feces</th>\n",
              "      <th>abdomen</th>\n",
              "      <th>packed_cell_volume</th>\n",
              "      <th>total_protein</th>\n",
              "      <th>abdomo_appearance</th>\n",
              "      <th>abdomo_protein</th>\n",
              "      <th>outcome</th>\n",
              "      <th>surgical_lesion</th>\n",
              "      <th>lesion_1</th>\n",
              "      <th>lesion_2</th>\n",
              "      <th>lesion_3</th>\n",
              "      <th>cp_data</th>\n",
              "    </tr>\n",
              "  </thead>\n",
              "  <tbody>\n",
              "    <tr>\n",
              "      <th>0</th>\n",
              "      <td>no</td>\n",
              "      <td>adult</td>\n",
              "      <td>530101</td>\n",
              "      <td>38.5</td>\n",
              "      <td>66.0</td>\n",
              "      <td>28.0</td>\n",
              "      <td>cool</td>\n",
              "      <td>reduced</td>\n",
              "      <td>NaN</td>\n",
              "      <td>more_3_sec</td>\n",
              "      <td>extreme_pain</td>\n",
              "      <td>absent</td>\n",
              "      <td>severe</td>\n",
              "      <td>NaN</td>\n",
              "      <td>NaN</td>\n",
              "      <td>NaN</td>\n",
              "      <td>decreased</td>\n",
              "      <td>distend_large</td>\n",
              "      <td>45.0</td>\n",
              "      <td>8.4</td>\n",
              "      <td>NaN</td>\n",
              "      <td>NaN</td>\n",
              "      <td>died</td>\n",
              "      <td>no</td>\n",
              "      <td>11300</td>\n",
              "      <td>0</td>\n",
              "      <td>0</td>\n",
              "      <td>no</td>\n",
              "    </tr>\n",
              "    <tr>\n",
              "      <th>1</th>\n",
              "      <td>yes</td>\n",
              "      <td>adult</td>\n",
              "      <td>534817</td>\n",
              "      <td>39.2</td>\n",
              "      <td>88.0</td>\n",
              "      <td>20.0</td>\n",
              "      <td>NaN</td>\n",
              "      <td>NaN</td>\n",
              "      <td>pale_cyanotic</td>\n",
              "      <td>less_3_sec</td>\n",
              "      <td>mild_pain</td>\n",
              "      <td>absent</td>\n",
              "      <td>slight</td>\n",
              "      <td>NaN</td>\n",
              "      <td>NaN</td>\n",
              "      <td>NaN</td>\n",
              "      <td>absent</td>\n",
              "      <td>other</td>\n",
              "      <td>50.0</td>\n",
              "      <td>85.0</td>\n",
              "      <td>cloudy</td>\n",
              "      <td>2.0</td>\n",
              "      <td>euthanized</td>\n",
              "      <td>no</td>\n",
              "      <td>2208</td>\n",
              "      <td>0</td>\n",
              "      <td>0</td>\n",
              "      <td>no</td>\n",
              "    </tr>\n",
              "    <tr>\n",
              "      <th>2</th>\n",
              "      <td>no</td>\n",
              "      <td>adult</td>\n",
              "      <td>530334</td>\n",
              "      <td>38.3</td>\n",
              "      <td>40.0</td>\n",
              "      <td>24.0</td>\n",
              "      <td>normal</td>\n",
              "      <td>normal</td>\n",
              "      <td>pale_pink</td>\n",
              "      <td>less_3_sec</td>\n",
              "      <td>mild_pain</td>\n",
              "      <td>hypomotile</td>\n",
              "      <td>none</td>\n",
              "      <td>NaN</td>\n",
              "      <td>NaN</td>\n",
              "      <td>NaN</td>\n",
              "      <td>normal</td>\n",
              "      <td>normal</td>\n",
              "      <td>33.0</td>\n",
              "      <td>6.7</td>\n",
              "      <td>NaN</td>\n",
              "      <td>NaN</td>\n",
              "      <td>lived</td>\n",
              "      <td>no</td>\n",
              "      <td>0</td>\n",
              "      <td>0</td>\n",
              "      <td>0</td>\n",
              "      <td>yes</td>\n",
              "    </tr>\n",
              "    <tr>\n",
              "      <th>3</th>\n",
              "      <td>yes</td>\n",
              "      <td>young</td>\n",
              "      <td>5290409</td>\n",
              "      <td>39.1</td>\n",
              "      <td>164.0</td>\n",
              "      <td>84.0</td>\n",
              "      <td>cold</td>\n",
              "      <td>normal</td>\n",
              "      <td>dark_cyanotic</td>\n",
              "      <td>more_3_sec</td>\n",
              "      <td>depressed</td>\n",
              "      <td>absent</td>\n",
              "      <td>severe</td>\n",
              "      <td>none</td>\n",
              "      <td>less_1_liter</td>\n",
              "      <td>5.0</td>\n",
              "      <td>decreased</td>\n",
              "      <td>NaN</td>\n",
              "      <td>48.0</td>\n",
              "      <td>7.2</td>\n",
              "      <td>serosanguious</td>\n",
              "      <td>5.3</td>\n",
              "      <td>died</td>\n",
              "      <td>yes</td>\n",
              "      <td>2208</td>\n",
              "      <td>0</td>\n",
              "      <td>0</td>\n",
              "      <td>yes</td>\n",
              "    </tr>\n",
              "    <tr>\n",
              "      <th>4</th>\n",
              "      <td>no</td>\n",
              "      <td>adult</td>\n",
              "      <td>530255</td>\n",
              "      <td>37.3</td>\n",
              "      <td>104.0</td>\n",
              "      <td>35.0</td>\n",
              "      <td>NaN</td>\n",
              "      <td>NaN</td>\n",
              "      <td>dark_cyanotic</td>\n",
              "      <td>more_3_sec</td>\n",
              "      <td>NaN</td>\n",
              "      <td>NaN</td>\n",
              "      <td>NaN</td>\n",
              "      <td>NaN</td>\n",
              "      <td>NaN</td>\n",
              "      <td>NaN</td>\n",
              "      <td>NaN</td>\n",
              "      <td>NaN</td>\n",
              "      <td>74.0</td>\n",
              "      <td>7.4</td>\n",
              "      <td>NaN</td>\n",
              "      <td>NaN</td>\n",
              "      <td>died</td>\n",
              "      <td>no</td>\n",
              "      <td>4300</td>\n",
              "      <td>0</td>\n",
              "      <td>0</td>\n",
              "      <td>no</td>\n",
              "    </tr>\n",
              "  </tbody>\n",
              "</table>\n",
              "</div>\n",
              "      <button class=\"colab-df-convert\" onclick=\"convertToInteractive('df-c78ee8c4-1096-42f0-95f9-1e170904f5f5')\"\n",
              "              title=\"Convert this dataframe to an interactive table.\"\n",
              "              style=\"display:none;\">\n",
              "        \n",
              "  <svg xmlns=\"http://www.w3.org/2000/svg\" height=\"24px\"viewBox=\"0 0 24 24\"\n",
              "       width=\"24px\">\n",
              "    <path d=\"M0 0h24v24H0V0z\" fill=\"none\"/>\n",
              "    <path d=\"M18.56 5.44l.94 2.06.94-2.06 2.06-.94-2.06-.94-.94-2.06-.94 2.06-2.06.94zm-11 1L8.5 8.5l.94-2.06 2.06-.94-2.06-.94L8.5 2.5l-.94 2.06-2.06.94zm10 10l.94 2.06.94-2.06 2.06-.94-2.06-.94-.94-2.06-.94 2.06-2.06.94z\"/><path d=\"M17.41 7.96l-1.37-1.37c-.4-.4-.92-.59-1.43-.59-.52 0-1.04.2-1.43.59L10.3 9.45l-7.72 7.72c-.78.78-.78 2.05 0 2.83L4 21.41c.39.39.9.59 1.41.59.51 0 1.02-.2 1.41-.59l7.78-7.78 2.81-2.81c.8-.78.8-2.07 0-2.86zM5.41 20L4 18.59l7.72-7.72 1.47 1.35L5.41 20z\"/>\n",
              "  </svg>\n",
              "      </button>\n",
              "      \n",
              "  <style>\n",
              "    .colab-df-container {\n",
              "      display:flex;\n",
              "      flex-wrap:wrap;\n",
              "      gap: 12px;\n",
              "    }\n",
              "\n",
              "    .colab-df-convert {\n",
              "      background-color: #E8F0FE;\n",
              "      border: none;\n",
              "      border-radius: 50%;\n",
              "      cursor: pointer;\n",
              "      display: none;\n",
              "      fill: #1967D2;\n",
              "      height: 32px;\n",
              "      padding: 0 0 0 0;\n",
              "      width: 32px;\n",
              "    }\n",
              "\n",
              "    .colab-df-convert:hover {\n",
              "      background-color: #E2EBFA;\n",
              "      box-shadow: 0px 1px 2px rgba(60, 64, 67, 0.3), 0px 1px 3px 1px rgba(60, 64, 67, 0.15);\n",
              "      fill: #174EA6;\n",
              "    }\n",
              "\n",
              "    [theme=dark] .colab-df-convert {\n",
              "      background-color: #3B4455;\n",
              "      fill: #D2E3FC;\n",
              "    }\n",
              "\n",
              "    [theme=dark] .colab-df-convert:hover {\n",
              "      background-color: #434B5C;\n",
              "      box-shadow: 0px 1px 3px 1px rgba(0, 0, 0, 0.15);\n",
              "      filter: drop-shadow(0px 1px 2px rgba(0, 0, 0, 0.3));\n",
              "      fill: #FFFFFF;\n",
              "    }\n",
              "  </style>\n",
              "\n",
              "      <script>\n",
              "        const buttonEl =\n",
              "          document.querySelector('#df-c78ee8c4-1096-42f0-95f9-1e170904f5f5 button.colab-df-convert');\n",
              "        buttonEl.style.display =\n",
              "          google.colab.kernel.accessAllowed ? 'block' : 'none';\n",
              "\n",
              "        async function convertToInteractive(key) {\n",
              "          const element = document.querySelector('#df-c78ee8c4-1096-42f0-95f9-1e170904f5f5');\n",
              "          const dataTable =\n",
              "            await google.colab.kernel.invokeFunction('convertToInteractive',\n",
              "                                                     [key], {});\n",
              "          if (!dataTable) return;\n",
              "\n",
              "          const docLinkHtml = 'Like what you see? Visit the ' +\n",
              "            '<a target=\"_blank\" href=https://colab.research.google.com/notebooks/data_table.ipynb>data table notebook</a>'\n",
              "            + ' to learn more about interactive tables.';\n",
              "          element.innerHTML = '';\n",
              "          dataTable['output_type'] = 'display_data';\n",
              "          await google.colab.output.renderOutput(dataTable, element);\n",
              "          const docLink = document.createElement('div');\n",
              "          docLink.innerHTML = docLinkHtml;\n",
              "          element.appendChild(docLink);\n",
              "        }\n",
              "      </script>\n",
              "    </div>\n",
              "  </div>\n",
              "  "
            ],
            "text/plain": [
              "  surgery    age  hospital_number  ...  lesion_2  lesion_3  cp_data\n",
              "0      no  adult           530101  ...         0         0       no\n",
              "1     yes  adult           534817  ...         0         0       no\n",
              "2      no  adult           530334  ...         0         0      yes\n",
              "3     yes  young          5290409  ...         0         0      yes\n",
              "4      no  adult           530255  ...         0         0       no\n",
              "\n",
              "[5 rows x 28 columns]"
            ]
          },
          "metadata": {},
          "execution_count": 166
        }
      ],
      "source": [
        "df.head()"
      ]
    },
    {
      "cell_type": "code",
      "execution_count": 167,
      "id": "serial-barrier",
      "metadata": {
        "colab": {
          "base_uri": "https://localhost:8080/"
        },
        "id": "serial-barrier",
        "outputId": "6bbb87dd-111f-43cd-e5f0-f22b6ff1e4c4"
      },
      "outputs": [
        {
          "output_type": "stream",
          "name": "stdout",
          "text": [
            "<class 'pandas.core.frame.DataFrame'>\n",
            "RangeIndex: 299 entries, 0 to 298\n",
            "Data columns (total 28 columns):\n",
            " #   Column                 Non-Null Count  Dtype  \n",
            "---  ------                 --------------  -----  \n",
            " 0   surgery                299 non-null    object \n",
            " 1   age                    299 non-null    object \n",
            " 2   hospital_number        299 non-null    int64  \n",
            " 3   rectal_temp            239 non-null    float64\n",
            " 4   pulse                  275 non-null    float64\n",
            " 5   respiratory_rate       241 non-null    float64\n",
            " 6   temp_of_extremities    243 non-null    object \n",
            " 7   peripheral_pulse       230 non-null    object \n",
            " 8   mucous_membrane        252 non-null    object \n",
            " 9   capillary_refill_time  267 non-null    object \n",
            " 10  pain                   244 non-null    object \n",
            " 11  peristalsis            255 non-null    object \n",
            " 12  abdominal_distention   243 non-null    object \n",
            " 13  nasogastric_tube       195 non-null    object \n",
            " 14  nasogastric_reflux     193 non-null    object \n",
            " 15  nasogastric_reflux_ph  53 non-null     float64\n",
            " 16  rectal_exam_feces      197 non-null    object \n",
            " 17  abdomen                181 non-null    object \n",
            " 18  packed_cell_volume     270 non-null    float64\n",
            " 19  total_protein          266 non-null    float64\n",
            " 20  abdomo_appearance      134 non-null    object \n",
            " 21  abdomo_protein         101 non-null    float64\n",
            " 22  outcome                299 non-null    object \n",
            " 23  surgical_lesion        299 non-null    object \n",
            " 24  lesion_1               299 non-null    int64  \n",
            " 25  lesion_2               299 non-null    int64  \n",
            " 26  lesion_3               299 non-null    int64  \n",
            " 27  cp_data                299 non-null    object \n",
            "dtypes: float64(7), int64(4), object(17)\n",
            "memory usage: 65.5+ KB\n"
          ]
        }
      ],
      "source": [
        "df.info()"
      ]
    },
    {
      "cell_type": "markdown",
      "id": "brilliant-summary",
      "metadata": {
        "id": "brilliant-summary"
      },
      "source": [
        "We can see that some columns have null values which need to be handled"
      ]
    },
    {
      "cell_type": "code",
      "execution_count": 168,
      "id": "mediterranean-holly",
      "metadata": {
        "colab": {
          "base_uri": "https://localhost:8080/"
        },
        "id": "mediterranean-holly",
        "outputId": "22b54d92-1ce3-4c44-a0db-1285782bb194"
      },
      "outputs": [
        {
          "output_type": "stream",
          "name": "stdout",
          "text": [
            "Shape of data (samples, features):  (299, 28)\n"
          ]
        }
      ],
      "source": [
        "print(\"Shape of data (samples, features): \",df.shape)"
      ]
    },
    {
      "cell_type": "markdown",
      "id": "multiple-martin",
      "metadata": {
        "id": "multiple-martin"
      },
      "source": [
        "The dataset has 299 rows and 28 columns"
      ]
    },
    {
      "cell_type": "code",
      "execution_count": 169,
      "id": "close-former",
      "metadata": {
        "colab": {
          "base_uri": "https://localhost:8080/"
        },
        "id": "close-former",
        "outputId": "5e3e34a9-f9e1-44f1-ecee-fb277c9d0f3c"
      },
      "outputs": [
        {
          "output_type": "execute_result",
          "data": {
            "text/plain": [
              "object     17\n",
              "float64     7\n",
              "int64       4\n",
              "dtype: int64"
            ]
          },
          "metadata": {},
          "execution_count": 169
        }
      ],
      "source": [
        "df.dtypes.value_counts()"
      ]
    },
    {
      "cell_type": "markdown",
      "id": "turkish-floor",
      "metadata": {
        "id": "turkish-floor"
      },
      "source": [
        "17 - categorical columns and 11 - numeric"
      ]
    },
    {
      "cell_type": "code",
      "execution_count": 170,
      "id": "collected-crime",
      "metadata": {
        "colab": {
          "base_uri": "https://localhost:8080/"
        },
        "id": "collected-crime",
        "outputId": "2784ab03-723c-44d3-93a1-5d2cdcf931ac"
      },
      "outputs": [
        {
          "output_type": "execute_result",
          "data": {
            "text/plain": [
              "surgery                   0.000000\n",
              "age                       0.000000\n",
              "hospital_number           0.000000\n",
              "rectal_temp              20.066890\n",
              "pulse                     8.026756\n",
              "respiratory_rate         19.397993\n",
              "temp_of_extremities      18.729097\n",
              "peripheral_pulse         23.076923\n",
              "mucous_membrane          15.719064\n",
              "capillary_refill_time    10.702341\n",
              "pain                     18.394649\n",
              "peristalsis              14.715719\n",
              "abdominal_distention     18.729097\n",
              "nasogastric_tube         34.782609\n",
              "nasogastric_reflux       35.451505\n",
              "nasogastric_reflux_ph    82.274247\n",
              "rectal_exam_feces        34.113712\n",
              "abdomen                  39.464883\n",
              "packed_cell_volume        9.698997\n",
              "total_protein            11.036789\n",
              "abdomo_appearance        55.183946\n",
              "abdomo_protein           66.220736\n",
              "outcome                   0.000000\n",
              "surgical_lesion           0.000000\n",
              "lesion_1                  0.000000\n",
              "lesion_2                  0.000000\n",
              "lesion_3                  0.000000\n",
              "cp_data                   0.000000\n",
              "dtype: float64"
            ]
          },
          "metadata": {},
          "execution_count": 170
        }
      ],
      "source": [
        "# Finding percentage of null values for each column\n",
        "nan_per = df.isna().sum()/len(df)*100\n",
        "nan_per"
      ]
    },
    {
      "cell_type": "markdown",
      "id": "authorized-rover",
      "metadata": {
        "id": "authorized-rover"
      },
      "source": [
        "Columns like nasogastric_reflux_ph, abdomo_appearance, abdomo_protein have more than 50% null values "
      ]
    },
    {
      "cell_type": "markdown",
      "id": "standard-hours",
      "metadata": {
        "id": "standard-hours"
      },
      "source": [
        "#### Categorical and Numeric feature divison "
      ]
    },
    {
      "cell_type": "code",
      "execution_count": 171,
      "id": "falling-warehouse",
      "metadata": {
        "colab": {
          "base_uri": "https://localhost:8080/"
        },
        "id": "falling-warehouse",
        "outputId": "95f55315-e497-4cf9-aeeb-a95aa4a2d326"
      },
      "outputs": [
        {
          "output_type": "stream",
          "name": "stdout",
          "text": [
            "17 Object(Categorical) Columns are \n",
            " ['surgery', 'age', 'temp_of_extremities', 'peripheral_pulse', 'mucous_membrane', 'capillary_refill_time', 'pain', 'peristalsis', 'abdominal_distention', 'nasogastric_tube', 'nasogastric_reflux', 'rectal_exam_feces', 'abdomen', 'abdomo_appearance', 'outcome', 'surgical_lesion', 'cp_data'] \n",
            "\n",
            "11 Non-object(Numeric) columns are \n",
            " ['hospital_number', 'rectal_temp', 'pulse', 'respiratory_rate', 'nasogastric_reflux_ph', 'packed_cell_volume', 'total_protein', 'abdomo_protein', 'lesion_1', 'lesion_2', 'lesion_3']\n"
          ]
        }
      ],
      "source": [
        "obj_columns = []\n",
        "nonobj_columns = []\n",
        "for col in df.columns.values:\n",
        "    if df[col].dtype=='object':\n",
        "        obj_columns.append(col)\n",
        "    else:\n",
        "        nonobj_columns.append(col)\n",
        "\n",
        "print(f\"{len(obj_columns)} Object(Categorical) Columns are \\n\",obj_columns,'\\n')\n",
        "print(f\"{len(nonobj_columns)} Non-object(Numeric) columns are \\n\",nonobj_columns)\n",
        "\n",
        "df_obj = df[obj_columns] # categorical columns \n",
        "df_nonobj = df[nonobj_columns] #numeric columns "
      ]
    },
    {
      "cell_type": "markdown",
      "source": [
        "### Step 2 - Data Preprocessing"
      ],
      "metadata": {
        "id": "zCUGT3nFLVip"
      },
      "id": "zCUGT3nFLVip"
    },
    {
      "cell_type": "markdown",
      "id": "steady-dublin",
      "metadata": {
        "id": "steady-dublin"
      },
      "source": [
        "Handling missing values - if null value percentage more than 50% -->removing those columns  \n",
        "numerical columns --> missing values handled by replcaing with median  \n",
        "categorical columns --> missing values handled by mode \n"
      ]
    },
    {
      "cell_type": "markdown",
      "id": "marked-korean",
      "metadata": {
        "id": "marked-korean"
      },
      "source": [
        "Numerical Data"
      ]
    },
    {
      "cell_type": "code",
      "execution_count": 172,
      "id": "raised-subject",
      "metadata": {
        "colab": {
          "base_uri": "https://localhost:8080/"
        },
        "id": "raised-subject",
        "outputId": "a9af8fde-8d3e-4a00-d370-366673a63911"
      },
      "outputs": [
        {
          "output_type": "stream",
          "name": "stdout",
          "text": [
            "nasogastric_reflux_ph has been removed\n",
            "abdomo_protein has been removed\n"
          ]
        }
      ],
      "source": [
        "for col in df_nonobj.columns.values: # Iterate through all numeric columns\n",
        "    if (pd.isna(df_nonobj[col]).sum())>0: # If column has null values\n",
        "        if pd.isna(df_nonobj[col]).sum()>(0.5*len(df_nonobj)): # Remove column if it has more than 50% null values\n",
        "            print(col,\"has been removed\")\n",
        "            df_nonobj = df_nonobj.drop([col], axis=1)\n",
        "            df = df.drop([col], axis=1)\n",
        "\n",
        "        else:\n",
        "            df[col] = df[col].fillna(df[col].median()) # Else, fill the null values with the median of the non-null values\n",
        "            df_nonobj[col] = df_nonobj[col].fillna(df_nonobj[col].median()) "
      ]
    },
    {
      "cell_type": "markdown",
      "id": "important-mistress",
      "metadata": {
        "id": "important-mistress"
      },
      "source": [
        " For Categorical Data"
      ]
    },
    {
      "cell_type": "code",
      "execution_count": 173,
      "id": "expanded-ethernet",
      "metadata": {
        "colab": {
          "base_uri": "https://localhost:8080/"
        },
        "id": "expanded-ethernet",
        "outputId": "7d5eeab9-15d0-4394-9b9b-0bb874406142"
      },
      "outputs": [
        {
          "output_type": "stream",
          "name": "stdout",
          "text": [
            "abdomo_appearance has been removed\n"
          ]
        }
      ],
      "source": [
        "for col in df_obj.columns.values: # Iterate through all categorical columns\n",
        "    if (pd.isna(df_obj[col]).sum())>0: # If column has null values\n",
        "        if pd.isna(df_obj[col]).sum()>(0.5*len(df_obj)): # Remove column if it has more than 50% null values\n",
        "            print(col,\"has been removed\")\n",
        "            df_obj = df_obj.drop([col], axis = 1)\n",
        "            df = df.drop([col], axis=1)\n",
        "        else:\n",
        "            df[col] = df[col].fillna(df[col].mode()) # Else, fill the null values with the median of the non-null values\n",
        "            df_obj[col] = df_obj[col].fillna(df_obj[col].mode())"
      ]
    },
    {
      "cell_type": "code",
      "execution_count": 174,
      "id": "equipped-catering",
      "metadata": {
        "colab": {
          "base_uri": "https://localhost:8080/"
        },
        "id": "equipped-catering",
        "outputId": "4bc2f622-247c-48a9-9017-df2ae6228119"
      },
      "outputs": [
        {
          "output_type": "stream",
          "name": "stdout",
          "text": [
            "Shape of numerical data (samples, features):  (299, 9)\n",
            "Shape of categorical data (samples, features):  (299, 16)\n",
            "Shape of categorical data (samples, features):  (299, 25)\n"
          ]
        }
      ],
      "source": [
        "print(\"Shape of numerical data (samples, features): \",df_nonobj.shape)\n",
        "print(\"Shape of categorical data (samples, features): \",df_obj.shape)\n",
        "print(\"Shape of categorical data (samples, features): \",df.shape)"
      ]
    },
    {
      "cell_type": "markdown",
      "id": "understanding-updating",
      "metadata": {
        "id": "understanding-updating"
      },
      "source": [
        "The dataset now has 299 rows and 25 columns out of which 16 are categorical"
      ]
    },
    {
      "cell_type": "markdown",
      "id": "presidential-inside",
      "metadata": {
        "id": "presidential-inside"
      },
      "source": [
        "### Step 3 - Exploratory Data Analysis"
      ]
    },
    {
      "cell_type": "code",
      "execution_count": 175,
      "id": "quick-convert",
      "metadata": {
        "colab": {
          "base_uri": "https://localhost:8080/"
        },
        "id": "quick-convert",
        "outputId": "5f368259-8046-4388-f61b-15f227cfe741"
      },
      "outputs": [
        {
          "output_type": "execute_result",
          "data": {
            "text/plain": [
              "lived         178\n",
              "died           77\n",
              "euthanized     44\n",
              "Name: outcome, dtype: int64"
            ]
          },
          "metadata": {},
          "execution_count": 175
        }
      ],
      "source": [
        "df2 = df\n",
        "df2['outcome'].value_counts()"
      ]
    },
    {
      "cell_type": "code",
      "execution_count": 176,
      "id": "hazardous-corner",
      "metadata": {
        "colab": {
          "base_uri": "https://localhost:8080/",
          "height": 279
        },
        "id": "hazardous-corner",
        "outputId": "fca9b546-210f-4260-8487-2fe76a70a2e8"
      },
      "outputs": [
        {
          "output_type": "display_data",
          "data": {
            "image/png": "[encoded data removed]",
            "text/plain": [
              "<Figure size 432x288 with 1 Axes>"
            ]
          },
          "metadata": {
            "needs_background": "light"
          }
        }
      ],
      "source": [
        "# count plot along y axis\n",
        "sns.countplot(y ='outcome', data = df2)\n",
        "plt.show()"
      ]
    },
    {
      "cell_type": "markdown",
      "id": "infectious-relative",
      "metadata": {
        "id": "infectious-relative"
      },
      "source": [
        "In this dataset, we have more 'lived' outcomes than 'died' outcomes"
      ]
    },
    {
      "cell_type": "markdown",
      "source": [
        "To understand how other features influence the target variable - outcome, we need to find correlation. For that first we need to convert categorical data to numeric data "
      ],
      "metadata": {
        "id": "S3rNOLchbuMa"
      },
      "id": "S3rNOLchbuMa"
    },
    {
      "cell_type": "code",
      "execution_count": 177,
      "id": "initial-posting",
      "metadata": {
        "colab": {
          "base_uri": "https://localhost:8080/"
        },
        "id": "initial-posting",
        "outputId": "888bef5b-c9a8-40d3-970f-5ac4d5789511"
      },
      "outputs": [
        {
          "output_type": "stream",
          "name": "stdout",
          "text": [
            "2    178\n",
            "0     77\n",
            "1     44\n",
            "Name: outcome, dtype: int64\n"
          ]
        }
      ],
      "source": [
        "for col in df_obj.columns.values:\n",
        "    df_obj[col] = df_obj[col].astype('category').cat.codes # Encoding categorical columns\n",
        "    \n",
        "merged_df = pd.concat([df_nonobj,df_obj],axis=1) # Merging the two dataframes\n",
        "\n",
        "target = merged_df['outcome']\n",
        "print(target.value_counts())"
      ]
    },
    {
      "cell_type": "code",
      "source": [
        "merged_df.head()"
      ],
      "metadata": {
        "colab": {
          "base_uri": "https://localhost:8080/",
          "height": 270
        },
        "id": "JdSLsVjrcnDd",
        "outputId": "7fbb4be1-9075-414a-ee20-8d3f483f38e1"
      },
      "id": "JdSLsVjrcnDd",
      "execution_count": 178,
      "outputs": [
        {
          "output_type": "execute_result",
          "data": {
            "text/html": [
              "\n",
              "  <div id=\"df-058b90fe-b188-40f5-b555-3527715d07ff\">\n",
              "    <div class=\"colab-df-container\">\n",
              "      <div>\n",
              "<style scoped>\n",
              "    .dataframe tbody tr th:only-of-type {\n",
              "        vertical-align: middle;\n",
              "    }\n",
              "\n",
              "    .dataframe tbody tr th {\n",
              "        vertical-align: top;\n",
              "    }\n",
              "\n",
              "    .dataframe thead th {\n",
              "        text-align: right;\n",
              "    }\n",
              "</style>\n",
              "<table border=\"1\" class=\"dataframe\">\n",
              "  <thead>\n",
              "    <tr style=\"text-align: right;\">\n",
              "      <th></th>\n",
              "      <th>hospital_number</th>\n",
              "      <th>rectal_temp</th>\n",
              "      <th>pulse</th>\n",
              "      <th>respiratory_rate</th>\n",
              "      <th>packed_cell_volume</th>\n",
              "      <th>total_protein</th>\n",
              "      <th>lesion_1</th>\n",
              "      <th>lesion_2</th>\n",
              "      <th>lesion_3</th>\n",
              "      <th>surgery</th>\n",
              "      <th>age</th>\n",
              "      <th>temp_of_extremities</th>\n",
              "      <th>peripheral_pulse</th>\n",
              "      <th>mucous_membrane</th>\n",
              "      <th>capillary_refill_time</th>\n",
              "      <th>pain</th>\n",
              "      <th>peristalsis</th>\n",
              "      <th>abdominal_distention</th>\n",
              "      <th>nasogastric_tube</th>\n",
              "      <th>nasogastric_reflux</th>\n",
              "      <th>rectal_exam_feces</th>\n",
              "      <th>abdomen</th>\n",
              "      <th>outcome</th>\n",
              "      <th>surgical_lesion</th>\n",
              "      <th>cp_data</th>\n",
              "    </tr>\n",
              "  </thead>\n",
              "  <tbody>\n",
              "    <tr>\n",
              "      <th>0</th>\n",
              "      <td>530101</td>\n",
              "      <td>38.5</td>\n",
              "      <td>66.0</td>\n",
              "      <td>28.0</td>\n",
              "      <td>45.0</td>\n",
              "      <td>8.4</td>\n",
              "      <td>11300</td>\n",
              "      <td>0</td>\n",
              "      <td>0</td>\n",
              "      <td>0</td>\n",
              "      <td>0</td>\n",
              "      <td>1</td>\n",
              "      <td>3</td>\n",
              "      <td>3</td>\n",
              "      <td>2</td>\n",
              "      <td>2</td>\n",
              "      <td>0</td>\n",
              "      <td>2</td>\n",
              "      <td>2</td>\n",
              "      <td>2</td>\n",
              "      <td>1</td>\n",
              "      <td>0</td>\n",
              "      <td>0</td>\n",
              "      <td>0</td>\n",
              "      <td>0</td>\n",
              "    </tr>\n",
              "    <tr>\n",
              "      <th>1</th>\n",
              "      <td>534817</td>\n",
              "      <td>39.2</td>\n",
              "      <td>88.0</td>\n",
              "      <td>20.0</td>\n",
              "      <td>50.0</td>\n",
              "      <td>85.0</td>\n",
              "      <td>2208</td>\n",
              "      <td>0</td>\n",
              "      <td>0</td>\n",
              "      <td>1</td>\n",
              "      <td>0</td>\n",
              "      <td>-1</td>\n",
              "      <td>-1</td>\n",
              "      <td>4</td>\n",
              "      <td>1</td>\n",
              "      <td>3</td>\n",
              "      <td>0</td>\n",
              "      <td>3</td>\n",
              "      <td>-1</td>\n",
              "      <td>-1</td>\n",
              "      <td>0</td>\n",
              "      <td>4</td>\n",
              "      <td>1</td>\n",
              "      <td>0</td>\n",
              "      <td>0</td>\n",
              "    </tr>\n",
              "    <tr>\n",
              "      <th>2</th>\n",
              "      <td>530334</td>\n",
              "      <td>38.3</td>\n",
              "      <td>40.0</td>\n",
              "      <td>24.0</td>\n",
              "      <td>33.0</td>\n",
              "      <td>6.7</td>\n",
              "      <td>0</td>\n",
              "      <td>0</td>\n",
              "      <td>0</td>\n",
              "      <td>0</td>\n",
              "      <td>0</td>\n",
              "      <td>2</td>\n",
              "      <td>2</td>\n",
              "      <td>5</td>\n",
              "      <td>1</td>\n",
              "      <td>3</td>\n",
              "      <td>2</td>\n",
              "      <td>1</td>\n",
              "      <td>-1</td>\n",
              "      <td>-1</td>\n",
              "      <td>3</td>\n",
              "      <td>3</td>\n",
              "      <td>2</td>\n",
              "      <td>0</td>\n",
              "      <td>1</td>\n",
              "    </tr>\n",
              "    <tr>\n",
              "      <th>3</th>\n",
              "      <td>5290409</td>\n",
              "      <td>39.1</td>\n",
              "      <td>164.0</td>\n",
              "      <td>84.0</td>\n",
              "      <td>48.0</td>\n",
              "      <td>7.2</td>\n",
              "      <td>2208</td>\n",
              "      <td>0</td>\n",
              "      <td>0</td>\n",
              "      <td>1</td>\n",
              "      <td>1</td>\n",
              "      <td>0</td>\n",
              "      <td>2</td>\n",
              "      <td>2</td>\n",
              "      <td>2</td>\n",
              "      <td>1</td>\n",
              "      <td>0</td>\n",
              "      <td>2</td>\n",
              "      <td>0</td>\n",
              "      <td>0</td>\n",
              "      <td>1</td>\n",
              "      <td>-1</td>\n",
              "      <td>0</td>\n",
              "      <td>1</td>\n",
              "      <td>1</td>\n",
              "    </tr>\n",
              "    <tr>\n",
              "      <th>4</th>\n",
              "      <td>530255</td>\n",
              "      <td>37.3</td>\n",
              "      <td>104.0</td>\n",
              "      <td>35.0</td>\n",
              "      <td>74.0</td>\n",
              "      <td>7.4</td>\n",
              "      <td>4300</td>\n",
              "      <td>0</td>\n",
              "      <td>0</td>\n",
              "      <td>0</td>\n",
              "      <td>0</td>\n",
              "      <td>-1</td>\n",
              "      <td>-1</td>\n",
              "      <td>2</td>\n",
              "      <td>2</td>\n",
              "      <td>-1</td>\n",
              "      <td>-1</td>\n",
              "      <td>-1</td>\n",
              "      <td>-1</td>\n",
              "      <td>-1</td>\n",
              "      <td>-1</td>\n",
              "      <td>-1</td>\n",
              "      <td>0</td>\n",
              "      <td>0</td>\n",
              "      <td>0</td>\n",
              "    </tr>\n",
              "  </tbody>\n",
              "</table>\n",
              "</div>\n",
              "      <button class=\"colab-df-convert\" onclick=\"convertToInteractive('df-058b90fe-b188-40f5-b555-3527715d07ff')\"\n",
              "              title=\"Convert this dataframe to an interactive table.\"\n",
              "              style=\"display:none;\">\n",
              "        \n",
              "  <svg xmlns=\"http://www.w3.org/2000/svg\" height=\"24px\"viewBox=\"0 0 24 24\"\n",
              "       width=\"24px\">\n",
              "    <path d=\"M0 0h24v24H0V0z\" fill=\"none\"/>\n",
              "    <path d=\"M18.56 5.44l.94 2.06.94-2.06 2.06-.94-2.06-.94-.94-2.06-.94 2.06-2.06.94zm-11 1L8.5 8.5l.94-2.06 2.06-.94-2.06-.94L8.5 2.5l-.94 2.06-2.06.94zm10 10l.94 2.06.94-2.06 2.06-.94-2.06-.94-.94-2.06-.94 2.06-2.06.94z\"/><path d=\"M17.41 7.96l-1.37-1.37c-.4-.4-.92-.59-1.43-.59-.52 0-1.04.2-1.43.59L10.3 9.45l-7.72 7.72c-.78.78-.78 2.05 0 2.83L4 21.41c.39.39.9.59 1.41.59.51 0 1.02-.2 1.41-.59l7.78-7.78 2.81-2.81c.8-.78.8-2.07 0-2.86zM5.41 20L4 18.59l7.72-7.72 1.47 1.35L5.41 20z\"/>\n",
              "  </svg>\n",
              "      </button>\n",
              "      \n",
              "  <style>\n",
              "    .colab-df-container {\n",
              "      display:flex;\n",
              "      flex-wrap:wrap;\n",
              "      gap: 12px;\n",
              "    }\n",
              "\n",
              "    .colab-df-convert {\n",
              "      background-color: #E8F0FE;\n",
              "      border: none;\n",
              "      border-radius: 50%;\n",
              "      cursor: pointer;\n",
              "      display: none;\n",
              "      fill: #1967D2;\n",
              "      height: 32px;\n",
              "      padding: 0 0 0 0;\n",
              "      width: 32px;\n",
              "    }\n",
              "\n",
              "    .colab-df-convert:hover {\n",
              "      background-color: #E2EBFA;\n",
              "      box-shadow: 0px 1px 2px rgba(60, 64, 67, 0.3), 0px 1px 3px 1px rgba(60, 64, 67, 0.15);\n",
              "      fill: #174EA6;\n",
              "    }\n",
              "\n",
              "    [theme=dark] .colab-df-convert {\n",
              "      background-color: #3B4455;\n",
              "      fill: #D2E3FC;\n",
              "    }\n",
              "\n",
              "    [theme=dark] .colab-df-convert:hover {\n",
              "      background-color: #434B5C;\n",
              "      box-shadow: 0px 1px 3px 1px rgba(0, 0, 0, 0.15);\n",
              "      filter: drop-shadow(0px 1px 2px rgba(0, 0, 0, 0.3));\n",
              "      fill: #FFFFFF;\n",
              "    }\n",
              "  </style>\n",
              "\n",
              "      <script>\n",
              "        const buttonEl =\n",
              "          document.querySelector('#df-058b90fe-b188-40f5-b555-3527715d07ff button.colab-df-convert');\n",
              "        buttonEl.style.display =\n",
              "          google.colab.kernel.accessAllowed ? 'block' : 'none';\n",
              "\n",
              "        async function convertToInteractive(key) {\n",
              "          const element = document.querySelector('#df-058b90fe-b188-40f5-b555-3527715d07ff');\n",
              "          const dataTable =\n",
              "            await google.colab.kernel.invokeFunction('convertToInteractive',\n",
              "                                                     [key], {});\n",
              "          if (!dataTable) return;\n",
              "\n",
              "          const docLinkHtml = 'Like what you see? Visit the ' +\n",
              "            '<a target=\"_blank\" href=https://colab.research.google.com/notebooks/data_table.ipynb>data table notebook</a>'\n",
              "            + ' to learn more about interactive tables.';\n",
              "          element.innerHTML = '';\n",
              "          dataTable['output_type'] = 'display_data';\n",
              "          await google.colab.output.renderOutput(dataTable, element);\n",
              "          const docLink = document.createElement('div');\n",
              "          docLink.innerHTML = docLinkHtml;\n",
              "          element.appendChild(docLink);\n",
              "        }\n",
              "      </script>\n",
              "    </div>\n",
              "  </div>\n",
              "  "
            ],
            "text/plain": [
              "   hospital_number  rectal_temp  pulse  ...  outcome  surgical_lesion  cp_data\n",
              "0           530101         38.5   66.0  ...        0                0        0\n",
              "1           534817         39.2   88.0  ...        1                0        0\n",
              "2           530334         38.3   40.0  ...        2                0        1\n",
              "3          5290409         39.1  164.0  ...        0                1        1\n",
              "4           530255         37.3  104.0  ...        0                0        0\n",
              "\n",
              "[5 rows x 25 columns]"
            ]
          },
          "metadata": {},
          "execution_count": 178
        }
      ]
    },
    {
      "cell_type": "code",
      "source": [
        "merged_df.info()"
      ],
      "metadata": {
        "colab": {
          "base_uri": "https://localhost:8080/"
        },
        "id": "V4jOxVooc7V6",
        "outputId": "b0e04af1-edf0-4355-82b8-22fd5c905a6f"
      },
      "id": "V4jOxVooc7V6",
      "execution_count": 179,
      "outputs": [
        {
          "output_type": "stream",
          "name": "stdout",
          "text": [
            "<class 'pandas.core.frame.DataFrame'>\n",
            "RangeIndex: 299 entries, 0 to 298\n",
            "Data columns (total 25 columns):\n",
            " #   Column                 Non-Null Count  Dtype  \n",
            "---  ------                 --------------  -----  \n",
            " 0   hospital_number        299 non-null    int64  \n",
            " 1   rectal_temp            299 non-null    float64\n",
            " 2   pulse                  299 non-null    float64\n",
            " 3   respiratory_rate       299 non-null    float64\n",
            " 4   packed_cell_volume     299 non-null    float64\n",
            " 5   total_protein          299 non-null    float64\n",
            " 6   lesion_1               299 non-null    int64  \n",
            " 7   lesion_2               299 non-null    int64  \n",
            " 8   lesion_3               299 non-null    int64  \n",
            " 9   surgery                299 non-null    int8   \n",
            " 10  age                    299 non-null    int8   \n",
            " 11  temp_of_extremities    299 non-null    int8   \n",
            " 12  peripheral_pulse       299 non-null    int8   \n",
            " 13  mucous_membrane        299 non-null    int8   \n",
            " 14  capillary_refill_time  299 non-null    int8   \n",
            " 15  pain                   299 non-null    int8   \n",
            " 16  peristalsis            299 non-null    int8   \n",
            " 17  abdominal_distention   299 non-null    int8   \n",
            " 18  nasogastric_tube       299 non-null    int8   \n",
            " 19  nasogastric_reflux     299 non-null    int8   \n",
            " 20  rectal_exam_feces      299 non-null    int8   \n",
            " 21  abdomen                299 non-null    int8   \n",
            " 22  outcome                299 non-null    int8   \n",
            " 23  surgical_lesion        299 non-null    int8   \n",
            " 24  cp_data                299 non-null    int8   \n",
            "dtypes: float64(5), int64(4), int8(16)\n",
            "memory usage: 25.8 KB\n"
          ]
        }
      ]
    },
    {
      "cell_type": "markdown",
      "source": [
        "Correlation of target variable - outcome with other features "
      ],
      "metadata": {
        "id": "lCPU1iRIdDx3"
      },
      "id": "lCPU1iRIdDx3"
    },
    {
      "cell_type": "code",
      "source": [
        "df_corr = merged_df.corr()\n",
        "plt.figure(figsize=(10,8))\n",
        "sns.heatmap(df_corr,cmap='magma')"
      ],
      "metadata": {
        "colab": {
          "base_uri": "https://localhost:8080/",
          "height": 602
        },
        "id": "QkSQfb1tdJpr",
        "outputId": "23b1b46d-f19b-4361-a991-8d0839409a49"
      },
      "id": "QkSQfb1tdJpr",
      "execution_count": 180,
      "outputs": [
        {
          "output_type": "execute_result",
          "data": {
            "text/plain": [
              "<matplotlib.axes._subplots.AxesSubplot at 0x7fb74e38e610>"
            ]
          },
          "metadata": {},
          "execution_count": 180
        },
        {
          "output_type": "display_data",
          "data": {
            "image/png": "[encoded data removed]",
            "text/plain": [
              "<Figure size 720x576 with 2 Axes>"
            ]
          },
          "metadata": {
            "needs_background": "light"
          }
        }
      ]
    },
    {
      "cell_type": "code",
      "source": [
        "x = df_corr[['outcome']]\n",
        "sns.heatmap(x)"
      ],
      "metadata": {
        "colab": {
          "base_uri": "https://localhost:8080/",
          "height": 287
        },
        "id": "YCZb9LDOdvAZ",
        "outputId": "7f4a14a9-e9a4-45d4-b095-ecf05f249ea5"
      },
      "id": "YCZb9LDOdvAZ",
      "execution_count": 181,
      "outputs": [
        {
          "output_type": "execute_result",
          "data": {
            "text/plain": [
              "<matplotlib.axes._subplots.AxesSubplot at 0x7fb74e483710>"
            ]
          },
          "metadata": {},
          "execution_count": 181
        },
        {
          "output_type": "display_data",
          "data": {
            "image/png": "[encoded data removed]",
            "text/plain": [
              "<Figure size 432x288 with 2 Axes>"
            ]
          },
          "metadata": {
            "needs_background": "light"
          }
        }
      ]
    },
    {
      "cell_type": "code",
      "source": [
        "df_corr['outcome'].sort_values(ascending=False)"
      ],
      "metadata": {
        "colab": {
          "base_uri": "https://localhost:8080/"
        },
        "id": "uQNz6yLHdNUu",
        "outputId": "0ac94819-24b2-47c4-a73f-7f6ee1a56bdb"
      },
      "id": "uQNz6yLHdNUu",
      "execution_count": 182,
      "outputs": [
        {
          "output_type": "execute_result",
          "data": {
            "text/plain": [
              "outcome                  1.000000\n",
              "total_protein            0.265889\n",
              "peristalsis              0.201047\n",
              "temp_of_extremities      0.185245\n",
              "abdomen                  0.173353\n",
              "rectal_exam_feces        0.165896\n",
              "lesion_2                 0.098993\n",
              "abdominal_distention     0.094556\n",
              "nasogastric_reflux       0.044803\n",
              "lesion_3                 0.044631\n",
              "mucous_membrane          0.022311\n",
              "rectal_temp              0.013273\n",
              "nasogastric_tube         0.003411\n",
              "peripheral_pulse        -0.049982\n",
              "respiratory_rate        -0.068581\n",
              "cp_data                 -0.078066\n",
              "lesion_1                -0.100738\n",
              "age                     -0.101782\n",
              "hospital_number         -0.106396\n",
              "capillary_refill_time   -0.121691\n",
              "pain                    -0.152912\n",
              "surgery                 -0.189222\n",
              "surgical_lesion         -0.332933\n",
              "pulse                   -0.335550\n",
              "packed_cell_volume      -0.398371\n",
              "Name: outcome, dtype: float64"
            ]
          },
          "metadata": {},
          "execution_count": 182
        }
      ]
    },
    {
      "cell_type": "markdown",
      "source": [
        "Columns like total_protein,peristalsis,temp_of_extremities are highly positively correlated to target variable"
      ],
      "metadata": {
        "id": "Fb9emoIPSgdX"
      },
      "id": "Fb9emoIPSgdX"
    },
    {
      "cell_type": "code",
      "execution_count": 183,
      "id": "returning-silly",
      "metadata": {
        "colab": {
          "base_uri": "https://localhost:8080/",
          "height": 297
        },
        "id": "returning-silly",
        "outputId": "716dd6f6-3f39-4d7a-e7ad-6678f31e8529"
      },
      "outputs": [
        {
          "output_type": "execute_result",
          "data": {
            "text/plain": [
              "<matplotlib.axes._subplots.AxesSubplot at 0x7fb74e174510>"
            ]
          },
          "metadata": {},
          "execution_count": 183
        },
        {
          "output_type": "display_data",
          "data": {
            "image/png": "[encoded data removed]",
            "text/plain": [
              "<Figure size 432x288 with 1 Axes>"
            ]
          },
          "metadata": {
            "needs_background": "light"
          }
        }
      ],
      "source": [
        "sns.countplot(data=df2, x='outcome', hue = 'peristalsis')"
      ]
    },
    {
      "cell_type": "markdown",
      "id": "extensive-sampling",
      "metadata": {
        "id": "extensive-sampling"
      },
      "source": [
        "We can infer that if peristalsis if not normal, the horse is likely to die"
      ]
    },
    {
      "cell_type": "code",
      "source": [
        "sns.countplot(data=df2, x='outcome', hue = 'temp_of_extremities')"
      ],
      "metadata": {
        "colab": {
          "base_uri": "https://localhost:8080/",
          "height": 297
        },
        "id": "iA3lB6DbeXXe",
        "outputId": "029b84aa-7664-4dcf-9ea6-12fd177fde90"
      },
      "id": "iA3lB6DbeXXe",
      "execution_count": 184,
      "outputs": [
        {
          "output_type": "execute_result",
          "data": {
            "text/plain": [
              "<matplotlib.axes._subplots.AxesSubplot at 0x7fb74e139a10>"
            ]
          },
          "metadata": {},
          "execution_count": 184
        },
        {
          "output_type": "display_data",
          "data": {
            "image/png": "[encoded data removed]",
            "text/plain": [
              "<Figure size 432x288 with 1 Axes>"
            ]
          },
          "metadata": {
            "needs_background": "light"
          }
        }
      ]
    },
    {
      "cell_type": "markdown",
      "source": [
        "Under warm and normal temperatures , horse is more likely to be lived "
      ],
      "metadata": {
        "id": "8bHZ1VJueqI0"
      },
      "id": "8bHZ1VJueqI0"
    },
    {
      "cell_type": "code",
      "source": [
        "sns.countplot(data=df2, x='outcome', hue = 'mucous_membrane')"
      ],
      "metadata": {
        "colab": {
          "base_uri": "https://localhost:8080/",
          "height": 297
        },
        "id": "gItxeKAoeokc",
        "outputId": "b8515ea5-0602-4f2d-d9c8-0d204a7c4b54"
      },
      "id": "gItxeKAoeokc",
      "execution_count": 185,
      "outputs": [
        {
          "output_type": "execute_result",
          "data": {
            "text/plain": [
              "<matplotlib.axes._subplots.AxesSubplot at 0x7fb74e08df50>"
            ]
          },
          "metadata": {},
          "execution_count": 185
        },
        {
          "output_type": "display_data",
          "data": {
            "image/png": "[encoded data removed]",
            "text/plain": [
              "<Figure size 432x288 with 1 Axes>"
            ]
          },
          "metadata": {
            "needs_background": "light"
          }
        }
      ]
    },
    {
      "cell_type": "markdown",
      "source": [
        "Since mucuous membrane is correlated by less than 10% to outcome, as shown by this countplot we can verify that age and outcome have no definite relationship "
      ],
      "metadata": {
        "id": "1ao3uZAFfAts"
      },
      "id": "1ao3uZAFfAts"
    },
    {
      "cell_type": "markdown",
      "id": "oriented-grill",
      "metadata": {
        "id": "oriented-grill"
      },
      "source": [
        " Removal of features having very less correlation (less than 10%)"
      ]
    },
    {
      "cell_type": "code",
      "execution_count": 186,
      "id": "hazardous-month",
      "metadata": {
        "colab": {
          "base_uri": "https://localhost:8080/"
        },
        "id": "hazardous-month",
        "outputId": "a9ad88c5-0fd3-4df0-ac1e-4239a3de4c50"
      },
      "outputs": [
        {
          "output_type": "stream",
          "name": "stdout",
          "text": [
            "Data Size Before Correlated Column Removal : (299, 25)\n",
            "lesion_2 removed\n",
            "abdominal_distention removed\n",
            "cp_data removed\n",
            "respiratory_rate removed\n",
            "peripheral_pulse removed\n",
            "nasogastric_reflux removed\n",
            "lesion_3 removed\n",
            "mucous_membrane removed\n",
            "rectal_temp removed\n",
            "nasogastric_tube removed\n",
            "Data Size After Correlated Column Removal : (299, 15)\n"
          ]
        }
      ],
      "source": [
        "print(\"Data Size Before Correlated Column Removal :\",merged_df.shape)\n",
        "\n",
        "df_corr_outcome = df_corr['outcome'].sort_values(ascending=False)\n",
        "df_corr_outcome = abs(df_corr_outcome).sort_values(ascending=False)\n",
        "for col in range(len(df_corr_outcome)):\n",
        "        if abs(df_corr_outcome[col])<0.1:\n",
        "            merged_df.drop([df_corr_outcome.index[col]], axis=1, inplace=True)\n",
        "            print(df_corr_outcome.index[col],\"removed\")\n",
        "print(\"Data Size After Correlated Column Removal :\",merged_df.shape)"
      ]
    },
    {
      "cell_type": "markdown",
      "id": "restricted-mixture",
      "metadata": {
        "id": "restricted-mixture"
      },
      "source": [
        "### Step 4 - Data Partition "
      ]
    },
    {
      "cell_type": "code",
      "execution_count": 187,
      "id": "powerful-negotiation",
      "metadata": {
        "id": "powerful-negotiation"
      },
      "outputs": [],
      "source": [
        "from sklearn.model_selection import train_test_split\n",
        "X = merged_df.drop('outcome',axis=1)\n",
        "y = merged_df['outcome']\n",
        "X_train, X_test, y_train, y_test = train_test_split(X, y, test_size=0.2) # 20% Test split"
      ]
    },
    {
      "cell_type": "code",
      "execution_count": 188,
      "id": "still-place",
      "metadata": {
        "id": "still-place",
        "outputId": "1483859d-dbee-4025-d4ec-b924231dd154",
        "colab": {
          "base_uri": "https://localhost:8080/",
          "height": 487
        }
      },
      "outputs": [
        {
          "output_type": "execute_result",
          "data": {
            "text/html": [
              "\n",
              "  <div id=\"df-4b5ff283-2712-4fc4-b9f0-c6b824c439f9\">\n",
              "    <div class=\"colab-df-container\">\n",
              "      <div>\n",
              "<style scoped>\n",
              "    .dataframe tbody tr th:only-of-type {\n",
              "        vertical-align: middle;\n",
              "    }\n",
              "\n",
              "    .dataframe tbody tr th {\n",
              "        vertical-align: top;\n",
              "    }\n",
              "\n",
              "    .dataframe thead th {\n",
              "        text-align: right;\n",
              "    }\n",
              "</style>\n",
              "<table border=\"1\" class=\"dataframe\">\n",
              "  <thead>\n",
              "    <tr style=\"text-align: right;\">\n",
              "      <th></th>\n",
              "      <th>hospital_number</th>\n",
              "      <th>pulse</th>\n",
              "      <th>packed_cell_volume</th>\n",
              "      <th>total_protein</th>\n",
              "      <th>lesion_1</th>\n",
              "      <th>surgery</th>\n",
              "      <th>age</th>\n",
              "      <th>temp_of_extremities</th>\n",
              "      <th>capillary_refill_time</th>\n",
              "      <th>pain</th>\n",
              "      <th>peristalsis</th>\n",
              "      <th>rectal_exam_feces</th>\n",
              "      <th>abdomen</th>\n",
              "      <th>surgical_lesion</th>\n",
              "    </tr>\n",
              "  </thead>\n",
              "  <tbody>\n",
              "    <tr>\n",
              "      <th>0</th>\n",
              "      <td>530101</td>\n",
              "      <td>66.0</td>\n",
              "      <td>45.0</td>\n",
              "      <td>8.4</td>\n",
              "      <td>11300</td>\n",
              "      <td>0</td>\n",
              "      <td>0</td>\n",
              "      <td>1</td>\n",
              "      <td>2</td>\n",
              "      <td>2</td>\n",
              "      <td>0</td>\n",
              "      <td>1</td>\n",
              "      <td>0</td>\n",
              "      <td>0</td>\n",
              "    </tr>\n",
              "    <tr>\n",
              "      <th>1</th>\n",
              "      <td>534817</td>\n",
              "      <td>88.0</td>\n",
              "      <td>50.0</td>\n",
              "      <td>85.0</td>\n",
              "      <td>2208</td>\n",
              "      <td>1</td>\n",
              "      <td>0</td>\n",
              "      <td>-1</td>\n",
              "      <td>1</td>\n",
              "      <td>3</td>\n",
              "      <td>0</td>\n",
              "      <td>0</td>\n",
              "      <td>4</td>\n",
              "      <td>0</td>\n",
              "    </tr>\n",
              "    <tr>\n",
              "      <th>2</th>\n",
              "      <td>530334</td>\n",
              "      <td>40.0</td>\n",
              "      <td>33.0</td>\n",
              "      <td>6.7</td>\n",
              "      <td>0</td>\n",
              "      <td>0</td>\n",
              "      <td>0</td>\n",
              "      <td>2</td>\n",
              "      <td>1</td>\n",
              "      <td>3</td>\n",
              "      <td>2</td>\n",
              "      <td>3</td>\n",
              "      <td>3</td>\n",
              "      <td>0</td>\n",
              "    </tr>\n",
              "    <tr>\n",
              "      <th>3</th>\n",
              "      <td>5290409</td>\n",
              "      <td>164.0</td>\n",
              "      <td>48.0</td>\n",
              "      <td>7.2</td>\n",
              "      <td>2208</td>\n",
              "      <td>1</td>\n",
              "      <td>1</td>\n",
              "      <td>0</td>\n",
              "      <td>2</td>\n",
              "      <td>1</td>\n",
              "      <td>0</td>\n",
              "      <td>1</td>\n",
              "      <td>-1</td>\n",
              "      <td>1</td>\n",
              "    </tr>\n",
              "    <tr>\n",
              "      <th>4</th>\n",
              "      <td>530255</td>\n",
              "      <td>104.0</td>\n",
              "      <td>74.0</td>\n",
              "      <td>7.4</td>\n",
              "      <td>4300</td>\n",
              "      <td>0</td>\n",
              "      <td>0</td>\n",
              "      <td>-1</td>\n",
              "      <td>2</td>\n",
              "      <td>-1</td>\n",
              "      <td>-1</td>\n",
              "      <td>-1</td>\n",
              "      <td>-1</td>\n",
              "      <td>0</td>\n",
              "    </tr>\n",
              "    <tr>\n",
              "      <th>...</th>\n",
              "      <td>...</td>\n",
              "      <td>...</td>\n",
              "      <td>...</td>\n",
              "      <td>...</td>\n",
              "      <td>...</td>\n",
              "      <td>...</td>\n",
              "      <td>...</td>\n",
              "      <td>...</td>\n",
              "      <td>...</td>\n",
              "      <td>...</td>\n",
              "      <td>...</td>\n",
              "      <td>...</td>\n",
              "      <td>...</td>\n",
              "      <td>...</td>\n",
              "    </tr>\n",
              "    <tr>\n",
              "      <th>294</th>\n",
              "      <td>533886</td>\n",
              "      <td>120.0</td>\n",
              "      <td>55.0</td>\n",
              "      <td>65.0</td>\n",
              "      <td>3205</td>\n",
              "      <td>1</td>\n",
              "      <td>0</td>\n",
              "      <td>0</td>\n",
              "      <td>2</td>\n",
              "      <td>1</td>\n",
              "      <td>0</td>\n",
              "      <td>-1</td>\n",
              "      <td>0</td>\n",
              "      <td>0</td>\n",
              "    </tr>\n",
              "    <tr>\n",
              "      <th>295</th>\n",
              "      <td>527702</td>\n",
              "      <td>72.0</td>\n",
              "      <td>44.0</td>\n",
              "      <td>7.5</td>\n",
              "      <td>2208</td>\n",
              "      <td>0</td>\n",
              "      <td>0</td>\n",
              "      <td>1</td>\n",
              "      <td>2</td>\n",
              "      <td>4</td>\n",
              "      <td>2</td>\n",
              "      <td>0</td>\n",
              "      <td>1</td>\n",
              "      <td>1</td>\n",
              "    </tr>\n",
              "    <tr>\n",
              "      <th>296</th>\n",
              "      <td>529386</td>\n",
              "      <td>72.0</td>\n",
              "      <td>60.0</td>\n",
              "      <td>6.8</td>\n",
              "      <td>3205</td>\n",
              "      <td>1</td>\n",
              "      <td>0</td>\n",
              "      <td>0</td>\n",
              "      <td>1</td>\n",
              "      <td>4</td>\n",
              "      <td>0</td>\n",
              "      <td>1</td>\n",
              "      <td>0</td>\n",
              "      <td>1</td>\n",
              "    </tr>\n",
              "    <tr>\n",
              "      <th>297</th>\n",
              "      <td>530612</td>\n",
              "      <td>100.0</td>\n",
              "      <td>50.0</td>\n",
              "      <td>6.0</td>\n",
              "      <td>2208</td>\n",
              "      <td>1</td>\n",
              "      <td>0</td>\n",
              "      <td>1</td>\n",
              "      <td>1</td>\n",
              "      <td>3</td>\n",
              "      <td>2</td>\n",
              "      <td>0</td>\n",
              "      <td>1</td>\n",
              "      <td>1</td>\n",
              "    </tr>\n",
              "    <tr>\n",
              "      <th>298</th>\n",
              "      <td>534618</td>\n",
              "      <td>40.0</td>\n",
              "      <td>36.0</td>\n",
              "      <td>62.0</td>\n",
              "      <td>6112</td>\n",
              "      <td>1</td>\n",
              "      <td>0</td>\n",
              "      <td>-1</td>\n",
              "      <td>-1</td>\n",
              "      <td>-1</td>\n",
              "      <td>-1</td>\n",
              "      <td>0</td>\n",
              "      <td>3</td>\n",
              "      <td>0</td>\n",
              "    </tr>\n",
              "  </tbody>\n",
              "</table>\n",
              "<p>299 rows × 14 columns</p>\n",
              "</div>\n",
              "      <button class=\"colab-df-convert\" onclick=\"convertToInteractive('df-4b5ff283-2712-4fc4-b9f0-c6b824c439f9')\"\n",
              "              title=\"Convert this dataframe to an interactive table.\"\n",
              "              style=\"display:none;\">\n",
              "        \n",
              "  <svg xmlns=\"http://www.w3.org/2000/svg\" height=\"24px\"viewBox=\"0 0 24 24\"\n",
              "       width=\"24px\">\n",
              "    <path d=\"M0 0h24v24H0V0z\" fill=\"none\"/>\n",
              "    <path d=\"M18.56 5.44l.94 2.06.94-2.06 2.06-.94-2.06-.94-.94-2.06-.94 2.06-2.06.94zm-11 1L8.5 8.5l.94-2.06 2.06-.94-2.06-.94L8.5 2.5l-.94 2.06-2.06.94zm10 10l.94 2.06.94-2.06 2.06-.94-2.06-.94-.94-2.06-.94 2.06-2.06.94z\"/><path d=\"M17.41 7.96l-1.37-1.37c-.4-.4-.92-.59-1.43-.59-.52 0-1.04.2-1.43.59L10.3 9.45l-7.72 7.72c-.78.78-.78 2.05 0 2.83L4 21.41c.39.39.9.59 1.41.59.51 0 1.02-.2 1.41-.59l7.78-7.78 2.81-2.81c.8-.78.8-2.07 0-2.86zM5.41 20L4 18.59l7.72-7.72 1.47 1.35L5.41 20z\"/>\n",
              "  </svg>\n",
              "      </button>\n",
              "      \n",
              "  <style>\n",
              "    .colab-df-container {\n",
              "      display:flex;\n",
              "      flex-wrap:wrap;\n",
              "      gap: 12px;\n",
              "    }\n",
              "\n",
              "    .colab-df-convert {\n",
              "      background-color: #E8F0FE;\n",
              "      border: none;\n",
              "      border-radius: 50%;\n",
              "      cursor: pointer;\n",
              "      display: none;\n",
              "      fill: #1967D2;\n",
              "      height: 32px;\n",
              "      padding: 0 0 0 0;\n",
              "      width: 32px;\n",
              "    }\n",
              "\n",
              "    .colab-df-convert:hover {\n",
              "      background-color: #E2EBFA;\n",
              "      box-shadow: 0px 1px 2px rgba(60, 64, 67, 0.3), 0px 1px 3px 1px rgba(60, 64, 67, 0.15);\n",
              "      fill: #174EA6;\n",
              "    }\n",
              "\n",
              "    [theme=dark] .colab-df-convert {\n",
              "      background-color: #3B4455;\n",
              "      fill: #D2E3FC;\n",
              "    }\n",
              "\n",
              "    [theme=dark] .colab-df-convert:hover {\n",
              "      background-color: #434B5C;\n",
              "      box-shadow: 0px 1px 3px 1px rgba(0, 0, 0, 0.15);\n",
              "      filter: drop-shadow(0px 1px 2px rgba(0, 0, 0, 0.3));\n",
              "      fill: #FFFFFF;\n",
              "    }\n",
              "  </style>\n",
              "\n",
              "      <script>\n",
              "        const buttonEl =\n",
              "          document.querySelector('#df-4b5ff283-2712-4fc4-b9f0-c6b824c439f9 button.colab-df-convert');\n",
              "        buttonEl.style.display =\n",
              "          google.colab.kernel.accessAllowed ? 'block' : 'none';\n",
              "\n",
              "        async function convertToInteractive(key) {\n",
              "          const element = document.querySelector('#df-4b5ff283-2712-4fc4-b9f0-c6b824c439f9');\n",
              "          const dataTable =\n",
              "            await google.colab.kernel.invokeFunction('convertToInteractive',\n",
              "                                                     [key], {});\n",
              "          if (!dataTable) return;\n",
              "\n",
              "          const docLinkHtml = 'Like what you see? Visit the ' +\n",
              "            '<a target=\"_blank\" href=https://colab.research.google.com/notebooks/data_table.ipynb>data table notebook</a>'\n",
              "            + ' to learn more about interactive tables.';\n",
              "          element.innerHTML = '';\n",
              "          dataTable['output_type'] = 'display_data';\n",
              "          await google.colab.output.renderOutput(dataTable, element);\n",
              "          const docLink = document.createElement('div');\n",
              "          docLink.innerHTML = docLinkHtml;\n",
              "          element.appendChild(docLink);\n",
              "        }\n",
              "      </script>\n",
              "    </div>\n",
              "  </div>\n",
              "  "
            ],
            "text/plain": [
              "     hospital_number  pulse  ...  abdomen  surgical_lesion\n",
              "0             530101   66.0  ...        0                0\n",
              "1             534817   88.0  ...        4                0\n",
              "2             530334   40.0  ...        3                0\n",
              "3            5290409  164.0  ...       -1                1\n",
              "4             530255  104.0  ...       -1                0\n",
              "..               ...    ...  ...      ...              ...\n",
              "294           533886  120.0  ...        0                0\n",
              "295           527702   72.0  ...        1                1\n",
              "296           529386   72.0  ...        0                1\n",
              "297           530612  100.0  ...        1                1\n",
              "298           534618   40.0  ...        3                0\n",
              "\n",
              "[299 rows x 14 columns]"
            ]
          },
          "metadata": {},
          "execution_count": 188
        }
      ],
      "source": [
        "X"
      ]
    },
    {
      "cell_type": "code",
      "execution_count": 189,
      "id": "sweet-highway",
      "metadata": {
        "id": "sweet-highway",
        "outputId": "70eb4ecc-9a19-407d-ef97-ab9470b18bd2",
        "colab": {
          "base_uri": "https://localhost:8080/"
        }
      },
      "outputs": [
        {
          "output_type": "execute_result",
          "data": {
            "text/plain": [
              "0      0\n",
              "1      1\n",
              "2      2\n",
              "3      0\n",
              "4      0\n",
              "      ..\n",
              "294    1\n",
              "295    1\n",
              "296    0\n",
              "297    2\n",
              "298    1\n",
              "Name: outcome, Length: 299, dtype: int8"
            ]
          },
          "metadata": {},
          "execution_count": 189
        }
      ],
      "source": [
        "y"
      ]
    },
    {
      "cell_type": "markdown",
      "id": "earlier-rapid",
      "metadata": {
        "id": "earlier-rapid"
      },
      "source": [
        "### Step 5 - Model Building"
      ]
    },
    {
      "cell_type": "code",
      "execution_count": 190,
      "id": "hawaiian-quilt",
      "metadata": {
        "id": "hawaiian-quilt"
      },
      "outputs": [],
      "source": [
        "from sklearn.model_selection import RepeatedStratifiedKFold\n",
        "from sklearn.model_selection import GridSearchCV\n",
        "from sklearn.linear_model import LogisticRegression\n",
        "from sklearn.metrics import classification_report,roc_curve,confusion_matrix\n",
        "import warnings\n",
        "warnings.filterwarnings('ignore')\n",
        "\n",
        "model = LogisticRegression()\n",
        "model.fit(X_train,y_train)\n",
        "predictions = model.predict(X_test)"
      ]
    },
    {
      "cell_type": "markdown",
      "source": [
        "### Step 6 - Model Summarization "
      ],
      "metadata": {
        "id": "NXnqiSq_Lsoh"
      },
      "id": "NXnqiSq_Lsoh"
    },
    {
      "cell_type": "code",
      "source": [
        "from sklearn import metrics\n",
        "\n",
        "# Model Summarization\n",
        "print('Classification Report\\n',classification_report(y_test, predictions))\n",
        "print('Confusion Matrix\\n',confusion_matrix(y_test, predictions))\n",
        "print(\"Accuracy:\",metrics.accuracy_score(y_test, predictions))\n",
        "print(\"Precision Score:\",metrics.precision_score(y_test, predictions, \n",
        "                                           pos_label='positive',\n",
        "                                           average='micro'))\n",
        "print(\"Recall Score:\",metrics.recall_score(y_test, predictions, \n",
        "                                           pos_label='positive',\n",
        "                                           average='micro'))"
      ],
      "metadata": {
        "id": "vUU7LD4NL-5-",
        "colab": {
          "base_uri": "https://localhost:8080/"
        },
        "outputId": "40e074ab-5be4-4dbe-ff07-52058a6c03f1"
      },
      "id": "vUU7LD4NL-5-",
      "execution_count": 191,
      "outputs": [
        {
          "output_type": "stream",
          "name": "stdout",
          "text": [
            "Classification Report\n",
            "               precision    recall  f1-score   support\n",
            "\n",
            "           0       0.00      0.00      0.00        15\n",
            "           1       0.00      0.00      0.00         7\n",
            "           2       0.61      0.89      0.72        38\n",
            "\n",
            "    accuracy                           0.57        60\n",
            "   macro avg       0.20      0.30      0.24        60\n",
            "weighted avg       0.38      0.57      0.46        60\n",
            "\n",
            "Confusion Matrix\n",
            " [[ 0  0 15]\n",
            " [ 0  0  7]\n",
            " [ 4  0 34]]\n",
            "Accuracy: 0.5666666666666667\n",
            "Precision Score: 0.5666666666666667\n",
            "Recall Score: 0.5666666666666667\n"
          ]
        }
      ]
    },
    {
      "cell_type": "markdown",
      "source": [
        "Thus the accuracy obtained is 55% and upong model tuning it can be improved "
      ],
      "metadata": {
        "id": "_4pnkO2TWL2M"
      },
      "id": "_4pnkO2TWL2M"
    },
    {
      "cell_type": "markdown",
      "source": [
        "### Step 7 - Model Tuning "
      ],
      "metadata": {
        "id": "Ce3u-dviMEP8"
      },
      "id": "Ce3u-dviMEP8"
    },
    {
      "cell_type": "code",
      "source": [
        "solvers = ['newton-cg', 'lbfgs', 'liblinear','sag', 'saga'] # Solver alogirthms used to solve logistic regression as an optimisation problem\n",
        "penalty = ['l2'] # Regularization is a way to avoid overfitting by penalizing high-valued regression coefficients. It reduces parameters and shrinks (simplifies) the model. \n",
        "c_values = [100, 10, 1.0, 0.1, 0.01] # Parameter - Inverse of regularization strength and Smaller values have more regularization\n",
        "\n",
        "grid = dict(solver=solvers,penalty=penalty,C=c_values)\n",
        "cv = RepeatedStratifiedKFold(n_splits=10, n_repeats=3, random_state=1) # Repeats Stratified K-Fold n times with different randomization in each repetition\n",
        "grid_search = GridSearchCV(estimator=model, param_grid=grid, n_jobs=-1, cv=cv, scoring='accuracy',error_score=0)\n",
        "grid_result = grid_search.fit(X_train, y_train)\n",
        "\n",
        "print(\"Best: %f using %s\\n\" % (grid_result.best_score_, grid_result.best_params_)) # Showing the best result and saving the other results and printing them\n",
        "means = grid_result.cv_results_['mean_test_score']\n",
        "stds = grid_result.cv_results_['std_test_score']\n",
        "params = grid_result.cv_results_['params']\n",
        "for mean, stdev, param in zip(means, stds, params):\n",
        "    print(\"%f (%f) with: %r\" % (mean, stdev, param))"
      ],
      "metadata": {
        "colab": {
          "base_uri": "https://localhost:8080/"
        },
        "id": "hMu80vZyHgM4",
        "outputId": "bac1704e-b1dd-4299-ebb0-a6d519ac3a07"
      },
      "id": "hMu80vZyHgM4",
      "execution_count": 192,
      "outputs": [
        {
          "output_type": "stream",
          "name": "stdout",
          "text": [
            "Best: 0.623309 using {'C': 10, 'penalty': 'l2', 'solver': 'newton-cg'}\n",
            "\n",
            "0.621860 (0.087102) with: {'C': 100, 'penalty': 'l2', 'solver': 'newton-cg'}\n",
            "0.575906 (0.036876) with: {'C': 100, 'penalty': 'l2', 'solver': 'lbfgs'}\n",
            "0.567572 (0.036837) with: {'C': 100, 'penalty': 'l2', 'solver': 'liblinear'}\n",
            "0.574758 (0.060782) with: {'C': 100, 'penalty': 'l2', 'solver': 'sag'}\n",
            "0.585870 (0.007609) with: {'C': 100, 'penalty': 'l2', 'solver': 'saga'}\n",
            "0.623309 (0.085896) with: {'C': 10, 'penalty': 'l2', 'solver': 'newton-cg'}\n",
            "0.574517 (0.037352) with: {'C': 10, 'penalty': 'l2', 'solver': 'lbfgs'}\n",
            "0.568961 (0.036619) with: {'C': 10, 'penalty': 'l2', 'solver': 'liblinear'}\n",
            "0.574758 (0.060782) with: {'C': 10, 'penalty': 'l2', 'solver': 'sag'}\n",
            "0.585870 (0.007609) with: {'C': 10, 'penalty': 'l2', 'solver': 'saga'}\n",
            "0.617693 (0.080991) with: {'C': 1.0, 'penalty': 'l2', 'solver': 'newton-cg'}\n",
            "0.574517 (0.037352) with: {'C': 1.0, 'penalty': 'l2', 'solver': 'lbfgs'}\n",
            "0.567572 (0.035231) with: {'C': 1.0, 'penalty': 'l2', 'solver': 'liblinear'}\n",
            "0.585870 (0.007609) with: {'C': 1.0, 'penalty': 'l2', 'solver': 'sag'}\n",
            "0.585870 (0.007609) with: {'C': 1.0, 'penalty': 'l2', 'solver': 'saga'}\n",
            "0.619082 (0.083564) with: {'C': 0.1, 'penalty': 'l2', 'solver': 'newton-cg'}\n",
            "0.574517 (0.037352) with: {'C': 0.1, 'penalty': 'l2', 'solver': 'lbfgs'}\n",
            "0.567572 (0.035231) with: {'C': 0.1, 'penalty': 'l2', 'solver': 'liblinear'}\n",
            "0.585870 (0.007609) with: {'C': 0.1, 'penalty': 'l2', 'solver': 'sag'}\n",
            "0.585870 (0.007609) with: {'C': 0.1, 'penalty': 'l2', 'solver': 'saga'}\n",
            "0.602415 (0.100478) with: {'C': 0.01, 'penalty': 'l2', 'solver': 'newton-cg'}\n",
            "0.575906 (0.036876) with: {'C': 0.01, 'penalty': 'l2', 'solver': 'lbfgs'}\n",
            "0.567572 (0.036837) with: {'C': 0.01, 'penalty': 'l2', 'solver': 'liblinear'}\n",
            "0.574758 (0.060782) with: {'C': 0.01, 'penalty': 'l2', 'solver': 'sag'}\n",
            "0.585870 (0.007609) with: {'C': 0.01, 'penalty': 'l2', 'solver': 'saga'}\n"
          ]
        }
      ]
    },
    {
      "cell_type": "code",
      "source": [
        "grid_result"
      ],
      "metadata": {
        "colab": {
          "base_uri": "https://localhost:8080/"
        },
        "id": "UTjJCnkkHnom",
        "outputId": "55403172-ca0f-4621-f190-a2abb5a6ff90"
      },
      "id": "UTjJCnkkHnom",
      "execution_count": 193,
      "outputs": [
        {
          "output_type": "execute_result",
          "data": {
            "text/plain": [
              "GridSearchCV(cv=RepeatedStratifiedKFold(n_repeats=3, n_splits=10, random_state=1),\n",
              "             error_score=0, estimator=LogisticRegression(), n_jobs=-1,\n",
              "             param_grid={'C': [100, 10, 1.0, 0.1, 0.01], 'penalty': ['l2'],\n",
              "                         'solver': ['newton-cg', 'lbfgs', 'liblinear', 'sag',\n",
              "                                    'saga']},\n",
              "             scoring='accuracy')"
            ]
          },
          "metadata": {},
          "execution_count": 193
        }
      ]
    },
    {
      "cell_type": "code",
      "source": [
        "grid_result.best_estimator_"
      ],
      "metadata": {
        "colab": {
          "base_uri": "https://localhost:8080/"
        },
        "id": "4bVik5GNHoTx",
        "outputId": "22794d57-6e69-4a3b-e7a8-beb1434fdddc"
      },
      "id": "4bVik5GNHoTx",
      "execution_count": 194,
      "outputs": [
        {
          "output_type": "execute_result",
          "data": {
            "text/plain": [
              "LogisticRegression(C=10, solver='newton-cg')"
            ]
          },
          "metadata": {},
          "execution_count": 194
        }
      ]
    },
    {
      "cell_type": "code",
      "source": [
        "final_model = grid_result.best_estimator_"
      ],
      "metadata": {
        "id": "tDWGa2xCHqIr"
      },
      "id": "tDWGa2xCHqIr",
      "execution_count": 195,
      "outputs": []
    },
    {
      "cell_type": "markdown",
      "source": [
        "For the model newton-cg is the best solver and can help improve accuracy "
      ],
      "metadata": {
        "id": "xisSiAl9WYBR"
      },
      "id": "xisSiAl9WYBR"
    },
    {
      "cell_type": "markdown",
      "source": [
        "### Step 8 - Model Evaluation"
      ],
      "metadata": {
        "id": "UQ6yykLHMAEJ"
      },
      "id": "UQ6yykLHMAEJ"
    },
    {
      "cell_type": "code",
      "source": [
        "pred = final_model.predict(X_test)\n",
        "print('Classification Report\\n',classification_report(y_test, pred))\n",
        "print('Confusion Matrix\\n',confusion_matrix(y_test, pred))\n",
        "print(\"Accuracy:\",metrics.accuracy_score(y_test, pred))\n",
        "print(\"Precision Score:\",metrics.precision_score(y_test, pred, \n",
        "                                           pos_label='positive',\n",
        "                                           average='micro'))\n",
        "print(\"Recall Score:\",metrics.recall_score(y_test, pred, \n",
        "                                           pos_label='positive',\n",
        "                                           average='micro'))"
      ],
      "metadata": {
        "id": "wV9J_shyMDs4",
        "colab": {
          "base_uri": "https://localhost:8080/"
        },
        "outputId": "e77772bb-a9bc-4d3b-ce54-066b719cfd16"
      },
      "id": "wV9J_shyMDs4",
      "execution_count": 196,
      "outputs": [
        {
          "output_type": "stream",
          "name": "stdout",
          "text": [
            "Classification Report\n",
            "               precision    recall  f1-score   support\n",
            "\n",
            "           0       0.62      0.53      0.57        15\n",
            "           1       0.50      0.29      0.36         7\n",
            "           2       0.74      0.84      0.79        38\n",
            "\n",
            "    accuracy                           0.70        60\n",
            "   macro avg       0.62      0.55      0.58        60\n",
            "weighted avg       0.68      0.70      0.69        60\n",
            "\n",
            "Confusion Matrix\n",
            " [[ 8  0  7]\n",
            " [ 1  2  4]\n",
            " [ 4  2 32]]\n",
            "Accuracy: 0.7\n",
            "Precision Score: 0.7\n",
            "Recall Score: 0.7\n"
          ]
        }
      ]
    },
    {
      "cell_type": "code",
      "source": [
        "class_names=[0,1,2] # name  of classes\n",
        "fig, ax = plt.subplots()\n",
        "tick_marks = np.arange(len(class_names))\n",
        "plt.xticks(tick_marks, class_names)\n",
        "plt.yticks(tick_marks, class_names)\n",
        "# create heatmap\n",
        "sns.heatmap(pd.DataFrame(confusion_matrix(y_test, pred)), annot=True, cmap=\"YlGnBu\" ,fmt='g')\n",
        "ax.xaxis.set_label_position(\"top\")\n",
        "plt.tight_layout()\n",
        "plt.title('Confusion matrix', y=1.1)\n",
        "plt.ylabel('Actual label')\n",
        "plt.xlabel('Predicted label')"
      ],
      "metadata": {
        "colab": {
          "base_uri": "https://localhost:8080/",
          "height": 343
        },
        "id": "WvTfODJeIBBZ",
        "outputId": "57db57b5-2329-4528-e41b-eccd0f5b0691"
      },
      "id": "WvTfODJeIBBZ",
      "execution_count": 197,
      "outputs": [
        {
          "output_type": "execute_result",
          "data": {
            "text/plain": [
              "Text(0.5, 257.44, 'Predicted label')"
            ]
          },
          "metadata": {},
          "execution_count": 197
        },
        {
          "output_type": "display_data",
          "data": {
            "image/png": "[encoded data removed]",
            "text/plain": [
              "<Figure size 432x288 with 2 Axes>"
            ]
          },
          "metadata": {
            "needs_background": "light"
          }
        }
      ]
    },
    {
      "cell_type": "code",
      "source": [
        "from sklearn.preprocessing import LabelBinarizer\n",
        "def multiclass_roc_auc_score(y_test, y_pred, average=\"macro\"):\n",
        "    lb = LabelBinarizer()\n",
        "    lb.fit(y_test)\n",
        "    y_test = lb.transform(y_test)\n",
        "    y_pred = lb.transform(y_pred)\n",
        "    return metrics.roc_auc_score(y_test, y_pred, average=average)\n",
        "print('ROC AOC Score:',multiclass_roc_auc_score(y_test,pred))"
      ],
      "metadata": {
        "colab": {
          "base_uri": "https://localhost:8080/"
        },
        "id": "DdzKFpPKIHkq",
        "outputId": "ee5107ed-17dd-4d58-e4c2-5ea00423975b"
      },
      "id": "DdzKFpPKIHkq",
      "execution_count": 198,
      "outputs": [
        {
          "output_type": "stream",
          "name": "stdout",
          "text": [
            "ROC AOC Score: 0.6687176536729664\n"
          ]
        }
      ]
    },
    {
      "cell_type": "markdown",
      "source": [
        "Conclusion: As the ROC AOC Score is above 0.5 but less than 0.7, we can say that the trained model is just about acceptable."
      ],
      "metadata": {
        "id": "RMHozRDKIK_a"
      },
      "id": "RMHozRDKIK_a"
    },
    {
      "cell_type": "markdown",
      "source": [
        "Thus using Repeats Stratified K-Fold n times we were able to improve the accuracy of our model by about 10%"
      ],
      "metadata": {
        "id": "NXObgeP3IjLB"
      },
      "id": "NXObgeP3IjLB"
    },
    {
      "cell_type": "markdown",
      "metadata": {
        "id": "royal-audit"
      },
      "source": [
        "## Exp 1 B"
      ],
      "id": "royal-audit"
    },
    {
      "cell_type": "markdown",
      "metadata": {
        "id": "complete-spirituality"
      },
      "source": [
        "#### Importing the necessary libraries"
      ],
      "id": "complete-spirituality"
    },
    {
      "cell_type": "code",
      "execution_count": 267,
      "metadata": {
        "id": "seven-application"
      },
      "outputs": [],
      "source": [
        "import pandas as pd\n",
        "import numpy as np\n",
        "import matplotlib.pyplot as plt\n",
        "import seaborn as sns"
      ],
      "id": "seven-application"
    },
    {
      "cell_type": "markdown",
      "metadata": {
        "id": "challenging-demand"
      },
      "source": [
        "#### Loading the dataset"
      ],
      "id": "challenging-demand"
    },
    {
      "cell_type": "code",
      "execution_count": 268,
      "metadata": {
        "id": "signed-industry"
      },
      "outputs": [],
      "source": [
        "df = pd.read_csv('auto-mpg.csv')"
      ],
      "id": "signed-industry"
    },
    {
      "cell_type": "code",
      "execution_count": 269,
      "metadata": {
        "id": "comic-index",
        "outputId": "3ed3ae59-fdb7-48a6-b4ef-fcce78f032a0",
        "colab": {
          "base_uri": "https://localhost:8080/",
          "height": 0
        }
      },
      "outputs": [
        {
          "output_type": "execute_result",
          "data": {
            "text/html": [
              "\n",
              "  <div id=\"df-58a4ad2f-0089-486a-82c5-fe2b3977db3d\">\n",
              "    <div class=\"colab-df-container\">\n",
              "      <div>\n",
              "<style scoped>\n",
              "    .dataframe tbody tr th:only-of-type {\n",
              "        vertical-align: middle;\n",
              "    }\n",
              "\n",
              "    .dataframe tbody tr th {\n",
              "        vertical-align: top;\n",
              "    }\n",
              "\n",
              "    .dataframe thead th {\n",
              "        text-align: right;\n",
              "    }\n",
              "</style>\n",
              "<table border=\"1\" class=\"dataframe\">\n",
              "  <thead>\n",
              "    <tr style=\"text-align: right;\">\n",
              "      <th></th>\n",
              "      <th>mpg</th>\n",
              "      <th>cylinders</th>\n",
              "      <th>displacement</th>\n",
              "      <th>horsepower</th>\n",
              "      <th>weight</th>\n",
              "      <th>acceleration</th>\n",
              "      <th>model year</th>\n",
              "      <th>origin</th>\n",
              "      <th>car name</th>\n",
              "    </tr>\n",
              "  </thead>\n",
              "  <tbody>\n",
              "    <tr>\n",
              "      <th>0</th>\n",
              "      <td>18.0</td>\n",
              "      <td>8</td>\n",
              "      <td>307.0</td>\n",
              "      <td>130</td>\n",
              "      <td>3504</td>\n",
              "      <td>12.0</td>\n",
              "      <td>70</td>\n",
              "      <td>1</td>\n",
              "      <td>chevrolet chevelle malibu</td>\n",
              "    </tr>\n",
              "    <tr>\n",
              "      <th>1</th>\n",
              "      <td>15.0</td>\n",
              "      <td>8</td>\n",
              "      <td>350.0</td>\n",
              "      <td>165</td>\n",
              "      <td>3693</td>\n",
              "      <td>11.5</td>\n",
              "      <td>70</td>\n",
              "      <td>1</td>\n",
              "      <td>buick skylark 320</td>\n",
              "    </tr>\n",
              "    <tr>\n",
              "      <th>2</th>\n",
              "      <td>18.0</td>\n",
              "      <td>8</td>\n",
              "      <td>318.0</td>\n",
              "      <td>150</td>\n",
              "      <td>3436</td>\n",
              "      <td>11.0</td>\n",
              "      <td>70</td>\n",
              "      <td>1</td>\n",
              "      <td>plymouth satellite</td>\n",
              "    </tr>\n",
              "    <tr>\n",
              "      <th>3</th>\n",
              "      <td>16.0</td>\n",
              "      <td>8</td>\n",
              "      <td>304.0</td>\n",
              "      <td>150</td>\n",
              "      <td>3433</td>\n",
              "      <td>12.0</td>\n",
              "      <td>70</td>\n",
              "      <td>1</td>\n",
              "      <td>amc rebel sst</td>\n",
              "    </tr>\n",
              "    <tr>\n",
              "      <th>4</th>\n",
              "      <td>17.0</td>\n",
              "      <td>8</td>\n",
              "      <td>302.0</td>\n",
              "      <td>140</td>\n",
              "      <td>3449</td>\n",
              "      <td>10.5</td>\n",
              "      <td>70</td>\n",
              "      <td>1</td>\n",
              "      <td>ford torino</td>\n",
              "    </tr>\n",
              "  </tbody>\n",
              "</table>\n",
              "</div>\n",
              "      <button class=\"colab-df-convert\" onclick=\"convertToInteractive('df-58a4ad2f-0089-486a-82c5-fe2b3977db3d')\"\n",
              "              title=\"Convert this dataframe to an interactive table.\"\n",
              "              style=\"display:none;\">\n",
              "        \n",
              "  <svg xmlns=\"http://www.w3.org/2000/svg\" height=\"24px\"viewBox=\"0 0 24 24\"\n",
              "       width=\"24px\">\n",
              "    <path d=\"M0 0h24v24H0V0z\" fill=\"none\"/>\n",
              "    <path d=\"M18.56 5.44l.94 2.06.94-2.06 2.06-.94-2.06-.94-.94-2.06-.94 2.06-2.06.94zm-11 1L8.5 8.5l.94-2.06 2.06-.94-2.06-.94L8.5 2.5l-.94 2.06-2.06.94zm10 10l.94 2.06.94-2.06 2.06-.94-2.06-.94-.94-2.06-.94 2.06-2.06.94z\"/><path d=\"M17.41 7.96l-1.37-1.37c-.4-.4-.92-.59-1.43-.59-.52 0-1.04.2-1.43.59L10.3 9.45l-7.72 7.72c-.78.78-.78 2.05 0 2.83L4 21.41c.39.39.9.59 1.41.59.51 0 1.02-.2 1.41-.59l7.78-7.78 2.81-2.81c.8-.78.8-2.07 0-2.86zM5.41 20L4 18.59l7.72-7.72 1.47 1.35L5.41 20z\"/>\n",
              "  </svg>\n",
              "      </button>\n",
              "      \n",
              "  <style>\n",
              "    .colab-df-container {\n",
              "      display:flex;\n",
              "      flex-wrap:wrap;\n",
              "      gap: 12px;\n",
              "    }\n",
              "\n",
              "    .colab-df-convert {\n",
              "      background-color: #E8F0FE;\n",
              "      border: none;\n",
              "      border-radius: 50%;\n",
              "      cursor: pointer;\n",
              "      display: none;\n",
              "      fill: #1967D2;\n",
              "      height: 32px;\n",
              "      padding: 0 0 0 0;\n",
              "      width: 32px;\n",
              "    }\n",
              "\n",
              "    .colab-df-convert:hover {\n",
              "      background-color: #E2EBFA;\n",
              "      box-shadow: 0px 1px 2px rgba(60, 64, 67, 0.3), 0px 1px 3px 1px rgba(60, 64, 67, 0.15);\n",
              "      fill: #174EA6;\n",
              "    }\n",
              "\n",
              "    [theme=dark] .colab-df-convert {\n",
              "      background-color: #3B4455;\n",
              "      fill: #D2E3FC;\n",
              "    }\n",
              "\n",
              "    [theme=dark] .colab-df-convert:hover {\n",
              "      background-color: #434B5C;\n",
              "      box-shadow: 0px 1px 3px 1px rgba(0, 0, 0, 0.15);\n",
              "      filter: drop-shadow(0px 1px 2px rgba(0, 0, 0, 0.3));\n",
              "      fill: #FFFFFF;\n",
              "    }\n",
              "  </style>\n",
              "\n",
              "      <script>\n",
              "        const buttonEl =\n",
              "          document.querySelector('#df-58a4ad2f-0089-486a-82c5-fe2b3977db3d button.colab-df-convert');\n",
              "        buttonEl.style.display =\n",
              "          google.colab.kernel.accessAllowed ? 'block' : 'none';\n",
              "\n",
              "        async function convertToInteractive(key) {\n",
              "          const element = document.querySelector('#df-58a4ad2f-0089-486a-82c5-fe2b3977db3d');\n",
              "          const dataTable =\n",
              "            await google.colab.kernel.invokeFunction('convertToInteractive',\n",
              "                                                     [key], {});\n",
              "          if (!dataTable) return;\n",
              "\n",
              "          const docLinkHtml = 'Like what you see? Visit the ' +\n",
              "            '<a target=\"_blank\" href=https://colab.research.google.com/notebooks/data_table.ipynb>data table notebook</a>'\n",
              "            + ' to learn more about interactive tables.';\n",
              "          element.innerHTML = '';\n",
              "          dataTable['output_type'] = 'display_data';\n",
              "          await google.colab.output.renderOutput(dataTable, element);\n",
              "          const docLink = document.createElement('div');\n",
              "          docLink.innerHTML = docLinkHtml;\n",
              "          element.appendChild(docLink);\n",
              "        }\n",
              "      </script>\n",
              "    </div>\n",
              "  </div>\n",
              "  "
            ],
            "text/plain": [
              "    mpg  cylinders  displacement  ... model year  origin                   car name\n",
              "0  18.0          8         307.0  ...         70       1  chevrolet chevelle malibu\n",
              "1  15.0          8         350.0  ...         70       1          buick skylark 320\n",
              "2  18.0          8         318.0  ...         70       1         plymouth satellite\n",
              "3  16.0          8         304.0  ...         70       1              amc rebel sst\n",
              "4  17.0          8         302.0  ...         70       1                ford torino\n",
              "\n",
              "[5 rows x 9 columns]"
            ]
          },
          "metadata": {},
          "execution_count": 269
        }
      ],
      "source": [
        "df.head()"
      ],
      "id": "comic-index"
    },
    {
      "cell_type": "code",
      "execution_count": 270,
      "metadata": {
        "id": "assigned-florence",
        "outputId": "c4b21c5c-9d45-4cad-9d05-8fc9367a5847",
        "colab": {
          "base_uri": "https://localhost:8080/"
        }
      },
      "outputs": [
        {
          "output_type": "stream",
          "name": "stdout",
          "text": [
            "<class 'pandas.core.frame.DataFrame'>\n",
            "RangeIndex: 398 entries, 0 to 397\n",
            "Data columns (total 9 columns):\n",
            " #   Column        Non-Null Count  Dtype  \n",
            "---  ------        --------------  -----  \n",
            " 0   mpg           398 non-null    float64\n",
            " 1   cylinders     398 non-null    int64  \n",
            " 2   displacement  398 non-null    float64\n",
            " 3   horsepower    398 non-null    object \n",
            " 4   weight        398 non-null    int64  \n",
            " 5   acceleration  398 non-null    float64\n",
            " 6   model year    398 non-null    int64  \n",
            " 7   origin        398 non-null    int64  \n",
            " 8   car name      398 non-null    object \n",
            "dtypes: float64(3), int64(4), object(2)\n",
            "memory usage: 28.1+ KB\n"
          ]
        }
      ],
      "source": [
        "df.info()"
      ],
      "id": "assigned-florence"
    },
    {
      "cell_type": "code",
      "execution_count": 271,
      "metadata": {
        "id": "homeless-modern",
        "outputId": "fa0ae5b2-b2f8-4815-bd3c-8ed45385bfd4",
        "colab": {
          "base_uri": "https://localhost:8080/"
        }
      },
      "outputs": [
        {
          "output_type": "stream",
          "name": "stdout",
          "text": [
            "Shape of data (samples, features):  (398, 9)\n"
          ]
        }
      ],
      "source": [
        "print(\"Shape of data (samples, features): \",df.shape)"
      ],
      "id": "homeless-modern"
    },
    {
      "cell_type": "markdown",
      "metadata": {
        "id": "forbidden-basis"
      },
      "source": [
        "The dataset has 398 rows and 9 columns"
      ],
      "id": "forbidden-basis"
    },
    {
      "cell_type": "code",
      "execution_count": 272,
      "metadata": {
        "id": "referenced-military",
        "outputId": "e7967503-5a7c-4ea6-a9a9-c5f85b940b61",
        "colab": {
          "base_uri": "https://localhost:8080/"
        }
      },
      "outputs": [
        {
          "output_type": "execute_result",
          "data": {
            "text/plain": [
              "int64      4\n",
              "float64    3\n",
              "object     2\n",
              "dtype: int64"
            ]
          },
          "metadata": {},
          "execution_count": 272
        }
      ],
      "source": [
        "df.dtypes.value_counts()"
      ],
      "id": "referenced-military"
    },
    {
      "cell_type": "markdown",
      "metadata": {
        "id": "amended-lewis"
      },
      "source": [
        "2 columns are categorical and the rest 7 are numeric columns"
      ],
      "id": "amended-lewis"
    },
    {
      "cell_type": "markdown",
      "metadata": {
        "id": "decreased-firewall"
      },
      "source": [
        "### Handling missing values"
      ],
      "id": "decreased-firewall"
    },
    {
      "cell_type": "markdown",
      "source": [
        "  Before converting horsepower to numeric checking if all values of  horsepower are numbers "
      ],
      "metadata": {
        "id": "zuv8RQjhb0B_"
      },
      "id": "zuv8RQjhb0B_"
    },
    {
      "cell_type": "code",
      "source": [
        "df['horsepower'].unique()"
      ],
      "metadata": {
        "colab": {
          "base_uri": "https://localhost:8080/"
        },
        "id": "bNpDArG3cfwo",
        "outputId": "8503f23d-f4c1-43dc-a37d-9fc442250531"
      },
      "id": "bNpDArG3cfwo",
      "execution_count": 273,
      "outputs": [
        {
          "output_type": "execute_result",
          "data": {
            "text/plain": [
              "array(['130', '165', '150', '140', '198', '220', '215', '225', '190',\n",
              "       '170', '160', '95', '97', '85', '88', '46', '87', '90', '113',\n",
              "       '200', '210', '193', '?', '100', '105', '175', '153', '180', '110',\n",
              "       '72', '86', '70', '76', '65', '69', '60', '80', '54', '208', '155',\n",
              "       '112', '92', '145', '137', '158', '167', '94', '107', '230', '49',\n",
              "       '75', '91', '122', '67', '83', '78', '52', '61', '93', '148',\n",
              "       '129', '96', '71', '98', '115', '53', '81', '79', '120', '152',\n",
              "       '102', '108', '68', '58', '149', '89', '63', '48', '66', '139',\n",
              "       '103', '125', '133', '138', '135', '142', '77', '62', '132', '84',\n",
              "       '64', '74', '116', '82'], dtype=object)"
            ]
          },
          "metadata": {},
          "execution_count": 273
        }
      ]
    },
    {
      "cell_type": "markdown",
      "source": [
        "'?' is one of the values of column horsepower and needs to be handled "
      ],
      "metadata": {
        "id": "8T-Bmo_xcpkQ"
      },
      "id": "8T-Bmo_xcpkQ"
    },
    {
      "cell_type": "code",
      "execution_count": 274,
      "metadata": {
        "id": "skilled-millennium",
        "outputId": "ae0bacf5-f918-4344-9d0d-49685f9c3355",
        "colab": {
          "base_uri": "https://localhost:8080/"
        }
      },
      "outputs": [
        {
          "output_type": "execute_result",
          "data": {
            "text/plain": [
              "array(['130', '165', '150', '140', '198', '220', '215', '225', '190',\n",
              "       '170', '160', '95', '97', '85', '88', '46', '87', '90', '113',\n",
              "       '200', '210', '193', nan, '100', '105', '175', '153', '180', '110',\n",
              "       '72', '86', '70', '76', '65', '69', '60', '80', '54', '208', '155',\n",
              "       '112', '92', '145', '137', '158', '167', '94', '107', '230', '49',\n",
              "       '75', '91', '122', '67', '83', '78', '52', '61', '93', '148',\n",
              "       '129', '96', '71', '98', '115', '53', '81', '79', '120', '152',\n",
              "       '102', '108', '68', '58', '149', '89', '63', '48', '66', '139',\n",
              "       '103', '125', '133', '138', '135', '142', '77', '62', '132', '84',\n",
              "       '64', '74', '116', '82'], dtype=object)"
            ]
          },
          "metadata": {},
          "execution_count": 274
        }
      ],
      "source": [
        "# Encoding '?' values as null values\n",
        "df[df == '?'] = np.nan\n",
        "df['horsepower'].unique()"
      ],
      "id": "skilled-millennium"
    },
    {
      "cell_type": "markdown",
      "source": [
        "Successfully replaced '?' with Nan"
      ],
      "metadata": {
        "id": "yTuvTOQqc9Xd"
      },
      "id": "yTuvTOQqc9Xd"
    },
    {
      "cell_type": "code",
      "execution_count": 275,
      "metadata": {
        "id": "random-afghanistan",
        "outputId": "4764bd47-15f2-42b6-8f66-e7ef44ba0008",
        "colab": {
          "base_uri": "https://localhost:8080/"
        }
      },
      "outputs": [
        {
          "output_type": "execute_result",
          "data": {
            "text/plain": [
              "mpg               23.0\n",
              "cylinders          4.0\n",
              "displacement     148.5\n",
              "horsepower        93.5\n",
              "weight          2803.5\n",
              "acceleration      15.5\n",
              "model year        76.0\n",
              "origin             1.0\n",
              "dtype: float64"
            ]
          },
          "metadata": {},
          "execution_count": 275
        }
      ],
      "source": [
        "df.median()"
      ],
      "id": "random-afghanistan"
    },
    {
      "cell_type": "code",
      "execution_count": 276,
      "metadata": {
        "id": "isolated-mediterranean"
      },
      "outputs": [],
      "source": [
        "# converting the hp column from object / string type to float\n",
        "df['horsepower'] = df['horsepower'].astype('float64') "
      ],
      "id": "isolated-mediterranean"
    },
    {
      "cell_type": "code",
      "execution_count": 277,
      "metadata": {
        "id": "presidential-genome"
      },
      "outputs": [],
      "source": [
        "nan_per = df.isna().sum()/len(df)*100"
      ],
      "id": "presidential-genome"
    },
    {
      "cell_type": "code",
      "execution_count": 278,
      "metadata": {
        "id": "electronic-force",
        "outputId": "328bb906-030d-43fc-8e9f-eb0ae0956bfb",
        "colab": {
          "base_uri": "https://localhost:8080/"
        }
      },
      "outputs": [
        {
          "output_type": "execute_result",
          "data": {
            "text/plain": [
              "mpg             0.000000\n",
              "cylinders       0.000000\n",
              "displacement    0.000000\n",
              "horsepower      1.507538\n",
              "weight          0.000000\n",
              "acceleration    0.000000\n",
              "model year      0.000000\n",
              "origin          0.000000\n",
              "car name        0.000000\n",
              "dtype: float64"
            ]
          },
          "metadata": {},
          "execution_count": 278
        }
      ],
      "source": [
        "nan_per"
      ],
      "id": "electronic-force"
    },
    {
      "cell_type": "markdown",
      "metadata": {
        "id": "demographic-badge"
      },
      "source": [
        "Horsepower has Null values "
      ],
      "id": "demographic-badge"
    },
    {
      "cell_type": "code",
      "execution_count": 279,
      "metadata": {
        "id": "metallic-balloon",
        "outputId": "874f7710-73a0-4439-fe9d-9074fab3b3ad",
        "colab": {
          "base_uri": "https://localhost:8080/"
        }
      },
      "outputs": [
        {
          "output_type": "execute_result",
          "data": {
            "text/plain": [
              "93.5"
            ]
          },
          "metadata": {},
          "execution_count": 279
        }
      ],
      "source": [
        "df['horsepower'].median()"
      ],
      "id": "metallic-balloon"
    },
    {
      "cell_type": "code",
      "execution_count": 280,
      "metadata": {
        "id": "whole-trash"
      },
      "outputs": [],
      "source": [
        "for col in ['horsepower']:\n",
        "    df[col].fillna(df[col].median(), inplace=True)"
      ],
      "id": "whole-trash"
    },
    {
      "cell_type": "code",
      "execution_count": 281,
      "metadata": {
        "id": "historical-consumption",
        "outputId": "f7ba23f8-8648-4d83-8a26-b72113d93701",
        "colab": {
          "base_uri": "https://localhost:8080/"
        }
      },
      "outputs": [
        {
          "output_type": "execute_result",
          "data": {
            "text/plain": [
              "mpg             0\n",
              "cylinders       0\n",
              "displacement    0\n",
              "horsepower      0\n",
              "weight          0\n",
              "acceleration    0\n",
              "model year      0\n",
              "origin          0\n",
              "car name        0\n",
              "dtype: int64"
            ]
          },
          "metadata": {},
          "execution_count": 281
        }
      ],
      "source": [
        "df.isnull().sum()"
      ],
      "id": "historical-consumption"
    },
    {
      "cell_type": "markdown",
      "metadata": {
        "id": "international-canberra"
      },
      "source": [
        "All null values have been handled"
      ],
      "id": "international-canberra"
    },
    {
      "cell_type": "markdown",
      "metadata": {
        "id": "imperial-acquisition"
      },
      "source": [
        "### Exploratory Data Analysis"
      ],
      "id": "imperial-acquisition"
    },
    {
      "cell_type": "markdown",
      "source": [
        "Next task is to find correlation with target variables. First categorical columns need to be handled "
      ],
      "metadata": {
        "id": "8phA1YyTdi3s"
      },
      "id": "8phA1YyTdi3s"
    },
    {
      "cell_type": "code",
      "execution_count": 282,
      "metadata": {
        "id": "grand-aaron",
        "outputId": "0e124388-046a-491c-a796-6c4e6a47c421",
        "colab": {
          "base_uri": "https://localhost:8080/",
          "height": 206
        }
      },
      "outputs": [
        {
          "output_type": "execute_result",
          "data": {
            "text/html": [
              "\n",
              "  <div id=\"df-4783a3bb-cf11-4a08-9ed0-834e8673086d\">\n",
              "    <div class=\"colab-df-container\">\n",
              "      <div>\n",
              "<style scoped>\n",
              "    .dataframe tbody tr th:only-of-type {\n",
              "        vertical-align: middle;\n",
              "    }\n",
              "\n",
              "    .dataframe tbody tr th {\n",
              "        vertical-align: top;\n",
              "    }\n",
              "\n",
              "    .dataframe thead th {\n",
              "        text-align: right;\n",
              "    }\n",
              "</style>\n",
              "<table border=\"1\" class=\"dataframe\">\n",
              "  <thead>\n",
              "    <tr style=\"text-align: right;\">\n",
              "      <th></th>\n",
              "      <th>mpg</th>\n",
              "      <th>cylinders</th>\n",
              "      <th>displacement</th>\n",
              "      <th>horsepower</th>\n",
              "      <th>weight</th>\n",
              "      <th>acceleration</th>\n",
              "      <th>model year</th>\n",
              "      <th>origin</th>\n",
              "    </tr>\n",
              "  </thead>\n",
              "  <tbody>\n",
              "    <tr>\n",
              "      <th>0</th>\n",
              "      <td>18.0</td>\n",
              "      <td>8</td>\n",
              "      <td>307.0</td>\n",
              "      <td>130.0</td>\n",
              "      <td>3504</td>\n",
              "      <td>12.0</td>\n",
              "      <td>70</td>\n",
              "      <td>america</td>\n",
              "    </tr>\n",
              "    <tr>\n",
              "      <th>1</th>\n",
              "      <td>15.0</td>\n",
              "      <td>8</td>\n",
              "      <td>350.0</td>\n",
              "      <td>165.0</td>\n",
              "      <td>3693</td>\n",
              "      <td>11.5</td>\n",
              "      <td>70</td>\n",
              "      <td>america</td>\n",
              "    </tr>\n",
              "    <tr>\n",
              "      <th>2</th>\n",
              "      <td>18.0</td>\n",
              "      <td>8</td>\n",
              "      <td>318.0</td>\n",
              "      <td>150.0</td>\n",
              "      <td>3436</td>\n",
              "      <td>11.0</td>\n",
              "      <td>70</td>\n",
              "      <td>america</td>\n",
              "    </tr>\n",
              "    <tr>\n",
              "      <th>3</th>\n",
              "      <td>16.0</td>\n",
              "      <td>8</td>\n",
              "      <td>304.0</td>\n",
              "      <td>150.0</td>\n",
              "      <td>3433</td>\n",
              "      <td>12.0</td>\n",
              "      <td>70</td>\n",
              "      <td>america</td>\n",
              "    </tr>\n",
              "    <tr>\n",
              "      <th>4</th>\n",
              "      <td>17.0</td>\n",
              "      <td>8</td>\n",
              "      <td>302.0</td>\n",
              "      <td>140.0</td>\n",
              "      <td>3449</td>\n",
              "      <td>10.5</td>\n",
              "      <td>70</td>\n",
              "      <td>america</td>\n",
              "    </tr>\n",
              "  </tbody>\n",
              "</table>\n",
              "</div>\n",
              "      <button class=\"colab-df-convert\" onclick=\"convertToInteractive('df-4783a3bb-cf11-4a08-9ed0-834e8673086d')\"\n",
              "              title=\"Convert this dataframe to an interactive table.\"\n",
              "              style=\"display:none;\">\n",
              "        \n",
              "  <svg xmlns=\"http://www.w3.org/2000/svg\" height=\"24px\"viewBox=\"0 0 24 24\"\n",
              "       width=\"24px\">\n",
              "    <path d=\"M0 0h24v24H0V0z\" fill=\"none\"/>\n",
              "    <path d=\"M18.56 5.44l.94 2.06.94-2.06 2.06-.94-2.06-.94-.94-2.06-.94 2.06-2.06.94zm-11 1L8.5 8.5l.94-2.06 2.06-.94-2.06-.94L8.5 2.5l-.94 2.06-2.06.94zm10 10l.94 2.06.94-2.06 2.06-.94-2.06-.94-.94-2.06-.94 2.06-2.06.94z\"/><path d=\"M17.41 7.96l-1.37-1.37c-.4-.4-.92-.59-1.43-.59-.52 0-1.04.2-1.43.59L10.3 9.45l-7.72 7.72c-.78.78-.78 2.05 0 2.83L4 21.41c.39.39.9.59 1.41.59.51 0 1.02-.2 1.41-.59l7.78-7.78 2.81-2.81c.8-.78.8-2.07 0-2.86zM5.41 20L4 18.59l7.72-7.72 1.47 1.35L5.41 20z\"/>\n",
              "  </svg>\n",
              "      </button>\n",
              "      \n",
              "  <style>\n",
              "    .colab-df-container {\n",
              "      display:flex;\n",
              "      flex-wrap:wrap;\n",
              "      gap: 12px;\n",
              "    }\n",
              "\n",
              "    .colab-df-convert {\n",
              "      background-color: #E8F0FE;\n",
              "      border: none;\n",
              "      border-radius: 50%;\n",
              "      cursor: pointer;\n",
              "      display: none;\n",
              "      fill: #1967D2;\n",
              "      height: 32px;\n",
              "      padding: 0 0 0 0;\n",
              "      width: 32px;\n",
              "    }\n",
              "\n",
              "    .colab-df-convert:hover {\n",
              "      background-color: #E2EBFA;\n",
              "      box-shadow: 0px 1px 2px rgba(60, 64, 67, 0.3), 0px 1px 3px 1px rgba(60, 64, 67, 0.15);\n",
              "      fill: #174EA6;\n",
              "    }\n",
              "\n",
              "    [theme=dark] .colab-df-convert {\n",
              "      background-color: #3B4455;\n",
              "      fill: #D2E3FC;\n",
              "    }\n",
              "\n",
              "    [theme=dark] .colab-df-convert:hover {\n",
              "      background-color: #434B5C;\n",
              "      box-shadow: 0px 1px 3px 1px rgba(0, 0, 0, 0.15);\n",
              "      filter: drop-shadow(0px 1px 2px rgba(0, 0, 0, 0.3));\n",
              "      fill: #FFFFFF;\n",
              "    }\n",
              "  </style>\n",
              "\n",
              "      <script>\n",
              "        const buttonEl =\n",
              "          document.querySelector('#df-4783a3bb-cf11-4a08-9ed0-834e8673086d button.colab-df-convert');\n",
              "        buttonEl.style.display =\n",
              "          google.colab.kernel.accessAllowed ? 'block' : 'none';\n",
              "\n",
              "        async function convertToInteractive(key) {\n",
              "          const element = document.querySelector('#df-4783a3bb-cf11-4a08-9ed0-834e8673086d');\n",
              "          const dataTable =\n",
              "            await google.colab.kernel.invokeFunction('convertToInteractive',\n",
              "                                                     [key], {});\n",
              "          if (!dataTable) return;\n",
              "\n",
              "          const docLinkHtml = 'Like what you see? Visit the ' +\n",
              "            '<a target=\"_blank\" href=https://colab.research.google.com/notebooks/data_table.ipynb>data table notebook</a>'\n",
              "            + ' to learn more about interactive tables.';\n",
              "          element.innerHTML = '';\n",
              "          dataTable['output_type'] = 'display_data';\n",
              "          await google.colab.output.renderOutput(dataTable, element);\n",
              "          const docLink = document.createElement('div');\n",
              "          docLink.innerHTML = docLinkHtml;\n",
              "          element.appendChild(docLink);\n",
              "        }\n",
              "      </script>\n",
              "    </div>\n",
              "  </div>\n",
              "  "
            ],
            "text/plain": [
              "    mpg  cylinders  displacement  ...  acceleration  model year   origin\n",
              "0  18.0          8         307.0  ...          12.0          70  america\n",
              "1  15.0          8         350.0  ...          11.5          70  america\n",
              "2  18.0          8         318.0  ...          11.0          70  america\n",
              "3  16.0          8         304.0  ...          12.0          70  america\n",
              "4  17.0          8         302.0  ...          10.5          70  america\n",
              "\n",
              "[5 rows x 8 columns]"
            ]
          },
          "metadata": {},
          "execution_count": 282
        }
      ],
      "source": [
        "df = df.drop('car name', axis=1) # Car names do not contribute to mpg target feature\n",
        "\n",
        "# Also replacing the categorical var with actual values\n",
        "df['origin'] = df['origin'].replace({1: 'america', 2: 'europe', 3: 'asia'})\n",
        "df.head()"
      ],
      "id": "grand-aaron"
    },
    {
      "cell_type": "markdown",
      "metadata": {
        "id": "foreign-olympus"
      },
      "source": [
        "Converting categorical columns to numeric using encoding"
      ],
      "id": "foreign-olympus"
    },
    {
      "cell_type": "code",
      "execution_count": 283,
      "metadata": {
        "id": "beginning-heart",
        "outputId": "72c1611d-1f7f-4445-c474-c227258cbc43",
        "colab": {
          "base_uri": "https://localhost:8080/",
          "height": 206
        }
      },
      "outputs": [
        {
          "output_type": "execute_result",
          "data": {
            "text/html": [
              "\n",
              "  <div id=\"df-a9760566-7faf-4c9c-aab3-b46a3e4302cc\">\n",
              "    <div class=\"colab-df-container\">\n",
              "      <div>\n",
              "<style scoped>\n",
              "    .dataframe tbody tr th:only-of-type {\n",
              "        vertical-align: middle;\n",
              "    }\n",
              "\n",
              "    .dataframe tbody tr th {\n",
              "        vertical-align: top;\n",
              "    }\n",
              "\n",
              "    .dataframe thead th {\n",
              "        text-align: right;\n",
              "    }\n",
              "</style>\n",
              "<table border=\"1\" class=\"dataframe\">\n",
              "  <thead>\n",
              "    <tr style=\"text-align: right;\">\n",
              "      <th></th>\n",
              "      <th>mpg</th>\n",
              "      <th>cylinders</th>\n",
              "      <th>displacement</th>\n",
              "      <th>horsepower</th>\n",
              "      <th>weight</th>\n",
              "      <th>acceleration</th>\n",
              "      <th>model year</th>\n",
              "      <th>origin_america</th>\n",
              "      <th>origin_asia</th>\n",
              "      <th>origin_europe</th>\n",
              "    </tr>\n",
              "  </thead>\n",
              "  <tbody>\n",
              "    <tr>\n",
              "      <th>0</th>\n",
              "      <td>18.0</td>\n",
              "      <td>8</td>\n",
              "      <td>307.0</td>\n",
              "      <td>130.0</td>\n",
              "      <td>3504</td>\n",
              "      <td>12.0</td>\n",
              "      <td>70</td>\n",
              "      <td>1</td>\n",
              "      <td>0</td>\n",
              "      <td>0</td>\n",
              "    </tr>\n",
              "    <tr>\n",
              "      <th>1</th>\n",
              "      <td>15.0</td>\n",
              "      <td>8</td>\n",
              "      <td>350.0</td>\n",
              "      <td>165.0</td>\n",
              "      <td>3693</td>\n",
              "      <td>11.5</td>\n",
              "      <td>70</td>\n",
              "      <td>1</td>\n",
              "      <td>0</td>\n",
              "      <td>0</td>\n",
              "    </tr>\n",
              "    <tr>\n",
              "      <th>2</th>\n",
              "      <td>18.0</td>\n",
              "      <td>8</td>\n",
              "      <td>318.0</td>\n",
              "      <td>150.0</td>\n",
              "      <td>3436</td>\n",
              "      <td>11.0</td>\n",
              "      <td>70</td>\n",
              "      <td>1</td>\n",
              "      <td>0</td>\n",
              "      <td>0</td>\n",
              "    </tr>\n",
              "    <tr>\n",
              "      <th>3</th>\n",
              "      <td>16.0</td>\n",
              "      <td>8</td>\n",
              "      <td>304.0</td>\n",
              "      <td>150.0</td>\n",
              "      <td>3433</td>\n",
              "      <td>12.0</td>\n",
              "      <td>70</td>\n",
              "      <td>1</td>\n",
              "      <td>0</td>\n",
              "      <td>0</td>\n",
              "    </tr>\n",
              "    <tr>\n",
              "      <th>4</th>\n",
              "      <td>17.0</td>\n",
              "      <td>8</td>\n",
              "      <td>302.0</td>\n",
              "      <td>140.0</td>\n",
              "      <td>3449</td>\n",
              "      <td>10.5</td>\n",
              "      <td>70</td>\n",
              "      <td>1</td>\n",
              "      <td>0</td>\n",
              "      <td>0</td>\n",
              "    </tr>\n",
              "  </tbody>\n",
              "</table>\n",
              "</div>\n",
              "      <button class=\"colab-df-convert\" onclick=\"convertToInteractive('df-a9760566-7faf-4c9c-aab3-b46a3e4302cc')\"\n",
              "              title=\"Convert this dataframe to an interactive table.\"\n",
              "              style=\"display:none;\">\n",
              "        \n",
              "  <svg xmlns=\"http://www.w3.org/2000/svg\" height=\"24px\"viewBox=\"0 0 24 24\"\n",
              "       width=\"24px\">\n",
              "    <path d=\"M0 0h24v24H0V0z\" fill=\"none\"/>\n",
              "    <path d=\"M18.56 5.44l.94 2.06.94-2.06 2.06-.94-2.06-.94-.94-2.06-.94 2.06-2.06.94zm-11 1L8.5 8.5l.94-2.06 2.06-.94-2.06-.94L8.5 2.5l-.94 2.06-2.06.94zm10 10l.94 2.06.94-2.06 2.06-.94-2.06-.94-.94-2.06-.94 2.06-2.06.94z\"/><path d=\"M17.41 7.96l-1.37-1.37c-.4-.4-.92-.59-1.43-.59-.52 0-1.04.2-1.43.59L10.3 9.45l-7.72 7.72c-.78.78-.78 2.05 0 2.83L4 21.41c.39.39.9.59 1.41.59.51 0 1.02-.2 1.41-.59l7.78-7.78 2.81-2.81c.8-.78.8-2.07 0-2.86zM5.41 20L4 18.59l7.72-7.72 1.47 1.35L5.41 20z\"/>\n",
              "  </svg>\n",
              "      </button>\n",
              "      \n",
              "  <style>\n",
              "    .colab-df-container {\n",
              "      display:flex;\n",
              "      flex-wrap:wrap;\n",
              "      gap: 12px;\n",
              "    }\n",
              "\n",
              "    .colab-df-convert {\n",
              "      background-color: #E8F0FE;\n",
              "      border: none;\n",
              "      border-radius: 50%;\n",
              "      cursor: pointer;\n",
              "      display: none;\n",
              "      fill: #1967D2;\n",
              "      height: 32px;\n",
              "      padding: 0 0 0 0;\n",
              "      width: 32px;\n",
              "    }\n",
              "\n",
              "    .colab-df-convert:hover {\n",
              "      background-color: #E2EBFA;\n",
              "      box-shadow: 0px 1px 2px rgba(60, 64, 67, 0.3), 0px 1px 3px 1px rgba(60, 64, 67, 0.15);\n",
              "      fill: #174EA6;\n",
              "    }\n",
              "\n",
              "    [theme=dark] .colab-df-convert {\n",
              "      background-color: #3B4455;\n",
              "      fill: #D2E3FC;\n",
              "    }\n",
              "\n",
              "    [theme=dark] .colab-df-convert:hover {\n",
              "      background-color: #434B5C;\n",
              "      box-shadow: 0px 1px 3px 1px rgba(0, 0, 0, 0.15);\n",
              "      filter: drop-shadow(0px 1px 2px rgba(0, 0, 0, 0.3));\n",
              "      fill: #FFFFFF;\n",
              "    }\n",
              "  </style>\n",
              "\n",
              "      <script>\n",
              "        const buttonEl =\n",
              "          document.querySelector('#df-a9760566-7faf-4c9c-aab3-b46a3e4302cc button.colab-df-convert');\n",
              "        buttonEl.style.display =\n",
              "          google.colab.kernel.accessAllowed ? 'block' : 'none';\n",
              "\n",
              "        async function convertToInteractive(key) {\n",
              "          const element = document.querySelector('#df-a9760566-7faf-4c9c-aab3-b46a3e4302cc');\n",
              "          const dataTable =\n",
              "            await google.colab.kernel.invokeFunction('convertToInteractive',\n",
              "                                                     [key], {});\n",
              "          if (!dataTable) return;\n",
              "\n",
              "          const docLinkHtml = 'Like what you see? Visit the ' +\n",
              "            '<a target=\"_blank\" href=https://colab.research.google.com/notebooks/data_table.ipynb>data table notebook</a>'\n",
              "            + ' to learn more about interactive tables.';\n",
              "          element.innerHTML = '';\n",
              "          dataTable['output_type'] = 'display_data';\n",
              "          await google.colab.output.renderOutput(dataTable, element);\n",
              "          const docLink = document.createElement('div');\n",
              "          docLink.innerHTML = docLinkHtml;\n",
              "          element.appendChild(docLink);\n",
              "        }\n",
              "      </script>\n",
              "    </div>\n",
              "  </div>\n",
              "  "
            ],
            "text/plain": [
              "    mpg  cylinders  displacement  ...  origin_america  origin_asia  origin_europe\n",
              "0  18.0          8         307.0  ...               1            0              0\n",
              "1  15.0          8         350.0  ...               1            0              0\n",
              "2  18.0          8         318.0  ...               1            0              0\n",
              "3  16.0          8         304.0  ...               1            0              0\n",
              "4  17.0          8         302.0  ...               1            0              0\n",
              "\n",
              "[5 rows x 10 columns]"
            ]
          },
          "metadata": {},
          "execution_count": 283
        }
      ],
      "source": [
        "df = pd.get_dummies(df, columns=['origin'])\n",
        "df.head()"
      ],
      "id": "beginning-heart"
    },
    {
      "cell_type": "markdown",
      "metadata": {
        "id": "tired-stick"
      },
      "source": [
        "Checking the correlation of features"
      ],
      "id": "tired-stick"
    },
    {
      "cell_type": "code",
      "execution_count": 284,
      "metadata": {
        "id": "latin-consent",
        "outputId": "a0c8c8af-02fa-4e2a-8f16-0f436a1b0fae",
        "colab": {
          "base_uri": "https://localhost:8080/",
          "height": 497
        }
      },
      "outputs": [
        {
          "output_type": "display_data",
          "data": {
            "image/png": "[encoded data removed]",
            "text/plain": [
              "<Figure size 864x504 with 2 Axes>"
            ]
          },
          "metadata": {
            "needs_background": "light"
          }
        }
      ],
      "source": [
        "plt.rcParams['figure.figsize'] = [12,7]\n",
        "sns.heatmap(df.corr(), annot = True, cmap = 'RdYlBu');"
      ],
      "id": "latin-consent"
    },
    {
      "cell_type": "code",
      "source": [
        "df_corr = df.corr()\n",
        "df_corr['mpg'].sort_values(ascending=False)"
      ],
      "metadata": {
        "colab": {
          "base_uri": "https://localhost:8080/"
        },
        "id": "3ueU1AmNeIN-",
        "outputId": "dcdc13ea-e24a-4cbd-ee49-54580f0b4b97"
      },
      "id": "3ueU1AmNeIN-",
      "execution_count": 286,
      "outputs": [
        {
          "output_type": "execute_result",
          "data": {
            "text/plain": [
              "mpg               1.000000\n",
              "model year        0.579267\n",
              "origin_asia       0.442174\n",
              "acceleration      0.420289\n",
              "origin_europe     0.259022\n",
              "origin_america   -0.568192\n",
              "horsepower       -0.773453\n",
              "cylinders        -0.775396\n",
              "displacement     -0.804203\n",
              "weight           -0.831741\n",
              "Name: mpg, dtype: float64"
            ]
          },
          "metadata": {},
          "execution_count": 286
        }
      ]
    },
    {
      "cell_type": "markdown",
      "source": [
        "Some highly related columns include weight,displacement,horsepower "
      ],
      "metadata": {
        "id": "sQdSmOp3et-x"
      },
      "id": "sQdSmOp3et-x"
    },
    {
      "cell_type": "code",
      "source": [
        "sns.jointplot(data=df,x='model year',y='mpg')"
      ],
      "metadata": {
        "colab": {
          "base_uri": "https://localhost:8080/",
          "height": 459
        },
        "id": "1VrZl1Fae90Y",
        "outputId": "6c58431a-47a3-4686-d99d-e6ac1ed70aa0"
      },
      "id": "1VrZl1Fae90Y",
      "execution_count": 288,
      "outputs": [
        {
          "output_type": "execute_result",
          "data": {
            "text/plain": [
              "<seaborn.axisgrid.JointGrid at 0x7fb74957ba50>"
            ]
          },
          "metadata": {},
          "execution_count": 288
        },
        {
          "output_type": "display_data",
          "data": {
            "image/png": "[encoded data removed]",
            "text/plain": [
              "<Figure size 432x432 with 3 Axes>"
            ]
          },
          "metadata": {
            "needs_background": "light"
          }
        }
      ]
    },
    {
      "cell_type": "markdown",
      "source": [
        "We can observe a positive correlation between mpg & model year with one increasing when the other does "
      ],
      "metadata": {
        "id": "JF9dgYJtfLmr"
      },
      "id": "JF9dgYJtfLmr"
    },
    {
      "cell_type": "code",
      "execution_count": 217,
      "metadata": {
        "id": "european-automation",
        "outputId": "22341b43-8de2-4916-b1f7-f5f793caf943",
        "colab": {
          "base_uri": "https://localhost:8080/",
          "height": 387
        }
      },
      "outputs": [
        {
          "output_type": "execute_result",
          "data": {
            "text/plain": [
              "<seaborn.axisgrid.FacetGrid at 0x7fb74e7afa10>"
            ]
          },
          "metadata": {},
          "execution_count": 217
        },
        {
          "output_type": "display_data",
          "data": {
            "image/png": "[encoded data removed]",
            "text/plain": [
              "<Figure size 360x360 with 1 Axes>"
            ]
          },
          "metadata": {
            "needs_background": "light"
          }
        }
      ],
      "source": [
        "sns.displot(df['horsepower'])"
      ],
      "id": "european-automation"
    },
    {
      "cell_type": "markdown",
      "metadata": {
        "id": "preceding-coating"
      },
      "source": [
        "The horsepower column values are a bit skewed to the lower side"
      ],
      "id": "preceding-coating"
    },
    {
      "cell_type": "code",
      "execution_count": 218,
      "metadata": {
        "id": "tutorial-julian",
        "outputId": "f6db1315-1a65-48a1-fc57-fba8fed5c119",
        "colab": {
          "base_uri": "https://localhost:8080/",
          "height": 459
        }
      },
      "outputs": [
        {
          "output_type": "execute_result",
          "data": {
            "text/plain": [
              "<seaborn.axisgrid.JointGrid at 0x7fb74ee2b710>"
            ]
          },
          "metadata": {},
          "execution_count": 218
        },
        {
          "output_type": "display_data",
          "data": {
            "image/png": "[encoded data removed]",
            "text/plain": [
              "<Figure size 432x432 with 3 Axes>"
            ]
          },
          "metadata": {
            "needs_background": "light"
          }
        }
      ],
      "source": [
        "sns.jointplot(data=df,x='horsepower',y='mpg')"
      ],
      "id": "tutorial-julian"
    },
    {
      "cell_type": "markdown",
      "metadata": {
        "id": "afraid-guide"
      },
      "source": [
        "We can see that as horsepower increases, mpg decreases and the realtionship can be described by a linear fit"
      ],
      "id": "afraid-guide"
    },
    {
      "cell_type": "code",
      "execution_count": 219,
      "metadata": {
        "id": "judicial-textbook",
        "outputId": "62ec40ab-bbd9-462f-afa4-5782adf4cd7d",
        "colab": {
          "base_uri": "https://localhost:8080/",
          "height": 387
        }
      },
      "outputs": [
        {
          "output_type": "execute_result",
          "data": {
            "text/plain": [
              "<seaborn.axisgrid.FacetGrid at 0x7fb74edeb290>"
            ]
          },
          "metadata": {},
          "execution_count": 219
        },
        {
          "output_type": "display_data",
          "data": {
            "image/png": "[encoded data removed]",
            "text/plain": [
              "<Figure size 360x360 with 1 Axes>"
            ]
          },
          "metadata": {
            "needs_background": "light"
          }
        }
      ],
      "source": [
        "sns.displot(df['cylinders'])"
      ],
      "id": "judicial-textbook"
    },
    {
      "cell_type": "markdown",
      "metadata": {
        "id": "dependent-fruit"
      },
      "source": [
        "The dataset majorly consists of vars having 4,6 or 8 cylinders"
      ],
      "id": "dependent-fruit"
    },
    {
      "cell_type": "code",
      "execution_count": 220,
      "metadata": {
        "id": "demographic-rough",
        "outputId": "c45f68e8-2248-4f68-99f9-288dcfdcd79e",
        "colab": {
          "base_uri": "https://localhost:8080/",
          "height": 459
        }
      },
      "outputs": [
        {
          "output_type": "execute_result",
          "data": {
            "text/plain": [
              "<seaborn.axisgrid.JointGrid at 0x7fb74dbf6390>"
            ]
          },
          "metadata": {},
          "execution_count": 220
        },
        {
          "output_type": "display_data",
          "data": {
            "image/png": "[encoded data removed]",
            "text/plain": [
              "<Figure size 432x432 with 3 Axes>"
            ]
          },
          "metadata": {
            "needs_background": "light"
          }
        }
      ],
      "source": [
        "sns.jointplot(data=df,x='cylinders',y='mpg')"
      ],
      "id": "demographic-rough"
    },
    {
      "cell_type": "markdown",
      "metadata": {
        "id": "sound-wings"
      },
      "source": [
        "From this we can notice that even number of cynlinders might affect mpg "
      ],
      "id": "sound-wings"
    },
    {
      "cell_type": "markdown",
      "metadata": {
        "id": "potential-mercy"
      },
      "source": [
        "### Splitting Data into Train and Test and Model Selection/Training"
      ],
      "id": "potential-mercy"
    },
    {
      "cell_type": "code",
      "execution_count": 289,
      "metadata": {
        "id": "celtic-romance"
      },
      "outputs": [],
      "source": [
        "X = df.drop(['mpg','origin_europe'], axis=1)\n",
        "y = df[['mpg']]\n",
        "\n",
        "X_train, X_test, y_train, y_test = train_test_split(X, y, test_size=0.30, random_state=0)"
      ],
      "id": "celtic-romance"
    },
    {
      "cell_type": "code",
      "execution_count": 290,
      "metadata": {
        "id": "certain-master",
        "outputId": "4354c61b-86ab-415f-a8d2-84ca8c3bbb84",
        "colab": {
          "base_uri": "https://localhost:8080/"
        }
      },
      "outputs": [
        {
          "output_type": "stream",
          "name": "stdout",
          "text": [
            "The coefficient for cylinders is -0.3110243383377075\n",
            "The coefficient for displacement is 0.02468199702176229\n",
            "The coefficient for horsepower is -0.021889583985445993\n",
            "The coefficient for weight is -0.006717667751664862\n",
            "The coefficient for acceleration is 0.19083471034988045\n",
            "The coefficient for model year is 0.7617325807449357\n",
            "The coefficient for origin_america is -2.5661017267124513\n",
            "The coefficient for origin_asia is 0.36951160114865256\n"
          ]
        }
      ],
      "source": [
        "from sklearn.linear_model import LinearRegression\n",
        "regression_model = LinearRegression()\n",
        "regression_model.fit(X_train, y_train)\n",
        "\n",
        "# Printing the coefficients for each variable and the intercept\n",
        "\n",
        "for idx, col_name in enumerate(X_train.columns):\n",
        "    print(f\"The coefficient for {col_name} is {regression_model.coef_[0][idx]}\")"
      ],
      "id": "certain-master"
    },
    {
      "cell_type": "code",
      "execution_count": 291,
      "metadata": {
        "id": "stuffed-makeup",
        "outputId": "fb410f34-5c1b-4284-be4e-ad143cb219d4",
        "colab": {
          "base_uri": "https://localhost:8080/"
        }
      },
      "outputs": [
        {
          "output_type": "stream",
          "name": "stdout",
          "text": [
            "The intercept for model is [-16.82493968]\n"
          ]
        }
      ],
      "source": [
        "intercept = regression_model.intercept_[0]\n",
        "print(f\"The intercept for model is {regression_model.intercept_}\")"
      ],
      "id": "stuffed-makeup"
    },
    {
      "cell_type": "code",
      "execution_count": 292,
      "metadata": {
        "id": "dress-economy",
        "outputId": "1cce564a-cbd7-4059-abfa-6a7e1dd760c7",
        "colab": {
          "base_uri": "https://localhost:8080/"
        }
      },
      "outputs": [
        {
          "output_type": "stream",
          "name": "stdout",
          "text": [
            "The score for the model is 0.8226939742691548\n"
          ]
        }
      ],
      "source": [
        "print(\"The score for the model is\",regression_model.score(X_test,y_test))"
      ],
      "id": "dress-economy"
    },
    {
      "cell_type": "code",
      "execution_count": 293,
      "metadata": {
        "id": "cordless-taylor"
      },
      "outputs": [],
      "source": [
        "predictions = regression_model.predict(X_test)"
      ],
      "id": "cordless-taylor"
    },
    {
      "cell_type": "markdown",
      "metadata": {
        "id": "compact-midwest"
      },
      "source": [
        "### Model Evaluation"
      ],
      "id": "compact-midwest"
    },
    {
      "cell_type": "code",
      "execution_count": 294,
      "metadata": {
        "id": "unable-point",
        "outputId": "63403e1a-0d21-44b4-eee1-38345395ee64",
        "colab": {
          "base_uri": "https://localhost:8080/"
        }
      },
      "outputs": [
        {
          "output_type": "stream",
          "name": "stdout",
          "text": [
            "Root Mean Square Error is 3.3660345879714733\n"
          ]
        }
      ],
      "source": [
        "# Model Evaluation\n",
        "rmse = metrics.mean_squared_error(y_test, predictions) ** (0.5)\n",
        "print('Root Mean Square Error is',rmse)"
      ],
      "id": "unable-point"
    },
    {
      "cell_type": "markdown",
      "source": [
        "Thus a regression score of about 0.82 i.e 82% accuracy was achieved with 3.3 root mean square error "
      ],
      "metadata": {
        "id": "k5Kw35OzgtQ3"
      },
      "id": "k5Kw35OzgtQ3"
    },
    {
      "cell_type": "markdown",
      "source": [
        "Conclusion - 1. I understood how to preprocess Dataset and handle missing values and cetgorical columns as well as EDA.\n",
        "2. I learnt how to train model and its evaluation as well as its tuning to improve performance. "
      ],
      "metadata": {
        "id": "6lmzwbOHpdwb"
      },
      "id": "6lmzwbOHpdwb"
    }
  ],
  "metadata": {
    "kernelspec": {
      "display_name": "Python 3",
      "language": "python",
      "name": "python3"
    },
    "language_info": {
      "codemirror_mode": {
        "name": "ipython",
        "version": 3
      },
      "file_extension": ".py",
      "mimetype": "text/x-python",
      "name": "python",
      "nbconvert_exporter": "python",
      "pygments_lexer": "ipython3",
      "version": "3.7.9"
    },
    "colab": {
      "name": "DS-Exp1.ipynb",
      "provenance": [],
      "collapsed_sections": [
        "honest-bloom",
        "zCUGT3nFLVip",
        "restricted-mixture",
        "earlier-rapid",
        "NXnqiSq_Lsoh",
        "Ce3u-dviMEP8",
        "UQ6yykLHMAEJ",
        "complete-spirituality",
        "challenging-demand",
        "decreased-firewall",
        "tired-stick"
      ],
      "include_colab_link": true
    }
  },
  "nbformat": 4,
  "nbformat_minor": 5
}