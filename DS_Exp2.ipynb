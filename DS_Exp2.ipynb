{
  "cells": [
    {
      "cell_type": "markdown",
      "metadata": {
        "id": "view-in-github",
        "colab_type": "text"
      },
      "source": [
        "<a href=\"https://colab.research.google.com/github/TrushaT/Data-Science-/blob/main/DS_Exp2.ipynb\" target=\"_parent\"><img src=\"https://colab.research.google.com/assets/colab-badge.svg\" alt=\"Open In Colab\"/></a>"
      ]
    },
    {
      "cell_type": "markdown",
      "id": "average-miniature",
      "metadata": {
        "id": "average-miniature"
      },
      "source": [
        "Name: Trusha Talati  \n",
        "UID: 2018130054"
      ]
    },
    {
      "cell_type": "markdown",
      "source": [
        "EXP 2 - Implementing PCA"
      ],
      "metadata": {
        "id": "LX18I6utjXAV"
      },
      "id": "LX18I6utjXAV"
    },
    {
      "cell_type": "markdown",
      "id": "chicken-tribute",
      "metadata": {
        "id": "chicken-tribute"
      },
      "source": [
        "\n",
        "#### Load the dataset"
      ]
    },
    {
      "cell_type": "code",
      "execution_count": null,
      "id": "metropolitan-packaging",
      "metadata": {
        "id": "metropolitan-packaging"
      },
      "outputs": [],
      "source": [
        "import pandas as pd\n",
        "import numpy as np\n",
        "import matplotlib.pyplot as plt\n",
        "import seaborn as sns\n",
        "import warnings\n",
        "warnings.filterwarnings('ignore')\n",
        "%matplotlib inline"
      ]
    },
    {
      "cell_type": "code",
      "source": [
        "from google.colab import drive #mounting google drive which contains the dataset \n",
        "drive.mount('/content/drive')"
      ],
      "metadata": {
        "colab": {
          "base_uri": "https://localhost:8080/"
        },
        "id": "ZK-49l-jRJO0",
        "outputId": "6f831455-8f86-431d-9e29-5720b118ef8b"
      },
      "id": "ZK-49l-jRJO0",
      "execution_count": null,
      "outputs": [
        {
          "output_type": "stream",
          "name": "stdout",
          "text": [
            "Drive already mounted at /content/drive; to attempt to forcibly remount, call drive.mount(\"/content/drive\", force_remount=True).\n"
          ]
        }
      ]
    },
    {
      "cell_type": "code",
      "source": [
        "%cd /content/drive/MyDrive/DS"
      ],
      "metadata": {
        "colab": {
          "base_uri": "https://localhost:8080/"
        },
        "id": "-wPAu-wPRMB6",
        "outputId": "c9c7abb9-e42c-4f4e-8f69-001ff99f1142"
      },
      "id": "-wPAu-wPRMB6",
      "execution_count": null,
      "outputs": [
        {
          "output_type": "stream",
          "name": "stdout",
          "text": [
            "/content/drive/MyDrive/DS\n"
          ]
        }
      ]
    },
    {
      "cell_type": "code",
      "source": [
        "%pwd # checking the present directory which contains the dataset"
      ],
      "metadata": {
        "colab": {
          "base_uri": "https://localhost:8080/"
        },
        "id": "u4v_E6_eROVG",
        "outputId": "6275bdd5-a121-49ff-8516-a6b432a278fa"
      },
      "id": "u4v_E6_eROVG",
      "execution_count": null,
      "outputs": [
        {
          "output_type": "execute_result",
          "data": {
            "application/vnd.google.colaboratory.intrinsic+json": {
              "type": "string"
            },
            "text/plain": [
              "'/content/drive/MyDrive/DS'"
            ]
          },
          "metadata": {},
          "execution_count": 56
        }
      ]
    },
    {
      "cell_type": "code",
      "execution_count": null,
      "id": "swiss-oriental",
      "metadata": {
        "id": "swiss-oriental"
      },
      "outputs": [],
      "source": [
        "df = pd.read_csv('adult.csv')"
      ]
    },
    {
      "cell_type": "code",
      "execution_count": null,
      "id": "hundred-cabinet",
      "metadata": {
        "id": "hundred-cabinet",
        "outputId": "ffbc4e2f-c53c-40a4-9ce4-0e7e72889b42",
        "colab": {
          "base_uri": "https://localhost:8080/"
        }
      },
      "outputs": [
        {
          "output_type": "execute_result",
          "data": {
            "text/html": [
              "\n",
              "  <div id=\"df-239cb606-3d77-4845-8b6d-5b1575f8b9b6\">\n",
              "    <div class=\"colab-df-container\">\n",
              "      <div>\n",
              "<style scoped>\n",
              "    .dataframe tbody tr th:only-of-type {\n",
              "        vertical-align: middle;\n",
              "    }\n",
              "\n",
              "    .dataframe tbody tr th {\n",
              "        vertical-align: top;\n",
              "    }\n",
              "\n",
              "    .dataframe thead th {\n",
              "        text-align: right;\n",
              "    }\n",
              "</style>\n",
              "<table border=\"1\" class=\"dataframe\">\n",
              "  <thead>\n",
              "    <tr style=\"text-align: right;\">\n",
              "      <th></th>\n",
              "      <th>age</th>\n",
              "      <th>workclass</th>\n",
              "      <th>fnlwgt</th>\n",
              "      <th>education</th>\n",
              "      <th>education.num</th>\n",
              "      <th>marital.status</th>\n",
              "      <th>occupation</th>\n",
              "      <th>relationship</th>\n",
              "      <th>race</th>\n",
              "      <th>sex</th>\n",
              "      <th>capital.gain</th>\n",
              "      <th>capital.loss</th>\n",
              "      <th>hours.per.week</th>\n",
              "      <th>native.country</th>\n",
              "      <th>income</th>\n",
              "    </tr>\n",
              "  </thead>\n",
              "  <tbody>\n",
              "    <tr>\n",
              "      <th>0</th>\n",
              "      <td>90</td>\n",
              "      <td>?</td>\n",
              "      <td>77053</td>\n",
              "      <td>HS-grad</td>\n",
              "      <td>9</td>\n",
              "      <td>Widowed</td>\n",
              "      <td>?</td>\n",
              "      <td>Not-in-family</td>\n",
              "      <td>White</td>\n",
              "      <td>Female</td>\n",
              "      <td>0</td>\n",
              "      <td>4356</td>\n",
              "      <td>40</td>\n",
              "      <td>United-States</td>\n",
              "      <td>&lt;=50K</td>\n",
              "    </tr>\n",
              "    <tr>\n",
              "      <th>1</th>\n",
              "      <td>82</td>\n",
              "      <td>Private</td>\n",
              "      <td>132870</td>\n",
              "      <td>HS-grad</td>\n",
              "      <td>9</td>\n",
              "      <td>Widowed</td>\n",
              "      <td>Exec-managerial</td>\n",
              "      <td>Not-in-family</td>\n",
              "      <td>White</td>\n",
              "      <td>Female</td>\n",
              "      <td>0</td>\n",
              "      <td>4356</td>\n",
              "      <td>18</td>\n",
              "      <td>United-States</td>\n",
              "      <td>&lt;=50K</td>\n",
              "    </tr>\n",
              "    <tr>\n",
              "      <th>2</th>\n",
              "      <td>66</td>\n",
              "      <td>?</td>\n",
              "      <td>186061</td>\n",
              "      <td>Some-college</td>\n",
              "      <td>10</td>\n",
              "      <td>Widowed</td>\n",
              "      <td>?</td>\n",
              "      <td>Unmarried</td>\n",
              "      <td>Black</td>\n",
              "      <td>Female</td>\n",
              "      <td>0</td>\n",
              "      <td>4356</td>\n",
              "      <td>40</td>\n",
              "      <td>United-States</td>\n",
              "      <td>&lt;=50K</td>\n",
              "    </tr>\n",
              "    <tr>\n",
              "      <th>3</th>\n",
              "      <td>54</td>\n",
              "      <td>Private</td>\n",
              "      <td>140359</td>\n",
              "      <td>7th-8th</td>\n",
              "      <td>4</td>\n",
              "      <td>Divorced</td>\n",
              "      <td>Machine-op-inspct</td>\n",
              "      <td>Unmarried</td>\n",
              "      <td>White</td>\n",
              "      <td>Female</td>\n",
              "      <td>0</td>\n",
              "      <td>3900</td>\n",
              "      <td>40</td>\n",
              "      <td>United-States</td>\n",
              "      <td>&lt;=50K</td>\n",
              "    </tr>\n",
              "    <tr>\n",
              "      <th>4</th>\n",
              "      <td>41</td>\n",
              "      <td>Private</td>\n",
              "      <td>264663</td>\n",
              "      <td>Some-college</td>\n",
              "      <td>10</td>\n",
              "      <td>Separated</td>\n",
              "      <td>Prof-specialty</td>\n",
              "      <td>Own-child</td>\n",
              "      <td>White</td>\n",
              "      <td>Female</td>\n",
              "      <td>0</td>\n",
              "      <td>3900</td>\n",
              "      <td>40</td>\n",
              "      <td>United-States</td>\n",
              "      <td>&lt;=50K</td>\n",
              "    </tr>\n",
              "  </tbody>\n",
              "</table>\n",
              "</div>\n",
              "      <button class=\"colab-df-convert\" onclick=\"convertToInteractive('df-239cb606-3d77-4845-8b6d-5b1575f8b9b6')\"\n",
              "              title=\"Convert this dataframe to an interactive table.\"\n",
              "              style=\"display:none;\">\n",
              "        \n",
              "  <svg xmlns=\"http://www.w3.org/2000/svg\" height=\"24px\"viewBox=\"0 0 24 24\"\n",
              "       width=\"24px\">\n",
              "    <path d=\"M0 0h24v24H0V0z\" fill=\"none\"/>\n",
              "    <path d=\"M18.56 5.44l.94 2.06.94-2.06 2.06-.94-2.06-.94-.94-2.06-.94 2.06-2.06.94zm-11 1L8.5 8.5l.94-2.06 2.06-.94-2.06-.94L8.5 2.5l-.94 2.06-2.06.94zm10 10l.94 2.06.94-2.06 2.06-.94-2.06-.94-.94-2.06-.94 2.06-2.06.94z\"/><path d=\"M17.41 7.96l-1.37-1.37c-.4-.4-.92-.59-1.43-.59-.52 0-1.04.2-1.43.59L10.3 9.45l-7.72 7.72c-.78.78-.78 2.05 0 2.83L4 21.41c.39.39.9.59 1.41.59.51 0 1.02-.2 1.41-.59l7.78-7.78 2.81-2.81c.8-.78.8-2.07 0-2.86zM5.41 20L4 18.59l7.72-7.72 1.47 1.35L5.41 20z\"/>\n",
              "  </svg>\n",
              "      </button>\n",
              "      \n",
              "  <style>\n",
              "    .colab-df-container {\n",
              "      display:flex;\n",
              "      flex-wrap:wrap;\n",
              "      gap: 12px;\n",
              "    }\n",
              "\n",
              "    .colab-df-convert {\n",
              "      background-color: #E8F0FE;\n",
              "      border: none;\n",
              "      border-radius: 50%;\n",
              "      cursor: pointer;\n",
              "      display: none;\n",
              "      fill: #1967D2;\n",
              "      height: 32px;\n",
              "      padding: 0 0 0 0;\n",
              "      width: 32px;\n",
              "    }\n",
              "\n",
              "    .colab-df-convert:hover {\n",
              "      background-color: #E2EBFA;\n",
              "      box-shadow: 0px 1px 2px rgba(60, 64, 67, 0.3), 0px 1px 3px 1px rgba(60, 64, 67, 0.15);\n",
              "      fill: #174EA6;\n",
              "    }\n",
              "\n",
              "    [theme=dark] .colab-df-convert {\n",
              "      background-color: #3B4455;\n",
              "      fill: #D2E3FC;\n",
              "    }\n",
              "\n",
              "    [theme=dark] .colab-df-convert:hover {\n",
              "      background-color: #434B5C;\n",
              "      box-shadow: 0px 1px 3px 1px rgba(0, 0, 0, 0.15);\n",
              "      filter: drop-shadow(0px 1px 2px rgba(0, 0, 0, 0.3));\n",
              "      fill: #FFFFFF;\n",
              "    }\n",
              "  </style>\n",
              "\n",
              "      <script>\n",
              "        const buttonEl =\n",
              "          document.querySelector('#df-239cb606-3d77-4845-8b6d-5b1575f8b9b6 button.colab-df-convert');\n",
              "        buttonEl.style.display =\n",
              "          google.colab.kernel.accessAllowed ? 'block' : 'none';\n",
              "\n",
              "        async function convertToInteractive(key) {\n",
              "          const element = document.querySelector('#df-239cb606-3d77-4845-8b6d-5b1575f8b9b6');\n",
              "          const dataTable =\n",
              "            await google.colab.kernel.invokeFunction('convertToInteractive',\n",
              "                                                     [key], {});\n",
              "          if (!dataTable) return;\n",
              "\n",
              "          const docLinkHtml = 'Like what you see? Visit the ' +\n",
              "            '<a target=\"_blank\" href=https://colab.research.google.com/notebooks/data_table.ipynb>data table notebook</a>'\n",
              "            + ' to learn more about interactive tables.';\n",
              "          element.innerHTML = '';\n",
              "          dataTable['output_type'] = 'display_data';\n",
              "          await google.colab.output.renderOutput(dataTable, element);\n",
              "          const docLink = document.createElement('div');\n",
              "          docLink.innerHTML = docLinkHtml;\n",
              "          element.appendChild(docLink);\n",
              "        }\n",
              "      </script>\n",
              "    </div>\n",
              "  </div>\n",
              "  "
            ],
            "text/plain": [
              "   age workclass  fnlwgt  ... hours.per.week  native.country income\n",
              "0   90         ?   77053  ...             40   United-States  <=50K\n",
              "1   82   Private  132870  ...             18   United-States  <=50K\n",
              "2   66         ?  186061  ...             40   United-States  <=50K\n",
              "3   54   Private  140359  ...             40   United-States  <=50K\n",
              "4   41   Private  264663  ...             40   United-States  <=50K\n",
              "\n",
              "[5 rows x 15 columns]"
            ]
          },
          "metadata": {},
          "execution_count": 58
        }
      ],
      "source": [
        "df.head()"
      ]
    },
    {
      "cell_type": "code",
      "execution_count": null,
      "id": "afraid-entertainment",
      "metadata": {
        "id": "afraid-entertainment",
        "outputId": "ce923da9-cc83-44b3-8f78-bbc8f962966e",
        "colab": {
          "base_uri": "https://localhost:8080/"
        }
      },
      "outputs": [
        {
          "output_type": "stream",
          "name": "stdout",
          "text": [
            "<class 'pandas.core.frame.DataFrame'>\n",
            "RangeIndex: 32561 entries, 0 to 32560\n",
            "Data columns (total 15 columns):\n",
            " #   Column          Non-Null Count  Dtype \n",
            "---  ------          --------------  ----- \n",
            " 0   age             32561 non-null  int64 \n",
            " 1   workclass       32561 non-null  object\n",
            " 2   fnlwgt          32561 non-null  int64 \n",
            " 3   education       32561 non-null  object\n",
            " 4   education.num   32561 non-null  int64 \n",
            " 5   marital.status  32561 non-null  object\n",
            " 6   occupation      32561 non-null  object\n",
            " 7   relationship    32561 non-null  object\n",
            " 8   race            32561 non-null  object\n",
            " 9   sex             32561 non-null  object\n",
            " 10  capital.gain    32561 non-null  int64 \n",
            " 11  capital.loss    32561 non-null  int64 \n",
            " 12  hours.per.week  32561 non-null  int64 \n",
            " 13  native.country  32561 non-null  object\n",
            " 14  income          32561 non-null  object\n",
            "dtypes: int64(6), object(9)\n",
            "memory usage: 3.7+ MB\n"
          ]
        }
      ],
      "source": [
        "df.info()"
      ]
    },
    {
      "cell_type": "markdown",
      "id": "eleven-spring",
      "metadata": {
        "id": "eleven-spring"
      },
      "source": [
        "We can see that some columns have no null values which need to be handled. But the cell above shows that the dataset contains values coded as '?'."
      ]
    },
    {
      "cell_type": "code",
      "execution_count": null,
      "id": "textile-hello",
      "metadata": {
        "id": "textile-hello",
        "outputId": "8696cbc6-d4fb-4546-eefe-c7cb5ab37e01",
        "colab": {
          "base_uri": "https://localhost:8080/"
        }
      },
      "outputs": [
        {
          "output_type": "stream",
          "name": "stdout",
          "text": [
            "Shape of data (samples, features):  (32561, 15)\n"
          ]
        }
      ],
      "source": [
        "print(\"Shape of data (samples, features): \",df.shape)"
      ]
    },
    {
      "cell_type": "markdown",
      "id": "removable-martin",
      "metadata": {
        "id": "removable-martin"
      },
      "source": [
        "The dataset has 32561 rows and 15 columns"
      ]
    },
    {
      "cell_type": "code",
      "execution_count": null,
      "id": "assumed-registrar",
      "metadata": {
        "id": "assumed-registrar",
        "outputId": "fd41531b-00ec-421d-e4ac-e51c0935b341",
        "colab": {
          "base_uri": "https://localhost:8080/"
        }
      },
      "outputs": [
        {
          "output_type": "execute_result",
          "data": {
            "text/plain": [
              "object    9\n",
              "int64     6\n",
              "dtype: int64"
            ]
          },
          "metadata": {},
          "execution_count": 61
        }
      ],
      "source": [
        "df.dtypes.value_counts()"
      ]
    },
    {
      "cell_type": "markdown",
      "id": "latest-quality",
      "metadata": {
        "id": "latest-quality"
      },
      "source": [
        "9 columns are categorical and the rest 6 are numeric columns"
      ]
    },
    {
      "cell_type": "code",
      "execution_count": null,
      "id": "inner-arrest",
      "metadata": {
        "id": "inner-arrest"
      },
      "outputs": [],
      "source": [
        "# Encoding '?' values as null values\n",
        "df[df == '?'] = np.nan"
      ]
    },
    {
      "cell_type": "code",
      "execution_count": null,
      "id": "acoustic-present",
      "metadata": {
        "id": "acoustic-present"
      },
      "outputs": [],
      "source": [
        "nan_per = df.isna().sum()/len(df)*100"
      ]
    },
    {
      "cell_type": "code",
      "execution_count": null,
      "id": "recorded-nigeria",
      "metadata": {
        "id": "recorded-nigeria",
        "outputId": "87ec3483-20ce-414f-e90e-5290c902a8f4",
        "colab": {
          "base_uri": "https://localhost:8080/"
        }
      },
      "outputs": [
        {
          "output_type": "execute_result",
          "data": {
            "text/plain": [
              "age               0.000000\n",
              "workclass         5.638647\n",
              "fnlwgt            0.000000\n",
              "education         0.000000\n",
              "education.num     0.000000\n",
              "marital.status    0.000000\n",
              "occupation        5.660146\n",
              "relationship      0.000000\n",
              "race              0.000000\n",
              "sex               0.000000\n",
              "capital.gain      0.000000\n",
              "capital.loss      0.000000\n",
              "hours.per.week    0.000000\n",
              "native.country    1.790486\n",
              "income            0.000000\n",
              "dtype: float64"
            ]
          },
          "metadata": {},
          "execution_count": 64
        }
      ],
      "source": [
        "nan_per"
      ]
    },
    {
      "cell_type": "markdown",
      "id": "serial-infection",
      "metadata": {
        "id": "serial-infection"
      },
      "source": [
        "Columns like workclass, occupation,and native country have null values"
      ]
    },
    {
      "cell_type": "markdown",
      "source": [
        "### Data PreProcessing"
      ],
      "metadata": {
        "id": "JLYtJC_0SrXF"
      },
      "id": "JLYtJC_0SrXF"
    },
    {
      "cell_type": "markdown",
      "id": "sudden-speaker",
      "metadata": {
        "id": "sudden-speaker"
      },
      "source": [
        " Handling missing values"
      ]
    },
    {
      "cell_type": "code",
      "execution_count": null,
      "id": "stable-separation",
      "metadata": {
        "id": "stable-separation"
      },
      "outputs": [],
      "source": [
        "#categorical columns therefore handling missing values by mode\n",
        "for col in ['workclass', 'occupation', 'native.country']:\n",
        "    df[col].fillna(df[col].mode()[0], inplace=True)"
      ]
    },
    {
      "cell_type": "code",
      "execution_count": null,
      "id": "peripheral-tomorrow",
      "metadata": {
        "id": "peripheral-tomorrow",
        "outputId": "cf631782-7deb-432f-e198-2337e99ab8d9",
        "colab": {
          "base_uri": "https://localhost:8080/"
        }
      },
      "outputs": [
        {
          "output_type": "execute_result",
          "data": {
            "text/plain": [
              "age               0\n",
              "workclass         0\n",
              "fnlwgt            0\n",
              "education         0\n",
              "education.num     0\n",
              "marital.status    0\n",
              "occupation        0\n",
              "relationship      0\n",
              "race              0\n",
              "sex               0\n",
              "capital.gain      0\n",
              "capital.loss      0\n",
              "hours.per.week    0\n",
              "native.country    0\n",
              "income            0\n",
              "dtype: int64"
            ]
          },
          "metadata": {},
          "execution_count": 66
        }
      ],
      "source": [
        "#checking if missing values are handled \n",
        "df.isnull().sum()"
      ]
    },
    {
      "cell_type": "code",
      "source": [
        "df2 = df #for running purposes "
      ],
      "metadata": {
        "id": "3U1LLgYQWFtd"
      },
      "id": "3U1LLgYQWFtd",
      "execution_count": null,
      "outputs": []
    },
    {
      "cell_type": "code",
      "source": [
        "df2"
      ],
      "metadata": {
        "colab": {
          "base_uri": "https://localhost:8080/"
        },
        "id": "UfQiYS63WypK",
        "outputId": "9c52531c-a5a7-4ae4-8e1f-d8c655e80513"
      },
      "id": "UfQiYS63WypK",
      "execution_count": null,
      "outputs": [
        {
          "output_type": "execute_result",
          "data": {
            "text/html": [
              "\n",
              "  <div id=\"df-a9e81aff-511c-43f9-8b98-8c6f607ef4ba\">\n",
              "    <div class=\"colab-df-container\">\n",
              "      <div>\n",
              "<style scoped>\n",
              "    .dataframe tbody tr th:only-of-type {\n",
              "        vertical-align: middle;\n",
              "    }\n",
              "\n",
              "    .dataframe tbody tr th {\n",
              "        vertical-align: top;\n",
              "    }\n",
              "\n",
              "    .dataframe thead th {\n",
              "        text-align: right;\n",
              "    }\n",
              "</style>\n",
              "<table border=\"1\" class=\"dataframe\">\n",
              "  <thead>\n",
              "    <tr style=\"text-align: right;\">\n",
              "      <th></th>\n",
              "      <th>age</th>\n",
              "      <th>workclass</th>\n",
              "      <th>fnlwgt</th>\n",
              "      <th>education</th>\n",
              "      <th>education.num</th>\n",
              "      <th>marital.status</th>\n",
              "      <th>occupation</th>\n",
              "      <th>relationship</th>\n",
              "      <th>race</th>\n",
              "      <th>sex</th>\n",
              "      <th>capital.gain</th>\n",
              "      <th>capital.loss</th>\n",
              "      <th>hours.per.week</th>\n",
              "      <th>native.country</th>\n",
              "      <th>income</th>\n",
              "    </tr>\n",
              "  </thead>\n",
              "  <tbody>\n",
              "    <tr>\n",
              "      <th>0</th>\n",
              "      <td>90</td>\n",
              "      <td>Private</td>\n",
              "      <td>77053</td>\n",
              "      <td>HS-grad</td>\n",
              "      <td>9</td>\n",
              "      <td>Widowed</td>\n",
              "      <td>Prof-specialty</td>\n",
              "      <td>Not-in-family</td>\n",
              "      <td>White</td>\n",
              "      <td>Female</td>\n",
              "      <td>0</td>\n",
              "      <td>4356</td>\n",
              "      <td>40</td>\n",
              "      <td>United-States</td>\n",
              "      <td>&lt;=50K</td>\n",
              "    </tr>\n",
              "    <tr>\n",
              "      <th>1</th>\n",
              "      <td>82</td>\n",
              "      <td>Private</td>\n",
              "      <td>132870</td>\n",
              "      <td>HS-grad</td>\n",
              "      <td>9</td>\n",
              "      <td>Widowed</td>\n",
              "      <td>Exec-managerial</td>\n",
              "      <td>Not-in-family</td>\n",
              "      <td>White</td>\n",
              "      <td>Female</td>\n",
              "      <td>0</td>\n",
              "      <td>4356</td>\n",
              "      <td>18</td>\n",
              "      <td>United-States</td>\n",
              "      <td>&lt;=50K</td>\n",
              "    </tr>\n",
              "    <tr>\n",
              "      <th>2</th>\n",
              "      <td>66</td>\n",
              "      <td>Private</td>\n",
              "      <td>186061</td>\n",
              "      <td>Some-college</td>\n",
              "      <td>10</td>\n",
              "      <td>Widowed</td>\n",
              "      <td>Prof-specialty</td>\n",
              "      <td>Unmarried</td>\n",
              "      <td>Black</td>\n",
              "      <td>Female</td>\n",
              "      <td>0</td>\n",
              "      <td>4356</td>\n",
              "      <td>40</td>\n",
              "      <td>United-States</td>\n",
              "      <td>&lt;=50K</td>\n",
              "    </tr>\n",
              "    <tr>\n",
              "      <th>3</th>\n",
              "      <td>54</td>\n",
              "      <td>Private</td>\n",
              "      <td>140359</td>\n",
              "      <td>7th-8th</td>\n",
              "      <td>4</td>\n",
              "      <td>Divorced</td>\n",
              "      <td>Machine-op-inspct</td>\n",
              "      <td>Unmarried</td>\n",
              "      <td>White</td>\n",
              "      <td>Female</td>\n",
              "      <td>0</td>\n",
              "      <td>3900</td>\n",
              "      <td>40</td>\n",
              "      <td>United-States</td>\n",
              "      <td>&lt;=50K</td>\n",
              "    </tr>\n",
              "    <tr>\n",
              "      <th>4</th>\n",
              "      <td>41</td>\n",
              "      <td>Private</td>\n",
              "      <td>264663</td>\n",
              "      <td>Some-college</td>\n",
              "      <td>10</td>\n",
              "      <td>Separated</td>\n",
              "      <td>Prof-specialty</td>\n",
              "      <td>Own-child</td>\n",
              "      <td>White</td>\n",
              "      <td>Female</td>\n",
              "      <td>0</td>\n",
              "      <td>3900</td>\n",
              "      <td>40</td>\n",
              "      <td>United-States</td>\n",
              "      <td>&lt;=50K</td>\n",
              "    </tr>\n",
              "    <tr>\n",
              "      <th>...</th>\n",
              "      <td>...</td>\n",
              "      <td>...</td>\n",
              "      <td>...</td>\n",
              "      <td>...</td>\n",
              "      <td>...</td>\n",
              "      <td>...</td>\n",
              "      <td>...</td>\n",
              "      <td>...</td>\n",
              "      <td>...</td>\n",
              "      <td>...</td>\n",
              "      <td>...</td>\n",
              "      <td>...</td>\n",
              "      <td>...</td>\n",
              "      <td>...</td>\n",
              "      <td>...</td>\n",
              "    </tr>\n",
              "    <tr>\n",
              "      <th>32556</th>\n",
              "      <td>22</td>\n",
              "      <td>Private</td>\n",
              "      <td>310152</td>\n",
              "      <td>Some-college</td>\n",
              "      <td>10</td>\n",
              "      <td>Never-married</td>\n",
              "      <td>Protective-serv</td>\n",
              "      <td>Not-in-family</td>\n",
              "      <td>White</td>\n",
              "      <td>Male</td>\n",
              "      <td>0</td>\n",
              "      <td>0</td>\n",
              "      <td>40</td>\n",
              "      <td>United-States</td>\n",
              "      <td>&lt;=50K</td>\n",
              "    </tr>\n",
              "    <tr>\n",
              "      <th>32557</th>\n",
              "      <td>27</td>\n",
              "      <td>Private</td>\n",
              "      <td>257302</td>\n",
              "      <td>Assoc-acdm</td>\n",
              "      <td>12</td>\n",
              "      <td>Married-civ-spouse</td>\n",
              "      <td>Tech-support</td>\n",
              "      <td>Wife</td>\n",
              "      <td>White</td>\n",
              "      <td>Female</td>\n",
              "      <td>0</td>\n",
              "      <td>0</td>\n",
              "      <td>38</td>\n",
              "      <td>United-States</td>\n",
              "      <td>&lt;=50K</td>\n",
              "    </tr>\n",
              "    <tr>\n",
              "      <th>32558</th>\n",
              "      <td>40</td>\n",
              "      <td>Private</td>\n",
              "      <td>154374</td>\n",
              "      <td>HS-grad</td>\n",
              "      <td>9</td>\n",
              "      <td>Married-civ-spouse</td>\n",
              "      <td>Machine-op-inspct</td>\n",
              "      <td>Husband</td>\n",
              "      <td>White</td>\n",
              "      <td>Male</td>\n",
              "      <td>0</td>\n",
              "      <td>0</td>\n",
              "      <td>40</td>\n",
              "      <td>United-States</td>\n",
              "      <td>&gt;50K</td>\n",
              "    </tr>\n",
              "    <tr>\n",
              "      <th>32559</th>\n",
              "      <td>58</td>\n",
              "      <td>Private</td>\n",
              "      <td>151910</td>\n",
              "      <td>HS-grad</td>\n",
              "      <td>9</td>\n",
              "      <td>Widowed</td>\n",
              "      <td>Adm-clerical</td>\n",
              "      <td>Unmarried</td>\n",
              "      <td>White</td>\n",
              "      <td>Female</td>\n",
              "      <td>0</td>\n",
              "      <td>0</td>\n",
              "      <td>40</td>\n",
              "      <td>United-States</td>\n",
              "      <td>&lt;=50K</td>\n",
              "    </tr>\n",
              "    <tr>\n",
              "      <th>32560</th>\n",
              "      <td>22</td>\n",
              "      <td>Private</td>\n",
              "      <td>201490</td>\n",
              "      <td>HS-grad</td>\n",
              "      <td>9</td>\n",
              "      <td>Never-married</td>\n",
              "      <td>Adm-clerical</td>\n",
              "      <td>Own-child</td>\n",
              "      <td>White</td>\n",
              "      <td>Male</td>\n",
              "      <td>0</td>\n",
              "      <td>0</td>\n",
              "      <td>20</td>\n",
              "      <td>United-States</td>\n",
              "      <td>&lt;=50K</td>\n",
              "    </tr>\n",
              "  </tbody>\n",
              "</table>\n",
              "<p>32561 rows × 15 columns</p>\n",
              "</div>\n",
              "      <button class=\"colab-df-convert\" onclick=\"convertToInteractive('df-a9e81aff-511c-43f9-8b98-8c6f607ef4ba')\"\n",
              "              title=\"Convert this dataframe to an interactive table.\"\n",
              "              style=\"display:none;\">\n",
              "        \n",
              "  <svg xmlns=\"http://www.w3.org/2000/svg\" height=\"24px\"viewBox=\"0 0 24 24\"\n",
              "       width=\"24px\">\n",
              "    <path d=\"M0 0h24v24H0V0z\" fill=\"none\"/>\n",
              "    <path d=\"M18.56 5.44l.94 2.06.94-2.06 2.06-.94-2.06-.94-.94-2.06-.94 2.06-2.06.94zm-11 1L8.5 8.5l.94-2.06 2.06-.94-2.06-.94L8.5 2.5l-.94 2.06-2.06.94zm10 10l.94 2.06.94-2.06 2.06-.94-2.06-.94-.94-2.06-.94 2.06-2.06.94z\"/><path d=\"M17.41 7.96l-1.37-1.37c-.4-.4-.92-.59-1.43-.59-.52 0-1.04.2-1.43.59L10.3 9.45l-7.72 7.72c-.78.78-.78 2.05 0 2.83L4 21.41c.39.39.9.59 1.41.59.51 0 1.02-.2 1.41-.59l7.78-7.78 2.81-2.81c.8-.78.8-2.07 0-2.86zM5.41 20L4 18.59l7.72-7.72 1.47 1.35L5.41 20z\"/>\n",
              "  </svg>\n",
              "      </button>\n",
              "      \n",
              "  <style>\n",
              "    .colab-df-container {\n",
              "      display:flex;\n",
              "      flex-wrap:wrap;\n",
              "      gap: 12px;\n",
              "    }\n",
              "\n",
              "    .colab-df-convert {\n",
              "      background-color: #E8F0FE;\n",
              "      border: none;\n",
              "      border-radius: 50%;\n",
              "      cursor: pointer;\n",
              "      display: none;\n",
              "      fill: #1967D2;\n",
              "      height: 32px;\n",
              "      padding: 0 0 0 0;\n",
              "      width: 32px;\n",
              "    }\n",
              "\n",
              "    .colab-df-convert:hover {\n",
              "      background-color: #E2EBFA;\n",
              "      box-shadow: 0px 1px 2px rgba(60, 64, 67, 0.3), 0px 1px 3px 1px rgba(60, 64, 67, 0.15);\n",
              "      fill: #174EA6;\n",
              "    }\n",
              "\n",
              "    [theme=dark] .colab-df-convert {\n",
              "      background-color: #3B4455;\n",
              "      fill: #D2E3FC;\n",
              "    }\n",
              "\n",
              "    [theme=dark] .colab-df-convert:hover {\n",
              "      background-color: #434B5C;\n",
              "      box-shadow: 0px 1px 3px 1px rgba(0, 0, 0, 0.15);\n",
              "      filter: drop-shadow(0px 1px 2px rgba(0, 0, 0, 0.3));\n",
              "      fill: #FFFFFF;\n",
              "    }\n",
              "  </style>\n",
              "\n",
              "      <script>\n",
              "        const buttonEl =\n",
              "          document.querySelector('#df-a9e81aff-511c-43f9-8b98-8c6f607ef4ba button.colab-df-convert');\n",
              "        buttonEl.style.display =\n",
              "          google.colab.kernel.accessAllowed ? 'block' : 'none';\n",
              "\n",
              "        async function convertToInteractive(key) {\n",
              "          const element = document.querySelector('#df-a9e81aff-511c-43f9-8b98-8c6f607ef4ba');\n",
              "          const dataTable =\n",
              "            await google.colab.kernel.invokeFunction('convertToInteractive',\n",
              "                                                     [key], {});\n",
              "          if (!dataTable) return;\n",
              "\n",
              "          const docLinkHtml = 'Like what you see? Visit the ' +\n",
              "            '<a target=\"_blank\" href=https://colab.research.google.com/notebooks/data_table.ipynb>data table notebook</a>'\n",
              "            + ' to learn more about interactive tables.';\n",
              "          element.innerHTML = '';\n",
              "          dataTable['output_type'] = 'display_data';\n",
              "          await google.colab.output.renderOutput(dataTable, element);\n",
              "          const docLink = document.createElement('div');\n",
              "          docLink.innerHTML = docLinkHtml;\n",
              "          element.appendChild(docLink);\n",
              "        }\n",
              "      </script>\n",
              "    </div>\n",
              "  </div>\n",
              "  "
            ],
            "text/plain": [
              "       age workclass  fnlwgt  ... hours.per.week  native.country income\n",
              "0       90   Private   77053  ...             40   United-States  <=50K\n",
              "1       82   Private  132870  ...             18   United-States  <=50K\n",
              "2       66   Private  186061  ...             40   United-States  <=50K\n",
              "3       54   Private  140359  ...             40   United-States  <=50K\n",
              "4       41   Private  264663  ...             40   United-States  <=50K\n",
              "...    ...       ...     ...  ...            ...             ...    ...\n",
              "32556   22   Private  310152  ...             40   United-States  <=50K\n",
              "32557   27   Private  257302  ...             38   United-States  <=50K\n",
              "32558   40   Private  154374  ...             40   United-States   >50K\n",
              "32559   58   Private  151910  ...             40   United-States  <=50K\n",
              "32560   22   Private  201490  ...             20   United-States  <=50K\n",
              "\n",
              "[32561 rows x 15 columns]"
            ]
          },
          "metadata": {},
          "execution_count": 68
        }
      ]
    },
    {
      "cell_type": "code",
      "source": [
        "df2.info()"
      ],
      "metadata": {
        "colab": {
          "base_uri": "https://localhost:8080/"
        },
        "id": "IpXNgJt-WOhA",
        "outputId": "9c314af0-0c4a-4e1b-ef50-d185c29e47e6"
      },
      "id": "IpXNgJt-WOhA",
      "execution_count": null,
      "outputs": [
        {
          "output_type": "stream",
          "name": "stdout",
          "text": [
            "<class 'pandas.core.frame.DataFrame'>\n",
            "RangeIndex: 32561 entries, 0 to 32560\n",
            "Data columns (total 15 columns):\n",
            " #   Column          Non-Null Count  Dtype \n",
            "---  ------          --------------  ----- \n",
            " 0   age             32561 non-null  int64 \n",
            " 1   workclass       32561 non-null  object\n",
            " 2   fnlwgt          32561 non-null  int64 \n",
            " 3   education       32561 non-null  object\n",
            " 4   education.num   32561 non-null  int64 \n",
            " 5   marital.status  32561 non-null  object\n",
            " 6   occupation      32561 non-null  object\n",
            " 7   relationship    32561 non-null  object\n",
            " 8   race            32561 non-null  object\n",
            " 9   sex             32561 non-null  object\n",
            " 10  capital.gain    32561 non-null  int64 \n",
            " 11  capital.loss    32561 non-null  int64 \n",
            " 12  hours.per.week  32561 non-null  int64 \n",
            " 13  native.country  32561 non-null  object\n",
            " 14  income          32561 non-null  object\n",
            "dtypes: int64(6), object(9)\n",
            "memory usage: 3.7+ MB\n"
          ]
        }
      ]
    },
    {
      "cell_type": "code",
      "source": [
        "df2['income'].value_counts()"
      ],
      "metadata": {
        "colab": {
          "base_uri": "https://localhost:8080/"
        },
        "id": "si2AOKpEZeJR",
        "outputId": "9f0d300e-e4f2-482e-d6b5-b37557b24a3b"
      },
      "id": "si2AOKpEZeJR",
      "execution_count": null,
      "outputs": [
        {
          "output_type": "execute_result",
          "data": {
            "text/plain": [
              "<=50K    24720\n",
              ">50K      7841\n",
              "Name: income, dtype: int64"
            ]
          },
          "metadata": {},
          "execution_count": 70
        }
      ]
    },
    {
      "cell_type": "markdown",
      "source": [
        " Converting categorical columns to numeric using label encoding - workclass,education,marital status, occupation, relationship, race,sex, native country, income "
      ],
      "metadata": {
        "id": "at8dOKjtV5At"
      },
      "id": "at8dOKjtV5At"
    },
    {
      "cell_type": "code",
      "source": [
        "from sklearn import preprocessing\n",
        "\n",
        "categorical = ['workclass', 'education', 'marital.status', 'occupation', 'relationship', 'race', 'sex', 'native.country','income']\n",
        "for feature in categorical:\n",
        "        le = preprocessing.LabelEncoder()\n",
        "        df2[feature] = le.fit_transform(df2[feature])"
      ],
      "metadata": {
        "id": "VvNBImFuVslW"
      },
      "id": "VvNBImFuVslW",
      "execution_count": null,
      "outputs": []
    },
    {
      "cell_type": "code",
      "source": [
        "df2.info()"
      ],
      "metadata": {
        "colab": {
          "base_uri": "https://localhost:8080/"
        },
        "id": "gIazwLiyaicf",
        "outputId": "6a401307-86f8-49a2-91bc-7fca0186b33f"
      },
      "id": "gIazwLiyaicf",
      "execution_count": null,
      "outputs": [
        {
          "output_type": "stream",
          "name": "stdout",
          "text": [
            "<class 'pandas.core.frame.DataFrame'>\n",
            "RangeIndex: 32561 entries, 0 to 32560\n",
            "Data columns (total 15 columns):\n",
            " #   Column          Non-Null Count  Dtype\n",
            "---  ------          --------------  -----\n",
            " 0   age             32561 non-null  int64\n",
            " 1   workclass       32561 non-null  int64\n",
            " 2   fnlwgt          32561 non-null  int64\n",
            " 3   education       32561 non-null  int64\n",
            " 4   education.num   32561 non-null  int64\n",
            " 5   marital.status  32561 non-null  int64\n",
            " 6   occupation      32561 non-null  int64\n",
            " 7   relationship    32561 non-null  int64\n",
            " 8   race            32561 non-null  int64\n",
            " 9   sex             32561 non-null  int64\n",
            " 10  capital.gain    32561 non-null  int64\n",
            " 11  capital.loss    32561 non-null  int64\n",
            " 12  hours.per.week  32561 non-null  int64\n",
            " 13  native.country  32561 non-null  int64\n",
            " 14  income          32561 non-null  int64\n",
            "dtypes: int64(15)\n",
            "memory usage: 3.7 MB\n"
          ]
        }
      ]
    },
    {
      "cell_type": "markdown",
      "id": "located-compression",
      "metadata": {
        "id": "located-compression"
      },
      "source": [
        "### Exploratory Data Analysis"
      ]
    },
    {
      "cell_type": "code",
      "execution_count": null,
      "id": "ranging-continuity",
      "metadata": {
        "id": "ranging-continuity",
        "outputId": "13969165-f11c-4098-d24d-091366c59667",
        "colab": {
          "base_uri": "https://localhost:8080/"
        }
      },
      "outputs": [
        {
          "output_type": "execute_result",
          "data": {
            "text/plain": [
              "0    24720\n",
              "1     7841\n",
              "Name: income, dtype: int64"
            ]
          },
          "metadata": {},
          "execution_count": 73
        }
      ],
      "source": [
        "df['income'].value_counts() # Target Variable"
      ]
    },
    {
      "cell_type": "code",
      "execution_count": null,
      "id": "dependent-antigua",
      "metadata": {
        "id": "dependent-antigua",
        "outputId": "b8c5690b-92d9-42ad-a33d-dda1fd154837",
        "colab": {
          "base_uri": "https://localhost:8080/"
        }
      },
      "outputs": [
        {
          "output_type": "display_data",
          "data": {
            "image/png": "[encoded data removed]",
            "text/plain": [
              "<Figure size 432x288 with 1 Axes>"
            ]
          },
          "metadata": {
            "needs_background": "light"
          }
        }
      ],
      "source": [
        "# count plot along y axis\n",
        "sns.countplot(y ='income', data = df)\n",
        "plt.show()"
      ]
    },
    {
      "cell_type": "markdown",
      "source": [
        "In this <=50k income have more values than >50k. "
      ],
      "metadata": {
        "id": "RgZjvly7Tc2o"
      },
      "id": "RgZjvly7Tc2o"
    },
    {
      "cell_type": "markdown",
      "source": [
        "To understand how other features influence the target variable - income, we need to find correlation. "
      ],
      "metadata": {
        "id": "rBfQOXtoULal"
      },
      "id": "rBfQOXtoULal"
    },
    {
      "cell_type": "code",
      "source": [
        "df_corr = df2.corr()\n",
        "plt.figure(figsize=(10,8))\n",
        "sns.heatmap(df_corr,cmap='magma')"
      ],
      "metadata": {
        "colab": {
          "base_uri": "https://localhost:8080/"
        },
        "id": "90pdO4t1ZMXp",
        "outputId": "4b2fc54f-3104-4050-b68e-aedb4623d65d"
      },
      "id": "90pdO4t1ZMXp",
      "execution_count": null,
      "outputs": [
        {
          "output_type": "execute_result",
          "data": {
            "text/plain": [
              "<matplotlib.axes._subplots.AxesSubplot at 0x7fa6195a6b50>"
            ]
          },
          "metadata": {},
          "execution_count": 75
        },
        {
          "output_type": "display_data",
          "data": {
            "image/png": "[encoded data removed]",
            "text/plain": [
              "<Figure size 720x576 with 2 Axes>"
            ]
          },
          "metadata": {
            "needs_background": "light"
          }
        }
      ]
    },
    {
      "cell_type": "code",
      "source": [
        "df_corr['income'].sort_values(ascending=False)"
      ],
      "metadata": {
        "colab": {
          "base_uri": "https://localhost:8080/"
        },
        "id": "0n1L7tGKbM8H",
        "outputId": "2752c7fd-12d4-4bfd-fbcd-905bd4ea0e34"
      },
      "id": "0n1L7tGKbM8H",
      "execution_count": null,
      "outputs": [
        {
          "output_type": "execute_result",
          "data": {
            "text/plain": [
              "income            1.000000\n",
              "education.num     0.335154\n",
              "age               0.234037\n",
              "hours.per.week    0.229689\n",
              "capital.gain      0.223329\n",
              "sex               0.215980\n",
              "capital.loss      0.150526\n",
              "education         0.079317\n",
              "race              0.071846\n",
              "occupation        0.034625\n",
              "native.country    0.023058\n",
              "workclass         0.002693\n",
              "fnlwgt           -0.009463\n",
              "marital.status   -0.199307\n",
              "relationship     -0.250918\n",
              "Name: income, dtype: float64"
            ]
          },
          "metadata": {},
          "execution_count": 76
        }
      ]
    },
    {
      "cell_type": "markdown",
      "source": [
        "Columns like education.num,age , capital.gain,sex are highly correlated"
      ],
      "metadata": {
        "id": "t298jEOebRVz"
      },
      "id": "t298jEOebRVz"
    },
    {
      "cell_type": "code",
      "execution_count": null,
      "id": "natural-raise",
      "metadata": {
        "id": "natural-raise",
        "outputId": "18c8a3e4-e220-4817-bfae-350b37cc8fe5",
        "colab": {
          "base_uri": "https://localhost:8080/"
        }
      },
      "outputs": [
        {
          "output_type": "execute_result",
          "data": {
            "text/plain": [
              "<matplotlib.axes._subplots.AxesSubplot at 0x7fa6196de110>"
            ]
          },
          "metadata": {},
          "execution_count": 77
        },
        {
          "output_type": "display_data",
          "data": {
            "image/png": "[encoded data removed]",
            "text/plain": [
              "<Figure size 576x576 with 1 Axes>"
            ]
          },
          "metadata": {
            "needs_background": "light"
          }
        }
      ],
      "source": [
        "plt.figure(figsize=(8,8))\n",
        "sns.countplot(data=df, x='income', hue='education.num')"
      ]
    },
    {
      "cell_type": "markdown",
      "source": [
        "Observation - lower the values of education.num lower the income "
      ],
      "metadata": {
        "id": "f-hWfnFXbpEq"
      },
      "id": "f-hWfnFXbpEq"
    },
    {
      "cell_type": "code",
      "source": [
        "plt.figure(figsize=(8,8))\n",
        "sns.countplot(data=df, x='income', hue='sex')"
      ],
      "metadata": {
        "colab": {
          "base_uri": "https://localhost:8080/"
        },
        "id": "GHDCeo15ew9T",
        "outputId": "6a691326-8d4a-4d29-f65c-b66478eda44d"
      },
      "id": "GHDCeo15ew9T",
      "execution_count": null,
      "outputs": [
        {
          "output_type": "execute_result",
          "data": {
            "text/plain": [
              "<matplotlib.axes._subplots.AxesSubplot at 0x7fa6196d72d0>"
            ]
          },
          "metadata": {},
          "execution_count": 78
        },
        {
          "output_type": "display_data",
          "data": {
            "image/png": "[encoded data removed]",
            "text/plain": [
              "<Figure size 576x576 with 1 Axes>"
            ]
          },
          "metadata": {
            "needs_background": "light"
          }
        }
      ]
    },
    {
      "cell_type": "markdown",
      "source": [
        "Observation - male employees have more income than female "
      ],
      "metadata": {
        "id": "UovZpX_ShtAI"
      },
      "id": "UovZpX_ShtAI"
    },
    {
      "cell_type": "code",
      "execution_count": null,
      "id": "union-lambda",
      "metadata": {
        "id": "union-lambda",
        "outputId": "9d4a980e-0700-4de5-9e3b-dfbcb458bdce",
        "colab": {
          "base_uri": "https://localhost:8080/"
        }
      },
      "outputs": [
        {
          "output_type": "stream",
          "name": "stdout",
          "text": [
            "The maximum age is 90\n",
            "The minimum age is 17\n"
          ]
        },
        {
          "output_type": "display_data",
          "data": {
            "image/png": "[encoded data removed]",
            "text/plain": [
              "<Figure size 864x576 with 1 Axes>"
            ]
          },
          "metadata": {}
        }
      ],
      "source": [
        "plt.rcParams['figure.figsize'] = [12, 8]\n",
        "sns.set(style = 'whitegrid')\n",
        "\n",
        "sns.distplot(df['age'], bins = 90)\n",
        "plt.ylabel(\"Distribution\", fontsize = 15)\n",
        "plt.xlabel(\"Age\", fontsize = 15)\n",
        "plt.margins(x = 0)\n",
        "\n",
        "print (\"The maximum age is\", df['age'].max())\n",
        "print (\"The minimum age is\", df['age'].min())"
      ]
    },
    {
      "cell_type": "markdown",
      "source": [
        "Observation - employess between age 25-40 have higher incomes "
      ],
      "metadata": {
        "id": "lvFma4tMh_6H"
      },
      "id": "lvFma4tMh_6H"
    },
    {
      "cell_type": "markdown",
      "id": "through-lesson",
      "metadata": {
        "id": "through-lesson"
      },
      "source": [
        "Feature Scaling using Standard Scaler\n",
        "\n",
        "Standardize features by removing the mean and scaling to unit variance.\n",
        "\n",
        "The standard score of a sample x is calculated as:\n",
        "\n",
        "z = (x - u) / s"
      ]
    },
    {
      "cell_type": "code",
      "execution_count": null,
      "id": "least-platinum",
      "metadata": {
        "id": "least-platinum"
      },
      "outputs": [],
      "source": [
        "from sklearn.preprocessing import StandardScaler\n",
        "scaler = StandardScaler()\n",
        "df3 = pd.DataFrame(scaler.fit_transform(df2), columns = df2.columns)"
      ]
    },
    {
      "cell_type": "code",
      "execution_count": null,
      "id": "aquatic-selling",
      "metadata": {
        "id": "aquatic-selling",
        "outputId": "20e5986b-5f3b-47a0-9fbf-6f36f7bc4fe4",
        "colab": {
          "base_uri": "https://localhost:8080/"
        }
      },
      "outputs": [
        {
          "output_type": "execute_result",
          "data": {
            "text/html": [
              "\n",
              "  <div id=\"df-f6897777-6e4c-4f0c-b7f2-550514b378b6\">\n",
              "    <div class=\"colab-df-container\">\n",
              "      <div>\n",
              "<style scoped>\n",
              "    .dataframe tbody tr th:only-of-type {\n",
              "        vertical-align: middle;\n",
              "    }\n",
              "\n",
              "    .dataframe tbody tr th {\n",
              "        vertical-align: top;\n",
              "    }\n",
              "\n",
              "    .dataframe thead th {\n",
              "        text-align: right;\n",
              "    }\n",
              "</style>\n",
              "<table border=\"1\" class=\"dataframe\">\n",
              "  <thead>\n",
              "    <tr style=\"text-align: right;\">\n",
              "      <th></th>\n",
              "      <th>age</th>\n",
              "      <th>workclass</th>\n",
              "      <th>fnlwgt</th>\n",
              "      <th>education</th>\n",
              "      <th>education.num</th>\n",
              "      <th>marital.status</th>\n",
              "      <th>occupation</th>\n",
              "      <th>relationship</th>\n",
              "      <th>race</th>\n",
              "      <th>sex</th>\n",
              "      <th>capital.gain</th>\n",
              "      <th>capital.loss</th>\n",
              "      <th>hours.per.week</th>\n",
              "      <th>native.country</th>\n",
              "      <th>income</th>\n",
              "    </tr>\n",
              "  </thead>\n",
              "  <tbody>\n",
              "    <tr>\n",
              "      <th>0</th>\n",
              "      <td>3.769612</td>\n",
              "      <td>-0.085296</td>\n",
              "      <td>-1.067997</td>\n",
              "      <td>0.181332</td>\n",
              "      <td>-0.420060</td>\n",
              "      <td>2.249480</td>\n",
              "      <td>0.720237</td>\n",
              "      <td>-0.277805</td>\n",
              "      <td>0.393668</td>\n",
              "      <td>-1.422331</td>\n",
              "      <td>-0.14592</td>\n",
              "      <td>10.593507</td>\n",
              "      <td>-0.035429</td>\n",
              "      <td>0.26137</td>\n",
              "      <td>-0.563199</td>\n",
              "    </tr>\n",
              "    <tr>\n",
              "      <th>1</th>\n",
              "      <td>3.183112</td>\n",
              "      <td>-0.085296</td>\n",
              "      <td>-0.539169</td>\n",
              "      <td>0.181332</td>\n",
              "      <td>-0.420060</td>\n",
              "      <td>2.249480</td>\n",
              "      <td>-0.790092</td>\n",
              "      <td>-0.277805</td>\n",
              "      <td>0.393668</td>\n",
              "      <td>-1.422331</td>\n",
              "      <td>-0.14592</td>\n",
              "      <td>10.593507</td>\n",
              "      <td>-1.817204</td>\n",
              "      <td>0.26137</td>\n",
              "      <td>-0.563199</td>\n",
              "    </tr>\n",
              "    <tr>\n",
              "      <th>2</th>\n",
              "      <td>2.010110</td>\n",
              "      <td>-0.085296</td>\n",
              "      <td>-0.035220</td>\n",
              "      <td>1.214869</td>\n",
              "      <td>-0.031360</td>\n",
              "      <td>2.249480</td>\n",
              "      <td>0.720237</td>\n",
              "      <td>1.589322</td>\n",
              "      <td>-1.962621</td>\n",
              "      <td>-1.422331</td>\n",
              "      <td>-0.14592</td>\n",
              "      <td>10.593507</td>\n",
              "      <td>-0.035429</td>\n",
              "      <td>0.26137</td>\n",
              "      <td>-0.563199</td>\n",
              "    </tr>\n",
              "    <tr>\n",
              "      <th>3</th>\n",
              "      <td>1.130359</td>\n",
              "      <td>-0.085296</td>\n",
              "      <td>-0.468215</td>\n",
              "      <td>-1.368974</td>\n",
              "      <td>-2.363558</td>\n",
              "      <td>-1.734058</td>\n",
              "      <td>-0.034928</td>\n",
              "      <td>1.589322</td>\n",
              "      <td>0.393668</td>\n",
              "      <td>-1.422331</td>\n",
              "      <td>-0.14592</td>\n",
              "      <td>9.461864</td>\n",
              "      <td>-0.035429</td>\n",
              "      <td>0.26137</td>\n",
              "      <td>-0.563199</td>\n",
              "    </tr>\n",
              "    <tr>\n",
              "      <th>4</th>\n",
              "      <td>0.177296</td>\n",
              "      <td>-0.085296</td>\n",
              "      <td>0.709482</td>\n",
              "      <td>1.214869</td>\n",
              "      <td>-0.031360</td>\n",
              "      <td>1.585557</td>\n",
              "      <td>0.720237</td>\n",
              "      <td>0.966947</td>\n",
              "      <td>0.393668</td>\n",
              "      <td>-1.422331</td>\n",
              "      <td>-0.14592</td>\n",
              "      <td>9.461864</td>\n",
              "      <td>-0.035429</td>\n",
              "      <td>0.26137</td>\n",
              "      <td>-0.563199</td>\n",
              "    </tr>\n",
              "  </tbody>\n",
              "</table>\n",
              "</div>\n",
              "      <button class=\"colab-df-convert\" onclick=\"convertToInteractive('df-f6897777-6e4c-4f0c-b7f2-550514b378b6')\"\n",
              "              title=\"Convert this dataframe to an interactive table.\"\n",
              "              style=\"display:none;\">\n",
              "        \n",
              "  <svg xmlns=\"http://www.w3.org/2000/svg\" height=\"24px\"viewBox=\"0 0 24 24\"\n",
              "       width=\"24px\">\n",
              "    <path d=\"M0 0h24v24H0V0z\" fill=\"none\"/>\n",
              "    <path d=\"M18.56 5.44l.94 2.06.94-2.06 2.06-.94-2.06-.94-.94-2.06-.94 2.06-2.06.94zm-11 1L8.5 8.5l.94-2.06 2.06-.94-2.06-.94L8.5 2.5l-.94 2.06-2.06.94zm10 10l.94 2.06.94-2.06 2.06-.94-2.06-.94-.94-2.06-.94 2.06-2.06.94z\"/><path d=\"M17.41 7.96l-1.37-1.37c-.4-.4-.92-.59-1.43-.59-.52 0-1.04.2-1.43.59L10.3 9.45l-7.72 7.72c-.78.78-.78 2.05 0 2.83L4 21.41c.39.39.9.59 1.41.59.51 0 1.02-.2 1.41-.59l7.78-7.78 2.81-2.81c.8-.78.8-2.07 0-2.86zM5.41 20L4 18.59l7.72-7.72 1.47 1.35L5.41 20z\"/>\n",
              "  </svg>\n",
              "      </button>\n",
              "      \n",
              "  <style>\n",
              "    .colab-df-container {\n",
              "      display:flex;\n",
              "      flex-wrap:wrap;\n",
              "      gap: 12px;\n",
              "    }\n",
              "\n",
              "    .colab-df-convert {\n",
              "      background-color: #E8F0FE;\n",
              "      border: none;\n",
              "      border-radius: 50%;\n",
              "      cursor: pointer;\n",
              "      display: none;\n",
              "      fill: #1967D2;\n",
              "      height: 32px;\n",
              "      padding: 0 0 0 0;\n",
              "      width: 32px;\n",
              "    }\n",
              "\n",
              "    .colab-df-convert:hover {\n",
              "      background-color: #E2EBFA;\n",
              "      box-shadow: 0px 1px 2px rgba(60, 64, 67, 0.3), 0px 1px 3px 1px rgba(60, 64, 67, 0.15);\n",
              "      fill: #174EA6;\n",
              "    }\n",
              "\n",
              "    [theme=dark] .colab-df-convert {\n",
              "      background-color: #3B4455;\n",
              "      fill: #D2E3FC;\n",
              "    }\n",
              "\n",
              "    [theme=dark] .colab-df-convert:hover {\n",
              "      background-color: #434B5C;\n",
              "      box-shadow: 0px 1px 3px 1px rgba(0, 0, 0, 0.15);\n",
              "      filter: drop-shadow(0px 1px 2px rgba(0, 0, 0, 0.3));\n",
              "      fill: #FFFFFF;\n",
              "    }\n",
              "  </style>\n",
              "\n",
              "      <script>\n",
              "        const buttonEl =\n",
              "          document.querySelector('#df-f6897777-6e4c-4f0c-b7f2-550514b378b6 button.colab-df-convert');\n",
              "        buttonEl.style.display =\n",
              "          google.colab.kernel.accessAllowed ? 'block' : 'none';\n",
              "\n",
              "        async function convertToInteractive(key) {\n",
              "          const element = document.querySelector('#df-f6897777-6e4c-4f0c-b7f2-550514b378b6');\n",
              "          const dataTable =\n",
              "            await google.colab.kernel.invokeFunction('convertToInteractive',\n",
              "                                                     [key], {});\n",
              "          if (!dataTable) return;\n",
              "\n",
              "          const docLinkHtml = 'Like what you see? Visit the ' +\n",
              "            '<a target=\"_blank\" href=https://colab.research.google.com/notebooks/data_table.ipynb>data table notebook</a>'\n",
              "            + ' to learn more about interactive tables.';\n",
              "          element.innerHTML = '';\n",
              "          dataTable['output_type'] = 'display_data';\n",
              "          await google.colab.output.renderOutput(dataTable, element);\n",
              "          const docLink = document.createElement('div');\n",
              "          docLink.innerHTML = docLinkHtml;\n",
              "          element.appendChild(docLink);\n",
              "        }\n",
              "      </script>\n",
              "    </div>\n",
              "  </div>\n",
              "  "
            ],
            "text/plain": [
              "        age  workclass    fnlwgt  ...  hours.per.week  native.country    income\n",
              "0  3.769612  -0.085296 -1.067997  ...       -0.035429         0.26137 -0.563199\n",
              "1  3.183112  -0.085296 -0.539169  ...       -1.817204         0.26137 -0.563199\n",
              "2  2.010110  -0.085296 -0.035220  ...       -0.035429         0.26137 -0.563199\n",
              "3  1.130359  -0.085296 -0.468215  ...       -0.035429         0.26137 -0.563199\n",
              "4  0.177296  -0.085296  0.709482  ...       -0.035429         0.26137 -0.563199\n",
              "\n",
              "[5 rows x 15 columns]"
            ]
          },
          "metadata": {},
          "execution_count": 81
        }
      ],
      "source": [
        "df3.head()"
      ]
    },
    {
      "cell_type": "markdown",
      "id": "initial-disco",
      "metadata": {
        "id": "initial-disco"
      },
      "source": [
        "### Model Selection/Training"
      ]
    },
    {
      "cell_type": "code",
      "source": [
        "from sklearn.model_selection import train_test_split\n",
        "X = df.drop(['income'], axis=1)\n",
        "y = df['income']\n",
        "X_train, X_test, y_train, y_test = train_test_split(X, y, test_size=0.2) # 20% Test split"
      ],
      "metadata": {
        "id": "gdSI81-rkMmg"
      },
      "id": "gdSI81-rkMmg",
      "execution_count": null,
      "outputs": []
    },
    {
      "cell_type": "code",
      "execution_count": null,
      "id": "superb-sugar",
      "metadata": {
        "id": "superb-sugar",
        "outputId": "9d4c36fe-85ed-459c-9769-6bd516a2ce90",
        "colab": {
          "base_uri": "https://localhost:8080/"
        }
      },
      "outputs": [
        {
          "output_type": "stream",
          "name": "stdout",
          "text": [
            "Logistic Regression accuracy score with all the features: 0.7893\n"
          ]
        }
      ],
      "source": [
        "from sklearn.linear_model import LogisticRegression\n",
        "from sklearn.metrics import accuracy_score\n",
        "\n",
        "logreg = LogisticRegression()\n",
        "logreg.fit(X_train, y_train)\n",
        "y_pred = logreg.predict(X_test)\n",
        "\n",
        "print('Logistic Regression accuracy score with all the features: {0:0.4f}'. format(accuracy_score(y_test, y_pred)))"
      ]
    },
    {
      "cell_type": "markdown",
      "id": "blank-style",
      "metadata": {
        "id": "blank-style"
      },
      "source": [
        "Without PCA the model gives an **accuracy** of **78.93%**"
      ]
    },
    {
      "cell_type": "markdown",
      "id": "stock-break",
      "metadata": {
        "id": "stock-break"
      },
      "source": [
        "### PCA"
      ]
    },
    {
      "cell_type": "code",
      "execution_count": null,
      "id": "african-distance",
      "metadata": {
        "id": "african-distance"
      },
      "outputs": [],
      "source": [
        "from sklearn.decomposition import PCA\n",
        "pca = PCA()\n",
        "X_train = pca.fit_transform(X_train)\n",
        "explained_variance_ratio = pca.explained_variance_ratio_"
      ]
    },
    {
      "cell_type": "code",
      "execution_count": null,
      "id": "floral-router",
      "metadata": {
        "id": "floral-router",
        "outputId": "4042321e-fd8f-425e-b9ec-1fcc5ca8c317",
        "colab": {
          "base_uri": "https://localhost:8080/"
        }
      },
      "outputs": [
        {
          "output_type": "execute_result",
          "data": {
            "text/plain": [
              "array([9.94984847e-01, 5.00096637e-03, 1.41494257e-05, 1.67339295e-08,\n",
              "       1.32727864e-08, 3.25779927e-09, 1.45210148e-09, 1.38311288e-09,\n",
              "       4.52633743e-10, 2.17077274e-10, 1.73664412e-10, 1.09032690e-10,\n",
              "       6.16495972e-11, 1.22660156e-11])"
            ]
          },
          "metadata": {},
          "execution_count": 86
        }
      ],
      "source": [
        "explained_variance_ratio"
      ]
    },
    {
      "cell_type": "markdown",
      "id": "demanding-membership",
      "metadata": {
        "id": "demanding-membership"
      },
      "source": [
        "Above we can see the explained variance ratio of each principal component. It indicates the proportion of the dataset’s variance that lies along the axis of each principal component."
      ]
    },
    {
      "cell_type": "code",
      "execution_count": null,
      "id": "latest-immunology",
      "metadata": {
        "id": "latest-immunology",
        "outputId": "a4956234-6049-49ef-d091-46d2676fc689",
        "colab": {
          "base_uri": "https://localhost:8080/"
        }
      },
      "outputs": [
        {
          "output_type": "execute_result",
          "data": {
            "text/plain": [
              "99.99999999877336"
            ]
          },
          "metadata": {},
          "execution_count": 87
        }
      ],
      "source": [
        "explained_variance_ratio[:-1].sum()*100"
      ]
    },
    {
      "cell_type": "markdown",
      "id": "configured-custody",
      "metadata": {
        "id": "configured-custody"
      },
      "source": [
        "Thus we can observe that last column carries little information due to its less contribution to the variance.  "
      ]
    },
    {
      "cell_type": "markdown",
      "id": "express-terrace",
      "metadata": {
        "id": "express-terrace"
      },
      "source": [
        "#### Logistic Regression using only first 13 variables"
      ]
    },
    {
      "cell_type": "code",
      "execution_count": null,
      "id": "compressed-tamil",
      "metadata": {
        "id": "compressed-tamil",
        "outputId": "6683820d-e887-41f0-f090-92cfe0c0a4f6",
        "colab": {
          "base_uri": "https://localhost:8080/"
        }
      },
      "outputs": [
        {
          "output_type": "stream",
          "name": "stdout",
          "text": [
            "Logistic Regression accuracy score with the first 13 features: 0.8213\n"
          ]
        }
      ],
      "source": [
        "X = df.drop(['income','native.country'], axis=1)\n",
        "y = df['income']\n",
        "\n",
        "\n",
        "X_train, X_test, y_train, y_test = train_test_split(X, y, test_size = 0.3, random_state = 0)\n",
        "\n",
        "\n",
        "categorical = ['workclass', 'education', 'marital.status', 'occupation', 'relationship', 'race', 'sex']\n",
        "for feature in categorical:\n",
        "        le = preprocessing.LabelEncoder()\n",
        "        X_train[feature] = le.fit_transform(X_train[feature])\n",
        "        X_test[feature] = le.transform(X_test[feature])\n",
        "\n",
        "\n",
        "X_train = pd.DataFrame(scaler.fit_transform(X_train), columns = X.columns)\n",
        "\n",
        "X_test = pd.DataFrame(scaler.transform(X_test), columns = X.columns)\n",
        "\n",
        "logreg = LogisticRegression()\n",
        "logreg.fit(X_train, y_train)\n",
        "y_pred = logreg.predict(X_test)\n",
        "\n",
        "print('Logistic Regression accuracy score with the first 13 features: {0:0.4f}'. format(accuracy_score(y_test, y_pred)))"
      ]
    },
    {
      "cell_type": "markdown",
      "id": "outdoor-ranking",
      "metadata": {
        "id": "outdoor-ranking"
      },
      "source": [
        "After using PCA, keeping first 13 variables, the model gives an **accuracy** of **82.13%**. We can see that the accuracy increased."
      ]
    },
    {
      "cell_type": "markdown",
      "id": "sunrise-bible",
      "metadata": {
        "id": "sunrise-bible"
      },
      "source": [
        "#### Logistic Regression using only first 12 variables"
      ]
    },
    {
      "cell_type": "code",
      "execution_count": null,
      "id": "isolated-chaos",
      "metadata": {
        "id": "isolated-chaos",
        "outputId": "eb1b4475-32ed-4713-a9d2-dc929e3da854",
        "colab": {
          "base_uri": "https://localhost:8080/"
        }
      },
      "outputs": [
        {
          "output_type": "stream",
          "name": "stdout",
          "text": [
            "Logistic Regression accuracy score with the first 13 features: 0.8227\n"
          ]
        }
      ],
      "source": [
        "X = df.drop(['income','native.country','hours.per.week'], axis=1)\n",
        "y = df['income']\n",
        "\n",
        "\n",
        "X_train, X_test, y_train, y_test = train_test_split(X, y, test_size = 0.3, random_state = 0)\n",
        "\n",
        "\n",
        "categorical = ['workclass', 'education', 'marital.status', 'occupation', 'relationship', 'race', 'sex']\n",
        "for feature in categorical:\n",
        "        le = preprocessing.LabelEncoder()\n",
        "        X_train[feature] = le.fit_transform(X_train[feature])\n",
        "        X_test[feature] = le.transform(X_test[feature])\n",
        "\n",
        "\n",
        "X_train = pd.DataFrame(scaler.fit_transform(X_train), columns = X.columns)\n",
        "\n",
        "X_test = pd.DataFrame(scaler.transform(X_test), columns = X.columns)\n",
        "\n",
        "logreg = LogisticRegression()\n",
        "logreg.fit(X_train, y_train)\n",
        "y_pred = logreg.predict(X_test)\n",
        "\n",
        "print('Logistic Regression accuracy score with the first 13 features: {0:0.4f}'. format(accuracy_score(y_test, y_pred)))"
      ]
    },
    {
      "cell_type": "markdown",
      "id": "assisted-projection",
      "metadata": {
        "id": "assisted-projection"
      },
      "source": [
        "After using PCA, keeping first 12 variables, the model gives an **accuracy** of **82.27%**. We can see that the accuracy increased."
      ]
    },
    {
      "cell_type": "markdown",
      "id": "applied-boundary",
      "metadata": {
        "id": "applied-boundary"
      },
      "source": [
        "Model Evaluation"
      ]
    },
    {
      "cell_type": "code",
      "execution_count": null,
      "id": "european-increase",
      "metadata": {
        "id": "european-increase",
        "outputId": "23ad26f6-2c14-4110-e1ee-88b83810eedf",
        "colab": {
          "base_uri": "https://localhost:8080/"
        }
      },
      "outputs": [
        {
          "output_type": "stream",
          "name": "stdout",
          "text": [
            "Classification Report\n",
            "               precision    recall  f1-score   support\n",
            "\n",
            "           0       0.84      0.95      0.89      7410\n",
            "           1       0.72      0.43      0.54      2359\n",
            "\n",
            "    accuracy                           0.82      9769\n",
            "   macro avg       0.78      0.69      0.72      9769\n",
            "weighted avg       0.81      0.82      0.81      9769\n",
            "\n",
            "Confusion Matrix\n",
            " [[7012  398]\n",
            " [1334 1025]]\n",
            "Accuracy: 0.8227044733340158\n"
          ]
        }
      ],
      "source": [
        "from sklearn import metrics\n",
        "from sklearn.metrics import classification_report,roc_curve,confusion_matrix\n",
        "print('Classification Report\\n',classification_report(y_test, y_pred))\n",
        "print('Confusion Matrix\\n',confusion_matrix(y_test, y_pred))\n",
        "print(\"Accuracy:\",metrics.accuracy_score(y_test, y_pred))"
      ]
    },
    {
      "cell_type": "markdown",
      "id": "interpreted-crystal",
      "metadata": {
        "id": "interpreted-crystal"
      },
      "source": [
        "Accuracy of 82.27 is observed \n",
        "\n",
        "\n"
      ]
    },
    {
      "cell_type": "markdown",
      "id": "prompt-interpretation",
      "metadata": {
        "id": "prompt-interpretation"
      },
      "source": [
        "#### Computing the minimum number of dimensions required to preserve 90% of the training set variance"
      ]
    },
    {
      "cell_type": "code",
      "execution_count": null,
      "id": "alien-sally",
      "metadata": {
        "id": "alien-sally",
        "outputId": "8920ff79-0c67-4b9f-9f73-978ec904353f",
        "colab": {
          "base_uri": "https://localhost:8080/"
        }
      },
      "outputs": [
        {
          "output_type": "stream",
          "name": "stdout",
          "text": [
            "The number of dimensions required to preserve 90% of variance is 12\n"
          ]
        }
      ],
      "source": [
        "X = df.drop(['income'], axis=1)\n",
        "y = df['income']\n",
        "\n",
        "\n",
        "X_train, X_test, y_train, y_test = train_test_split(X, y, test_size = 0.3, random_state = 0)\n",
        "\n",
        "\n",
        "categorical = ['workclass', 'education', 'marital.status', 'occupation', 'relationship', 'race', 'sex', 'native.country']\n",
        "for feature in categorical:\n",
        "        le = preprocessing.LabelEncoder()\n",
        "        X_train[feature] = le.fit_transform(X_train[feature])\n",
        "        X_test[feature] = le.transform(X_test[feature])\n",
        "\n",
        "\n",
        "X_train = pd.DataFrame(scaler.fit_transform(X_train), columns = X.columns)\n",
        "X_test = pd.DataFrame(scaler.transform(X_test), columns = X.columns)\n",
        "\n",
        "pca= PCA()\n",
        "pca.fit(X_train)\n",
        "cumsum = np.cumsum(pca.explained_variance_ratio_)\n",
        "dim = np.argmax(cumsum >= 0.90) + 1\n",
        "print('The number of dimensions required to preserve 90% of variance is',dim)"
      ]
    },
    {
      "cell_type": "markdown",
      "id": "raised-canada",
      "metadata": {
        "id": "raised-canada"
      },
      "source": [
        "#### Plotting cumulative explained variance vs the number of dimensions "
      ]
    },
    {
      "cell_type": "markdown",
      "id": "close-hygiene",
      "metadata": {
        "id": "close-hygiene"
      },
      "source": [
        "An alternative option is to plot the explained variance as a function of the number of dimensions. In the plot, we should look for an elbow where the explained variance stops growing fast. This can be thought of as the intrinsic dimensionality of the dataset."
      ]
    },
    {
      "cell_type": "code",
      "execution_count": null,
      "id": "suspected-organ",
      "metadata": {
        "id": "suspected-organ",
        "outputId": "a1597cf0-a1e2-46af-f063-4f0858eb586b",
        "colab": {
          "base_uri": "https://localhost:8080/",
          "height": 394
        }
      },
      "outputs": [
        {
          "output_type": "display_data",
          "data": {
            "image/png": "[encoded data removed]",
            "text/plain": [
              "<Figure size 576x432 with 1 Axes>"
            ]
          },
          "metadata": {}
        }
      ],
      "source": [
        "plt.figure(figsize=(8,6))\n",
        "plt.plot(np.cumsum(pca.explained_variance_ratio_))\n",
        "plt.xlim(0,14,1)\n",
        "plt.xlabel('Number of components')\n",
        "plt.ylabel('Cumulative explained variance')\n",
        "plt.show()"
      ]
    },
    {
      "cell_type": "markdown",
      "id": "brutal-rally",
      "metadata": {
        "id": "brutal-rally"
      },
      "source": [
        "The plot shows that almost 90% of variance is explained by the first 12 components."
      ]
    },
    {
      "cell_type": "markdown",
      "id": "documented-relief",
      "metadata": {
        "id": "documented-relief"
      },
      "source": [
        "#### PCA keeping only 12 components"
      ]
    },
    {
      "cell_type": "code",
      "execution_count": null,
      "id": "secret-technology",
      "metadata": {
        "id": "secret-technology",
        "outputId": "be79dffc-af13-419f-87bd-a5212731df22",
        "colab": {
          "base_uri": "https://localhost:8080/"
        }
      },
      "outputs": [
        {
          "output_type": "stream",
          "name": "stdout",
          "text": [
            "Eigen Vectors:\n",
            " [[ 3.17104903e-01  1.09075376e-01 -5.00794765e-02  1.06175944e-01\n",
            "   2.10063637e-01 -3.34890542e-01  2.94832578e-02 -5.40978653e-01\n",
            "   1.68492082e-01  4.70331199e-01  1.40363966e-01  1.20997604e-01\n",
            "   3.69473872e-01  5.92094826e-02]\n",
            " [ 8.13484138e-02  3.60205398e-02  1.45474086e-01 -6.08661264e-01\n",
            "  -6.07041594e-01  1.46630574e-02  8.82657122e-03 -2.12942113e-01\n",
            "  -3.86943891e-02  2.83317485e-01 -1.53172111e-01 -7.67499255e-02\n",
            "  -5.65766791e-02 -2.68323941e-01]\n",
            " [-4.43799644e-01 -2.07950977e-02  4.62523885e-01  1.26087740e-01\n",
            "   2.09736972e-01  3.98385098e-01  3.51708880e-01 -1.45420021e-01\n",
            "  -2.09500293e-01  2.89333131e-01  1.11666541e-01  3.87568976e-04\n",
            "   1.40058924e-01 -2.56020454e-01]\n",
            " [ 3.41265824e-01 -1.79750734e-01  3.78542917e-02  2.35753516e-02\n",
            "   8.36074113e-02 -2.83176701e-01 -3.25509212e-02  9.44272430e-02\n",
            "  -5.92170277e-01 -1.91686614e-01  2.81706961e-01 -2.27927666e-02\n",
            "   9.38697828e-02 -5.25341797e-01]\n",
            " [ 8.66193179e-02  4.41223804e-01 -1.87471667e-01 -1.16649673e-01\n",
            "  -5.40158608e-03  8.13571423e-02  3.39888508e-01  3.51887953e-02\n",
            "   6.32417655e-02 -3.93444456e-02  5.46428607e-01 -5.51853079e-01\n",
            "  -1.11661467e-01  6.71820819e-02]\n",
            " [ 1.85817003e-01 -6.89669506e-02 -3.46184635e-01 -1.50377052e-01\n",
            "   8.05018030e-02  7.22907271e-02  7.28148645e-01 -1.23458446e-02\n",
            "  -9.84118842e-02 -4.61953941e-02 -1.65102116e-01  4.49959449e-01\n",
            "  -1.84354807e-01  2.59106372e-02]\n",
            " [ 8.11978296e-02 -7.81368998e-01  2.34538555e-01 -1.38754981e-01\n",
            "  -8.33684231e-03 -1.16217707e-01  2.04591473e-01 -3.04048617e-02\n",
            "   1.62970470e-01 -6.48757588e-03  2.38583105e-01 -2.49611884e-01\n",
            "  -5.52719840e-02  3.21505043e-01]\n",
            " [ 1.60220083e-01  2.61577940e-01  5.81838238e-01 -1.26613414e-01\n",
            "  -1.08640075e-02 -1.22688290e-01  1.56477868e-02  1.53783257e-01\n",
            "   2.98664854e-01 -2.05105379e-01  3.45781156e-01  4.88544398e-01\n",
            "  -1.49863113e-01  1.75250326e-02]\n",
            " [-2.13157254e-01 -1.70949282e-01 -3.91468153e-01 -2.63080298e-01\n",
            "  -7.01725964e-02  3.22180647e-01 -2.91031849e-01  9.56621650e-03\n",
            "  -5.76746736e-02  7.08312494e-02  5.49079474e-01  3.85025781e-01\n",
            "   2.15286834e-01  7.02935457e-02]\n",
            " [-3.25196184e-01  4.03221924e-02 -4.33536828e-02 -2.43177063e-01\n",
            "  -1.45145355e-02 -3.47424203e-01  2.48933962e-01  2.81472227e-01\n",
            "   2.03789107e-01 -2.21406389e-01 -1.03033916e-01 -4.42770132e-02\n",
            "   6.75476381e-01 -1.00510614e-01]\n",
            " [ 4.75278416e-03 -2.06014712e-01 -2.01151152e-01  1.27124249e-01\n",
            "   8.25084167e-02  9.91472594e-02 -1.04650091e-02 -4.24280439e-02\n",
            "   6.24789743e-01 -2.97834970e-02  5.33551096e-02 -3.89095290e-02\n",
            "  -1.71552120e-01 -6.76258373e-01]\n",
            " [ 5.41965331e-01 -5.00562594e-03  1.29216087e-01 -1.07722977e-01\n",
            "   1.11513867e-01  6.06772085e-01 -4.30885688e-02 -1.25433818e-02\n",
            "   8.97274399e-02 -2.49850164e-01 -1.71853374e-01 -1.04363591e-01\n",
            "   4.28512309e-01  2.83118537e-02]]\n",
            "Eigen Values:\n",
            " [2.06609423 1.42567062 1.14065792 1.1032728  1.04494221 1.01844409\n",
            " 0.98138737 0.94516771 0.90621499 0.8583994  0.85182638 0.67757143]\n"
          ]
        }
      ],
      "source": [
        "X = df.drop(['income'], axis=1)\n",
        "y = df['income']\n",
        "\n",
        "\n",
        "X_train, X_test, y_train, y_test = train_test_split(X, y, test_size = 0.3, random_state = 0)\n",
        "\n",
        "\n",
        "categorical = ['workclass', 'education', 'marital.status', 'occupation', 'relationship', 'race', 'sex', 'native.country']\n",
        "for feature in categorical:\n",
        "        le = preprocessing.LabelEncoder()\n",
        "        X_train[feature] = le.fit_transform(X_train[feature])\n",
        "        X_test[feature] = le.transform(X_test[feature])\n",
        "\n",
        "\n",
        "X_train = pd.DataFrame(scaler.fit_transform(X_train), columns = X.columns)\n",
        "X_test = pd.DataFrame(scaler.transform(X_test), columns = X.columns)\n",
        "\n",
        "\n",
        "pca = PCA(12)\n",
        "pca.fit(X_train)\n",
        "# access values and vectors\n",
        "pca_components = pca.components_\n",
        "print('Eigen Vectors:\\n',pca_components)\n",
        "print('Eigen Values:\\n',pca.explained_variance_)"
      ]
    },
    {
      "cell_type": "code",
      "execution_count": null,
      "id": "international-bench",
      "metadata": {
        "id": "international-bench",
        "outputId": "601f6bc8-98e5-4ac1-ff05-2ad904a55b32",
        "colab": {
          "base_uri": "https://localhost:8080/"
        }
      },
      "outputs": [
        {
          "output_type": "stream",
          "name": "stdout",
          "text": [
            "Projection of the original matrix:\n",
            " [[-1.74453448 -1.44372786 -2.16422698 ...  0.04136948  0.08763314\n",
            "  -0.49169461]\n",
            " [ 0.62223658  0.49117863  0.13352266 ... -0.47499948  0.36967462\n",
            "  -0.38769783]\n",
            " [-0.64701057 -1.08115659 -0.39157213 ... -0.60731136  0.39256223\n",
            "   1.03646263]\n",
            " ...\n",
            " [-0.81413697  1.67337571  0.77139075 ...  0.98860416 -1.56954208\n",
            "   0.04683507]\n",
            " [ 1.46535949 -0.93546551 -0.39705611 ... -0.64164019  0.40521065\n",
            "  -0.0545075 ]\n",
            " [ 0.9935644   0.36895764 -0.17597071 ... -0.64144046  0.05838336\n",
            "  -0.46921897]]\n"
          ]
        }
      ],
      "source": [
        "transformed_X_train = pca.transform(X_train)\n",
        "print('Projection of the original matrix:\\n',transformed_X_train)"
      ]
    },
    {
      "cell_type": "code",
      "execution_count": null,
      "id": "touched-hartford",
      "metadata": {
        "id": "touched-hartford"
      },
      "outputs": [],
      "source": [
        "transformed_X_test = pca.transform(X_test)"
      ]
    },
    {
      "cell_type": "code",
      "execution_count": null,
      "id": "given-status",
      "metadata": {
        "id": "given-status",
        "outputId": "3c0c562d-a861-42f4-d830-ae3c1fdab7dc",
        "colab": {
          "base_uri": "https://localhost:8080/"
        }
      },
      "outputs": [
        {
          "output_type": "execute_result",
          "data": {
            "text/plain": [
              "12"
            ]
          },
          "metadata": {},
          "execution_count": 97
        }
      ],
      "source": [
        "len(transformed_X_test[0])"
      ]
    },
    {
      "cell_type": "code",
      "execution_count": null,
      "id": "unusual-poultry",
      "metadata": {
        "id": "unusual-poultry"
      },
      "outputs": [],
      "source": [
        "logreg = LogisticRegression()\n",
        "logreg.fit(transformed_X_train, y_train)\n",
        "y_pred = logreg.predict(transformed_X_test)"
      ]
    },
    {
      "cell_type": "code",
      "execution_count": null,
      "id": "respective-pressing",
      "metadata": {
        "id": "respective-pressing",
        "outputId": "ad210bb9-5033-4829-8e71-1abf8a27d77c",
        "colab": {
          "base_uri": "https://localhost:8080/"
        }
      },
      "outputs": [
        {
          "output_type": "stream",
          "name": "stdout",
          "text": [
            "Best: 0.824719 using {'C': 1.0, 'penalty': 'l2', 'solver': 'sag'}\n",
            "\n",
            "0.824646 (0.006090) with: {'C': 100, 'penalty': 'l2', 'solver': 'newton-cg'}\n",
            "0.824646 (0.006090) with: {'C': 100, 'penalty': 'l2', 'solver': 'lbfgs'}\n",
            "0.824646 (0.006090) with: {'C': 100, 'penalty': 'l2', 'solver': 'liblinear'}\n",
            "0.824661 (0.006075) with: {'C': 100, 'penalty': 'l2', 'solver': 'sag'}\n",
            "0.824661 (0.006098) with: {'C': 100, 'penalty': 'l2', 'solver': 'saga'}\n",
            "0.824661 (0.006122) with: {'C': 10, 'penalty': 'l2', 'solver': 'newton-cg'}\n",
            "0.824661 (0.006122) with: {'C': 10, 'penalty': 'l2', 'solver': 'lbfgs'}\n",
            "0.824661 (0.006122) with: {'C': 10, 'penalty': 'l2', 'solver': 'liblinear'}\n",
            "0.824632 (0.006118) with: {'C': 10, 'penalty': 'l2', 'solver': 'sag'}\n",
            "0.824646 (0.006135) with: {'C': 10, 'penalty': 'l2', 'solver': 'saga'}\n",
            "0.824690 (0.006177) with: {'C': 1.0, 'penalty': 'l2', 'solver': 'newton-cg'}\n",
            "0.824705 (0.006162) with: {'C': 1.0, 'penalty': 'l2', 'solver': 'lbfgs'}\n",
            "0.824661 (0.006132) with: {'C': 1.0, 'penalty': 'l2', 'solver': 'liblinear'}\n",
            "0.824719 (0.006169) with: {'C': 1.0, 'penalty': 'l2', 'solver': 'sag'}\n",
            "0.824690 (0.006147) with: {'C': 1.0, 'penalty': 'l2', 'solver': 'saga'}\n",
            "0.824632 (0.006185) with: {'C': 0.1, 'penalty': 'l2', 'solver': 'newton-cg'}\n",
            "0.824632 (0.006185) with: {'C': 0.1, 'penalty': 'l2', 'solver': 'lbfgs'}\n",
            "0.824661 (0.006087) with: {'C': 0.1, 'penalty': 'l2', 'solver': 'liblinear'}\n",
            "0.824602 (0.006123) with: {'C': 0.1, 'penalty': 'l2', 'solver': 'sag'}\n",
            "0.824632 (0.006185) with: {'C': 0.1, 'penalty': 'l2', 'solver': 'saga'}\n",
            "0.823813 (0.005571) with: {'C': 0.01, 'penalty': 'l2', 'solver': 'newton-cg'}\n",
            "0.823813 (0.005571) with: {'C': 0.01, 'penalty': 'l2', 'solver': 'lbfgs'}\n",
            "0.824017 (0.005650) with: {'C': 0.01, 'penalty': 'l2', 'solver': 'liblinear'}\n",
            "0.823798 (0.005586) with: {'C': 0.01, 'penalty': 'l2', 'solver': 'sag'}\n",
            "0.823827 (0.005576) with: {'C': 0.01, 'penalty': 'l2', 'solver': 'saga'}\n"
          ]
        }
      ],
      "source": [
        "from sklearn.model_selection import RepeatedStratifiedKFold\n",
        "from sklearn.model_selection import GridSearchCV\n",
        "solvers = ['newton-cg', 'lbfgs', 'liblinear','sag', 'saga'] # Solver algorithms used to solve logistic regression as an optimisation problem\n",
        "penalty = ['l2'] # Regularization is a way to avoid overfitting by penalizing high-valued regression coefficients. It reduces parameters and shrinks (simplifies) the model. \n",
        "c_values = [100, 10, 1.0, 0.1, 0.01] # Parameter - Inverse of regularization strength and Smaller values have more regularization\n",
        "\n",
        "grid = dict(solver=solvers,penalty=penalty,C=c_values)\n",
        "cv = RepeatedStratifiedKFold(n_splits=10, n_repeats=3, random_state=1) # Repeats Stratified K-Fold n times with different randomization in each repetition\n",
        "grid_search = GridSearchCV(estimator=logreg, param_grid=grid, n_jobs=-1, cv=cv, scoring='accuracy',error_score=0)\n",
        "grid_result = grid_search.fit(transformed_X_train, y_train)\n",
        "\n",
        "print(\"Best: %f using %s\\n\" % (grid_result.best_score_, grid_result.best_params_)) # Showing the best result and saving the other results and printing them\n",
        "means = grid_result.cv_results_['mean_test_score']\n",
        "stds = grid_result.cv_results_['std_test_score']\n",
        "params = grid_result.cv_results_['params']\n",
        "for mean, stdev, param in zip(means, stds, params):\n",
        "    print(\"%f (%f) with: %r\" % (mean, stdev, param))"
      ]
    },
    {
      "cell_type": "code",
      "execution_count": null,
      "id": "professional-ordinary",
      "metadata": {
        "id": "professional-ordinary",
        "outputId": "eedc19a6-1f6a-45e4-8a8e-63cb92581a7d",
        "colab": {
          "base_uri": "https://localhost:8080/"
        }
      },
      "outputs": [
        {
          "output_type": "execute_result",
          "data": {
            "text/plain": [
              "GridSearchCV(cv=RepeatedStratifiedKFold(n_repeats=3, n_splits=10, random_state=1),\n",
              "             error_score=0, estimator=LogisticRegression(), n_jobs=-1,\n",
              "             param_grid={'C': [100, 10, 1.0, 0.1, 0.01], 'penalty': ['l2'],\n",
              "                         'solver': ['newton-cg', 'lbfgs', 'liblinear', 'sag',\n",
              "                                    'saga']},\n",
              "             scoring='accuracy')"
            ]
          },
          "metadata": {},
          "execution_count": 48
        }
      ],
      "source": [
        "grid_result"
      ]
    },
    {
      "cell_type": "code",
      "execution_count": null,
      "id": "tired-ethnic",
      "metadata": {
        "id": "tired-ethnic",
        "outputId": "59a1748d-ea49-4cbc-95dc-526b66db8aaa",
        "colab": {
          "base_uri": "https://localhost:8080/"
        }
      },
      "outputs": [
        {
          "output_type": "execute_result",
          "data": {
            "text/plain": [
              "LogisticRegression()"
            ]
          },
          "metadata": {},
          "execution_count": 49
        }
      ],
      "source": [
        "grid_result.best_estimator_"
      ]
    },
    {
      "cell_type": "code",
      "execution_count": null,
      "id": "sustained-balloon",
      "metadata": {
        "id": "sustained-balloon"
      },
      "outputs": [],
      "source": [
        "final_model = grid_result.best_estimator_"
      ]
    },
    {
      "cell_type": "markdown",
      "id": "sacred-shakespeare",
      "metadata": {
        "id": "sacred-shakespeare"
      },
      "source": [
        "Evaluation "
      ]
    },
    {
      "cell_type": "code",
      "execution_count": null,
      "id": "israeli-maple",
      "metadata": {
        "id": "israeli-maple",
        "outputId": "fb1a5eab-564a-4dde-e757-7112ac3727af",
        "colab": {
          "base_uri": "https://localhost:8080/"
        }
      },
      "outputs": [
        {
          "output_type": "stream",
          "name": "stdout",
          "text": [
            "Classification Report\n",
            "               precision    recall  f1-score   support\n",
            "\n",
            "           0       0.84      0.95      0.89      7410\n",
            "           1       0.72      0.43      0.54      2359\n",
            "\n",
            "    accuracy                           0.82      9769\n",
            "   macro avg       0.78      0.69      0.71      9769\n",
            "weighted avg       0.81      0.82      0.80      9769\n",
            "\n",
            "Confusion Matrix\n",
            " [[7010  400]\n",
            " [1350 1009]]\n",
            "Accuracy: 0.8208619101238612\n"
          ]
        }
      ],
      "source": [
        "pred = final_model.predict(transformed_X_test)\n",
        "print('Classification Report\\n',classification_report(y_test, pred))\n",
        "print('Confusion Matrix\\n',confusion_matrix(y_test, pred))\n",
        "print(\"Accuracy:\",metrics.accuracy_score(y_test, pred))"
      ]
    },
    {
      "cell_type": "markdown",
      "source": [
        "###Conclusion - \n",
        "- From 14 features, if only first 12 are taken then the accuracy was found to be the highest(82.27%)\n",
        "- Precision of 84% for target class 0 and 72% for target class 1 was obtained. \n",
        "- A recall of 95% was observed for target class 0 \n",
        "- Out of 9769 test set, 7010 were correctly classified as positives(True Positive)\n",
        "- Type I  error was observed for 400 test cases and Type II error for 1350 cases. "
      ],
      "metadata": {
        "id": "3EU7I0-vqiw6"
      },
      "id": "3EU7I0-vqiw6"
    }
  ],
  "metadata": {
    "kernelspec": {
      "display_name": "Python 3",
      "language": "python",
      "name": "python3"
    },
    "language_info": {
      "codemirror_mode": {
        "name": "ipython",
        "version": 3
      },
      "file_extension": ".py",
      "mimetype": "text/x-python",
      "name": "python",
      "nbconvert_exporter": "python",
      "pygments_lexer": "ipython3",
      "version": "3.7.9"
    },
    "colab": {
      "name": "DS-Exp2.ipynb",
      "provenance": [],
      "include_colab_link": true
    }
  },
  "nbformat": 4,
  "nbformat_minor": 5
}